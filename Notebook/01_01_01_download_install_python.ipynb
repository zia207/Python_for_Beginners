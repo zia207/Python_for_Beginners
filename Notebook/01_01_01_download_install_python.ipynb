{
  "cells": [
    {
      "cell_type": "markdown",
      "metadata": {
        "id": "view-in-github",
        "colab_type": "text"
      },
      "source": [
        "<a href=\"https://colab.research.google.com/github/zia207/python-colab/blob/main/NoteBook/Python_for_Beginners/01-01-01-download-install-python.ipynb\" target=\"_parent\"><img src=\"https://colab.research.google.com/assets/colab-badge.svg\" alt=\"Open In Colab\"/></a>"
      ]
    },
    {
      "cell_type": "markdown",
      "metadata": {
        "id": "ysCFtZdBl3TQ"
      },
      "source": [
        "![alt text](http://drive.google.com/uc?export=view&id=1IFEWet-Aw4DhkkVe1xv_2YYqlvRe9m5_)"
      ]
    },
    {
      "cell_type": "markdown",
      "metadata": {
        "id": "nDm5f9IBl3TQ"
      },
      "source": [
        "# 1.1 Download and Installation of Python"
      ]
    },
    {
      "cell_type": "markdown",
      "metadata": {
        "id": "jZVjs530l3TR"
      },
      "source": [
        "## Introduction\n",
        "\n",
        "To begin exploring the vast capabilities of Python, you first need to download and install it on your computer. This tutorial will walk you through the process of installing Python on Windows, Linux, and MacOS operating systems. Whether you are a complete beginner or an experienced developer setting up Python on a new machine, our step-by-step instructions will help you complete the installation process smoothly.\n",
        "\n",
        "No prior programming experience is required to follow along with this tutorial. We will explain every step in detail and provide helpful tips to resolve any common issues that may arise during the installation process.\n",
        "\n",
        "At the end of this tutorial, you will have Python installed on your computer, and you will be ready to start writing your first Python programs. So, let's dive into this exciting journey into the world of Python programming!"
      ]
    },
    {
      "cell_type": "markdown",
      "metadata": {
        "id": "IBZ3CEWMl3TR"
      },
      "source": [
        "## Python\n",
        "\n",
        "The basic functionality and capabilities of the Python language are provided by the Python interpreter and essential libraries and modules that come bundled with the standard distribution of Python, also known as Base Python.\n",
        "\n",
        "![](Image/python_logo.jpeg)\n",
        "\n",
        "When you download and install Python from the official Python website (https://www.python.org/), you'll be getting the base Python distribution, which includes the Python interpreter, standard libraries, development tools, and documentation.\n",
        "\n"
      ]
    },
    {
      "cell_type": "markdown",
      "metadata": {
        "id": "mpOJqjwtl3TS"
      },
      "source": [
        "Here's a short guide on downloading and installing Python on Windows, Linux, and MacOS:\n",
        "\n",
        "**Windows:**\n",
        "\n",
        "1. **Download Python:**\n",
        "   - Visit the official Python website (https://www.python.org/downloads/) and click on the latest version of Python available for Windows.\n",
        "   - Choose the installer appropriate for your system (32-bit or 64-bit).\n",
        "\n",
        "2. **Run the Installer:**\n",
        "   - Once the download is complete, locate the downloaded file and double-click to run it.\n",
        "   - Follow the installation wizard instructions.\n",
        "   - Make sure to check the box that says \"Add Python X.X to PATH\" during installation to allow Python to be accessible from the command line.\n",
        "\n",
        "3. **Verification:**\n",
        "   - Open Command Prompt by searching for \"cmd\" in the Start menu.\n",
        "   - Type `python --version` and press Enter. You should see the installed Python version.\n",
        "\n",
        "**Linux:**\n",
        "\n",
        "1. **Using Package Manager:**\n",
        "   - Most Linux distributions come with Python pre-installed. To ensure you have the latest version, open the terminal and use your package manager's command to install Python.\n",
        "   - For Debian/Ubuntu-based systems: `sudo apt-get install python3`\n",
        "   - For Fedora: `sudo dnf install python3`\n",
        "   - For CentOS: `sudo yum install python3`\n",
        "\n",
        "2. **Verification:**\n",
        "   - Open a terminal and type `python3 --version` to verify the installation.\n",
        "\n",
        "**MacOS:**\n",
        "\n",
        "1. **Using Homebrew (optional but recommended):**\n",
        "   - If you have Homebrew installed, you can easily install Python by running `brew install python3` in the terminal.\n",
        "\n",
        "2. **Downloading from Python website:**\n",
        "   - Alternatively, you can download the macOS installer from the Python website.\n",
        "   - Visit the official Python website (https://www.python.org/downloads/) and download the macOS installer.\n",
        "\n",
        "3. **Run the Installer:**\n",
        "   - Locate the downloaded file and double-click to run the installer.\n",
        "   - Follow the installation wizard instructions.\n",
        "\n",
        "4. **Verification:**\n",
        "   - Open Terminal and type `python3 --version` to verify the installation.\n",
        "\n",
        "Remember, Python 2 is no longer supported as of January 1, 2020. It's recommended to install Python 3.x versions for all new projects."
      ]
    },
    {
      "cell_type": "markdown",
      "metadata": {
        "id": "oTYYk_Ewl3TS"
      },
      "source": [
        "## Anaconda Python\n",
        "\n",
        "Anaconda is a popular distribution of the Python programming language that is specifically designed for tasks related to data science and machine learning. It includes a comprehensive suite of pre-installed packages and tools that are commonly used in data analysis, scientific computing, and machine learning projects. Anaconda also comes equipped with the `conda` package manager, which simplifies the process of installing, updating, and managing additional packages.\n",
        "\n",
        "\n",
        "![](Image/anaconda.png)\n",
        "\n",
        "Anaconda is a popular distribution of Python, specifically designed for data science and machine learning tasks. It comes with a comprehensive collection of pre-installed packages and tools that are commonly used in data analysis, scientific computing, and machine learning projects. Anaconda also includes the conda package manager, which makes it easy to install, update, and manage additional packages.\n",
        "\n",
        "Here's how you can install Anaconda on Windows, Linux, and MacOS:\n",
        "\n",
        "**Windows:**\n",
        "\n",
        "1. **Download Anaconda:**\n",
        "   - Visit the Anaconda website (https://www.anaconda.com/products/distribution) and download the appropriate installer for Windows.\n",
        "   - Choose between the graphical installer (Anaconda Navigator) or the command-line installer (Miniconda). The graphical installer is recommended for most users.\n",
        "\n",
        "2. **Run the Installer:**\n",
        "   - Once the download is complete, locate the downloaded file and double-click to run it.\n",
        "   - Follow the installation wizard instructions. You can choose the installation location and whether to add Anaconda to your PATH environment variable.\n",
        "\n",
        "3. **Verification:**\n",
        "   - After installation, you can open Anaconda Navigator from the Start menu or use Anaconda Prompt to start using Anaconda.\n",
        "\n",
        "**Linux:**\n",
        "\n",
        "1. **Download Anaconda:**\n",
        "   - Visit the Anaconda website (https://www.anaconda.com/products/distribution) and download the appropriate installer for Linux.\n",
        "   - Choose between the graphical installer (Anaconda Navigator) or the command-line installer (Miniconda). The command-line installer is often preferred for Linux systems.\n",
        "\n",
        "2. **Run the Installer:**\n",
        "   - Open a terminal and navigate to the directory where the downloaded installer is located.\n",
        "   - Run the installer script using the following command:\n",
        "     ```\n",
        "     bash Anaconda3-20xx.xx-Linux-x86_64.sh\n",
        "     ```\n",
        "   - Follow the installation wizard instructions. You can choose the installation location and whether to add Anaconda to your PATH environment variable.\n",
        "\n",
        "3. **Verification:**\n",
        "   - After installation, you can open Anaconda Navigator from the terminal by typing `anaconda-navigator` or use Anaconda Prompt to start using Anaconda.\n",
        "\n",
        "**MacOS:**\n",
        "\n",
        "1. **Download Anaconda:**\n",
        "   - Visit the Anaconda website (https://www.anaconda.com/products/distribution) and download the appropriate installer for MacOS.\n",
        "\n",
        "2. **Run the Installer:**\n",
        "   - Once the download is complete, locate the downloaded file and double-click to run it.\n",
        "   - Follow the installation wizard instructions. You can choose the installation location and whether to add Anaconda to your PATH environment variable.\n",
        "\n",
        "3. **Verification:**\n",
        "   - After installation, you can open Anaconda Navigator from the Launchpad or use Anaconda Prompt to start using Anaconda.\n",
        "\n",
        "Once installed, you can start using Anaconda to manage Python environments, install packages, and work on your data science and machine learning projects."
      ]
    },
    {
      "cell_type": "markdown",
      "metadata": {
        "id": "eOiPaOZVl3TT"
      },
      "source": [
        "## Python Package Manager\n",
        "\n",
        "### pip\n",
        "\n",
        "Both `pip` and `conda` are package managers used in the Python ecosystem, but they have different purposes and functionalitie.\n",
        "\n",
        "`pip` is the default package manager for Python. It is used to install, upgrade, and manage Python packages from the Python Package Index (PyPI) and other repositories.You can use `pip` to install packages globally or within a specific Python environment. It installs packages directly into the Python environment without considering dependencies from other non-Python libraries. You can check its version by running\n",
        "\n",
        "```\n",
        "pip --version.\n",
        "```\n",
        "If it's not installed or you want to upgrade it, follow these steps:\n",
        "\n",
        "``\n",
        "python get-pip.py\n",
        "``\n",
        "You can install `pip` using the package manager:\n",
        "\n",
        "```\n",
        "sudo apt update\n",
        "sudo apt install python3-pip\n",
        "```\n",
        "\n",
        "The basic syntax for installing packages with `pip` is:\n",
        "  \n",
        "  ```\n",
        "  pip install package_name\n",
        "  ```\n",
        "\n",
        "### conda\n",
        "\n",
        "conda` is a cross-platform package manager and environment management system primarily used with Anaconda distribution. It installs not only Python packages but also non-Python libraries and dependencies. It is used to create, manage, and switch between different Python environments containing different sets of packages and dependencies. It also handles non-Python libraries and binaries, making it more suitable for data science and scientific computing.\n",
        "\n",
        "To update conda to the latest version, you can use the following command in your terminal or command prompt:\n",
        "\n",
        " ```\n",
        "conda update conda\n",
        " ```\n",
        "To install a package into a `conda` environment, you can use:\n",
        "```\n",
        "conda install package_name\n",
        "```\n",
        "\n",
        "**Key Differences between pip and conda:**\n",
        "\n",
        "- `pip` installs packages from PyPI and other Python package repositories, while `conda` installs packages from Anaconda repository, as well as PyPI and other sources.\n",
        "\n",
        "- `pip` installs only Python packages, while `conda` installs both Python and non-Python packages, making it more versatile.\n",
        "\n",
        "- `conda` provides robust environment management capabilities, allowing you to create isolated Python environments with specific package dependencies, while `pip` focuses primarily on package installation within a single Python environment.\n",
        "\n",
        "In summary, `pip` is the standard package manager for Python packages, while `conda` is more geared towards managing environments and handling a wider range of dependencies, making it particularly useful for data science and scientific computing projects."
      ]
    },
    {
      "cell_type": "markdown",
      "metadata": {
        "id": "31Z9eoAsl3TT"
      },
      "source": [
        "## Vertual Envrionment\n",
        "\n",
        "Virtualenv\" is a software that helps in creating separated Python environments. These environments are not attached to the Python installation on your system and have their own set of packages and dependencies. This isolation allows you to work on multiple projects with different requirements without worrying about compatibility issues or affecting other projects.\n",
        "\n",
        "To use virtualenv, you first need to install it using `pip.`\n",
        "\n",
        "```\n",
        "python3 -m pip install --user virtualenv\n",
        "```\n",
        "Once installed, you can create a new virtual environment by running:\n",
        "\n",
        "\n",
        "```\n",
        "python3 -m venv  myenv\n",
        "```\n",
        "Replace myenv with the desired name for your virtual environment. After creating the virtual environment, you can activate it:\n",
        "\n",
        "```\n",
        "myenv\\Scripts\\activate\n",
        "```\n",
        "On Unix or MacOS:\n",
        "\n",
        "```\n",
        "source myenv/bin/activate\n",
        "```\n",
        "Once activated, your shell prompt will change to indicate that you are now working within the virtual environment. You can then use pip to install packages, and they will be installed only within the virtual environment.\n",
        "\n",
        "To deactivate the virtual environment and return to the system-wide Python installation, you can simply run:\n",
        "\n",
        "```\n",
        "deactivate\n",
        "```"
      ]
    },
    {
      "cell_type": "markdown",
      "metadata": {
        "id": "CrSsLX2Tl3TT"
      },
      "source": [
        "## Conda Envrionment\n",
        "\n",
        "A Conda environment is a directory that contains a particular version of Python, as well as a group of packages and their dependencies. Conda is a widely used package manager and environment management system, mainly used for Python, but it also supports other programming languages. It enables you to create, manage, and switch between different environments with different sets of dependencies easily.\n",
        "\n",
        "Open a terminal or command prompt, and use the following command to create a new Conda environment:\n",
        "\n",
        "```\n",
        "conda create --name myenv\n",
        "```\n",
        "You can also specify which version of Python you want to use in the environment by adding the python parameter:\n",
        "\n",
        "```\n",
        "conda create --name myenv python=3.9\n",
        "```\n",
        "You can install additional packages into the environment at the time of creation by specifying them after the environment name:\n",
        "\n",
        "```\n",
        "conda create --name myenv python=3.9 numpy pandas\n",
        "```\n",
        "Once the environment is created, you can activate it using the following command:\n",
        "\n",
        "```\n",
        "conda activate myenv\n",
        "```\n",
        "You can deactivate the environment at any time by running:\n",
        "\n",
        "```\n",
        "conda deactivate\n",
        "```\n",
        "You can view a list of all created Conda environments using the command:\n",
        "\n",
        "```\n",
        "conda env list\n",
        "```\n",
        "\n",
        "To remove an environment, you can use the following command:\n",
        "\n",
        "```\n",
        "conda env remove --name myenv\n",
        "```"
      ]
    },
    {
      "cell_type": "markdown",
      "metadata": {
        "id": "3Gk5X7sIl3TU"
      },
      "source": [
        "## Python’s Integrated Development and Learning Environment (IDLE)\n",
        "\n",
        "\"IDLE\" is an abbreviation for \"Integrated Development and Learning Environment.\" It is a software tool that helps with Python programming by providing an integrated development environment (IDE). With IDLE, you can easily develop Python programs using a user-friendly interface and a range of tools. Whether you are new to programming or an experienced developer, IDLE can be a great tool to help you improve your Python coding skills.\n",
        "\n",
        "Here are some key features of IDLE:\n",
        "\n",
        "1. **Code Editor:** IDLE includes a built-in code editor with features like syntax highlighting, automatic indentation, and code completion, which help improve coding efficiency and readability.\n",
        "\n",
        "2. **Interactive Shell:** IDLE comes with an interactive Python shell, allowing users to execute Python code line by line and see immediate results. This feature is particularly useful for testing code snippets and exploring Python syntax and functionality.\n",
        "\n",
        "3. **Debugger:** IDLE includes a debugger tool that allows users to set breakpoints, step through code, and inspect variables, helping identify and fix errors and bugs in Python programs.\n",
        "\n",
        "4. **File Browser:** IDLE provides a file browser that allows users to navigate files and directories, create new Python scripts, and open existing files for editing.\n",
        "\n",
        "5. **Integrated Documentation:** IDLE includes built-in documentation and help features, allowing users to access Python documentation directly within the IDE, making it easier to find information about Python modules, functions, and classes.\n",
        "\n",
        "\n",
        "IDLE typically comes pre-installed with the standard Python distribution on Ubuntu. However, if for some reason it's not installed or you want to ensure you have the latest version, you can install it using the package manager.\n",
        "\n",
        "```\n",
        "sudo apt install idle3\n",
        "```\n",
        "To open IDLE, type the word idle on the terminal and run it.\n",
        "\n",
        "```\n",
        "idle\n",
        "```\n",
        "![](Image/python_idle.png)"
      ]
    },
    {
      "cell_type": "markdown",
      "metadata": {
        "id": "eu7EtEJdl3TU"
      },
      "source": [
        "## Code Editors\n",
        "\n",
        "A code editor for Python is designed to help programmers write, edit, and manage Python code more efficiently. Although Python code can technically be written in any text editor, a dedicated code editor offers additional features that can enhance the development experience and productivity of Python programmers.\n",
        "\n",
        "\n",
        "A Python code editor is a software tool specifically designed for writing, editing, and managing Python code. While Python code can technically be written in any text editor, a dedicated code editor offers features that enhance the development experience and productivity of Python programmers. Some common features of Python code editors include:\n",
        "\n",
        "1. **Syntax Highlighting:** Python code editors typically provide syntax highlighting, which colorizes different elements of the code (such as keywords, strings, comments, etc.) to improve readability and make it easier to spot errors.\n",
        "\n",
        "2. **Code Autocompletion:** Autocompletion suggests completions for keywords, variable names, function names, and other code elements as you type, speeding up the coding process and reducing typos and errors.\n",
        "\n",
        "3. **Code Folding:** Code folding allows you to collapse and expand blocks of code (such as functions, loops, and conditional statements) to focus on specific sections of your code and reduce clutter.\n",
        "\n",
        "4. **Linting and Error Checking:** Python code editors often include built-in linting and error checking tools that analyze your code for syntax errors, style violations, and potential bugs in real-time, helping you catch and fix issues before running your code.\n",
        "\n",
        "5. **Debugging Support:** Some Python code editors offer integrated debugging tools that allow you to set breakpoints, step through code execution, inspect variables, and analyze program state to debug Python code efficiently.\n",
        "\n",
        "6. **Version Control Integration:** Integration with version control systems like Git allows you to manage changes to your code, track revisions, and collaborate with other developers more effectively.\n",
        "\n",
        "7. **Extensions and Plugins:** Many Python code editors support extensions or plugins that extend their functionality, allowing you to customize the editor to your specific needs and integrate with additional tools and services.\n",
        "\n",
        "Some popular Python code editors or IDE include:\n",
        "\n",
        "- [Visual Studio Code (VSCode)](https://code.visualstudio.com/): A lightweight, cross-platform code editor developed by Microsoft with a rich set of features and a large ecosystem of extensions.\n",
        "\n",
        "- [PyCharm](https://www.jetbrains.com/pycharm/): A full-featured integrated development environment (IDE) developed by JetBrains specifically for Python development, offering advanced features for code analysis, refactoring, and debugging.\n",
        "\n",
        "- [Sublime Text](https://www.sublimetext.com/): A highly customizable and extensible text editor known for its speed and responsiveness, with a large library of community-developed plugins.\n",
        "\n",
        "- [Atom](https://tvdboom.github.io/ATOM/v5.2/): An open-source, hackable text editor developed by GitHub with built-in Git integration and a thriving ecosystem of packages and themes.\n",
        "\n",
        "- [Spyder](https://www.spyder-ide.org/): An open-source scientific IDE designed for scientific computing and data analysis with Python, featuring an interactive console, variable explorer, and integration with popular scientific libraries.\n",
        "\n",
        "Ultimately, the best Python code editor for you will depend on your personal preferences, workflow, and specific requirements for your Python projects."
      ]
    },
    {
      "cell_type": "markdown",
      "metadata": {
        "id": "rh84dgyAl3TV"
      },
      "source": [
        "## Summary and Conclusion\n",
        "\n",
        "This tutorial aims to provide a comprehensive guide for downloading and installing Python and Anaconda Python, which are both essential tools for statistical computing and data analysis. The guide is designed to help individuals who want to start their journey into data science by providing a strong foundation.\n",
        "\n",
        "The guide emphasizes the importance of selecting the correct version of Python suitable for the operating system and walks the user through the download and installation process. Additionally, the tutorial provides step-by-step instructions for installing Visual Studio and Jupyter Note Lab, which is an integrated development environment (IDE) that enhances the coding experience through features such as script editing, visualization, and package management.\n",
        "\n",
        "By following this guide and successfully installing these software tools, the user will have a fully functional Python environment, which will enable them to tackle data science projects with ease.\n"
      ]
    },
    {
      "cell_type": "markdown",
      "metadata": {
        "id": "2UHWeZQkl3TV"
      },
      "source": [
        "\n",
        "1. [Python Setup and Usage](https://docs.python.org/3/using/index.html)\n",
        "\n",
        "2. [Anaconda Installation](https://docs.anaconda.com/free/anaconda/install/index.html)\n",
        "\n",
        "3. [venv — Creation of virtual environments](https://docs.python.org/3/library/venv.html)\n",
        "\n",
        "4. [Virtual Environments and Packages](https://docs.python.org/3/tutorial/venv.html)\n",
        "\n",
        "5. [Managing environments](https://conda.io/projects/conda/en/latest/user-guide/tasks/manage-environments.html#)"
      ]
    }
  ],
  "metadata": {
    "kernelspec": {
      "display_name": "Python 3.10 (Geospatial)",
      "language": "python",
      "name": "pygeo"
    },
    "language_info": {
      "codemirror_mode": {
        "name": "ipython",
        "version": 3
      },
      "file_extension": ".py",
      "mimetype": "text/x-python",
      "name": "python",
      "nbconvert_exporter": "python",
      "pygments_lexer": "ipython3",
      "version": "3.10.12"
    },
    "colab": {
      "provenance": [],
      "include_colab_link": true
    }
  },
  "nbformat": 4,
  "nbformat_minor": 0
}