{
 "cells": [
  {
   "cell_type": "markdown",
   "metadata": {},
   "source": [
    "<a href=\"https://github.com/zia207/python-colab/blob/main/NoteBook/Python_for_Beginners/01-04-01-descriptive-statistics-python.ipynb\" target=\"_parent\"><img src=\"https://colab.research.google.com/assets/colab-badge.svg\" alt=\"Open In Colab\"/></a>"
   ]
  },
  {
   "cell_type": "markdown",
   "metadata": {},
   "source": [
    "![alt text](http://drive.google.com/uc?export=view&id=1IFEWet-Aw4DhkkVe1xv_2YYqlvRe9m5_)"
   ]
  },
  {
   "cell_type": "markdown",
   "metadata": {},
   "source": [
    "# 4.1 Descriptive Statistics \n"
   ]
  },
  {
   "cell_type": "markdown",
   "metadata": {},
   "source": [
    "This tutorial provides a comprehensive introduction to **descriptive statistics** using the Python programming language. It covers essential concepts such as mean, median, mode, range, variance, standard deviation, quantiles, and interquartile range (IQR). By the end of this tutorial, you will be able to compute and interpret these fundamental statistical measures using real-world data in Python — ideal for beginners and those refreshing their skills.\n",
    "\n",
    "> 💡 *Note: While R is widely used in statistics, Python offers powerful, flexible tools for data analysis. This guide bridges the gap by translating R-based descriptive statistics into Python equivalents.*"
   ]
  },
  {
   "cell_type": "markdown",
   "metadata": {},
   "source": [
    "## Introduction\n",
    "\n",
    "**Descriptive Statistics** is the branch of statistics focused on summarizing and describing the main features of a dataset. It helps answer questions like:\n",
    "- What is the typical value? *(Central Tendency)*\n",
    "- How spread out are the values? *(Dispersion)*\n",
    "- Are there extreme or unusual values? *(Outliers)*\n",
    "\n",
    "Key measures include:\n",
    "- **Mean**, **Median**, **Mode** → Central tendency\n",
    "- **Range**, **Variance**, **Standard Deviation**, **IQR** → Dispersion\n",
    "- **Quantiles** → Distribution shape\n",
    "\n",
    "These metrics enable data analysts to make sense of raw numbers, detect patterns, and communicate insights effectively — without advanced modeling.\n",
    "\n",
    "We'll use the **rice arsenic dataset** (same as in the R tutorial) to demonstrate all concepts with real data."
   ]
  },
  {
   "cell_type": "markdown",
   "metadata": {},
   "source": [
    "### Prerequisites\n",
    "\n",
    "Install the required packages:"
   ]
  },
  {
   "cell_type": "code",
   "execution_count": null,
   "metadata": {},
   "outputs": [],
   "source": [
    "import importlib.util\n",
    "import sys\n",
    "\n",
    "# List of required packages\n",
    "packages = ['pandas', 'scipy']\n",
    "\n",
    "# Check and install missing packages\n",
    "for package in packages:\n",
    "    if not importlib.util.find_spec(package):\n",
    "        try:\n",
    "            import pip\n",
    "            pip.main(['install', package])\n",
    "        except ImportError:\n",
    "            print(f\"Failed to install {package}. Pip is not available.\")\n",
    "\n",
    "# Import packages\n",
    "import pandas as pd\n",
    "import numpy as np\n",
    "from scipy import stats\n"
   ]
  },
  {
   "cell_type": "code",
   "execution_count": 2,
   "metadata": {},
   "outputs": [
    {
     "name": "stdout",
     "output_type": "stream",
     "text": [
      "pandas installed: True\n",
      "scipy installed: True\n"
     ]
    }
   ],
   "source": [
    "# Verify package availability\n",
    "for package in packages:\n",
    "    print(f\"{package} installed: {bool(importlib.util.find_spec(package))}\")"
   ]
  },
  {
   "cell_type": "markdown",
   "metadata": {},
   "source": [
    "## Data\n",
    "\n",
    "All data set use in this exercise can be downloaded from my [Dropbox](https://www.dropbox.com/scl/fo/fohioij7h503duitpl040/h?rlkey=3voumajiklwhgqw75fe8kby3o&dl=0) or from my [Github](https://github.com/zia207/python-colab/tree/main/Data/Python_for_Beginners/Data) accounts."
   ]
  },
  {
   "cell_type": "code",
   "execution_count": 4,
   "metadata": {},
   "outputs": [
    {
     "name": "stdout",
     "output_type": "stream",
     "text": [
      "   ID  TREAT_ID   TREAT   VAR          PH         TN         PN       ster  \\\n",
      "0   1         1  Low As  BR01  119.748701  16.701608  15.509622   1.121060   \n",
      "1   2         1  Low As  BR01   98.698244  27.946359  26.738585  11.272871   \n",
      "2   3         1  Low As  BR01  133.877538   6.416868   2.846243  15.267027   \n",
      "3   4         1  Low As  BR01  123.007192  20.932223  16.971565   4.953537   \n",
      "4   5         1  Low As  BR01   89.497158  25.957307  21.515372   3.814338   \n",
      "\n",
      "          DTM         GY         SW       GAs       STAs  \n",
      "0  116.688768  43.914848  24.449009  0.862644  15.237639  \n",
      "1  119.423068  47.813066  30.658419  0.844258  13.369586  \n",
      "2  121.314026  21.875951  25.888309  1.138247  16.652081  \n",
      "3  120.924087  48.439764  54.924009  1.044528  20.770175  \n",
      "4  115.363049  44.404465  57.380661  0.686414  13.670520  \n"
     ]
    }
   ],
   "source": [
    "# Load the dataset directly from GitHub\n",
    "url = \"https://github.com/zia207/python-colab/raw/refs/heads/main/Data/Python_for_Beginners/Data/rice_arsenic_data.csv\"\n",
    "df = pd.read_csv(url)\n",
    "\n",
    "# Display first few rows to inspect\n",
    "print(df.head())"
   ]
  },
  {
   "cell_type": "markdown",
   "metadata": {},
   "source": [
    "## Central Tendency\n",
    "\n",
    "**Central tendency** is a statistical measure that assists in describing the center point of a set of data values. This concept is used to identify a single value that is considered most representative of the entire distribution. By determining the central tendency, we can gain insights into the typical or common values in a dataset. **Mean**, **median**, and **mode** are the three most commonly used measures of central tendency."
   ]
  },
  {
   "cell_type": "markdown",
   "metadata": {},
   "source": [
    "### Mean\n",
    "\n",
    "The **mean** is the arithmetic average: sum of all values divided by count.\n",
    "\n",
    "$$ \\bar{X} = \\frac{\\sum_{i=1}^{n} X_i}{n} $$"
   ]
  },
  {
   "cell_type": "code",
   "execution_count": 5,
   "metadata": {},
   "outputs": [
    {
     "name": "stdout",
     "output_type": "stream",
     "text": [
      "Overall Mean Grain Yield: 28.6647\n",
      "\n",
      "Mean Grain Yield by Soil Treatment:\n",
      "TREAT\n",
      "High As     18.871414\n",
      "Low As      38.458018\n",
      "Name: GY, dtype: float64\n"
     ]
    }
   ],
   "source": [
    "# Overall mean of Grain Yield (GY)\n",
    "mean_gy = df['GY'].mean()\n",
    "print(f\"Overall Mean Grain Yield: {mean_gy:.4f}\")\n",
    "\n",
    "# Mean by soil treatment group (TREAT)\n",
    "mean_by_treat = df.groupby('TREAT')['GY'].mean()\n",
    "print(\"\\nMean Grain Yield by Soil Treatment:\")\n",
    "print(mean_by_treat)"
   ]
  },
  {
   "cell_type": "markdown",
   "metadata": {},
   "source": [
    "### Median\n",
    "\n",
    "The **median** is the middle value when data is sorted. It is robust to outliers.\n",
    "\n",
    "- Odd n: Middle value\n",
    "- Even n: Average of two middle values"
   ]
  },
  {
   "cell_type": "code",
   "execution_count": 6,
   "metadata": {},
   "outputs": [
    {
     "name": "stdout",
     "output_type": "stream",
     "text": [
      "\n",
      "Overall Median Grain Yield: 25.3143\n",
      "\n",
      "Median Grain Yield by Soil Treatment:\n",
      "TREAT\n",
      "High As     19.359651\n",
      "Low As      40.175253\n",
      "Name: GY, dtype: float64\n"
     ]
    }
   ],
   "source": [
    "# Overall median of GY\n",
    "median_gy = df['GY'].median()\n",
    "print(f\"\\nOverall Median Grain Yield: {median_gy:.4f}\")\n",
    "\n",
    "# Median by treatment group\n",
    "median_by_treat = df.groupby('TREAT')['GY'].median()\n",
    "print(\"\\nMedian Grain Yield by Soil Treatment:\")\n",
    "print(median_by_treat)"
   ]
  },
  {
   "cell_type": "markdown",
   "metadata": {},
   "source": [
    "### Mode\n",
    "\n",
    "The **mode** is the most frequently occurring value. A dataset can have one mode (unimodal), multiple modes (bimodal, multimodal), or none.\n",
    "\n",
    "Unlike R, Python doesn't have a built-in `mode()` function for Series, but we can use `scipy.stats.mode()` or `value_counts()`."
   ]
  },
  {
   "cell_type": "code",
   "execution_count": 7,
   "metadata": {},
   "outputs": [
    {
     "name": "stdout",
     "output_type": "stream",
     "text": [
      "\n",
      "Mode of Grain Arsenic (GAs): 0.5185 (appears 1 times)\n",
      "Mode (using value_counts()): 0.8626 (count: 1)\n",
      "Multiple modes detected: [0.862643879, 0.844258385, 1.138247093, 1.044528241, 0.68641388, 0.9225152, 1.302452808, 0.985652136, 1.139609472, 1.032997333, 0.711062061, 1.098613826, 1.118978628, 1.290582104, 0.706931607, 0.716082587, 0.995642265, 0.588732061, 1.042509245, 0.793278894, 1.030646539, 1.116202534, 0.996918642, 0.713206393, 0.795331639, 1.106555281, 0.750482555, 0.944611454, 0.88576913, 0.611179795, 1.029925896, 1.340014533, 0.685824516, 1.209130237, 1.101616079, 0.971423029, 1.336741548, 0.993895768, 0.866177598, 0.820737172, 1.064259831, 0.921350393, 0.926300101, 0.660773822, 0.872275622, 1.096326588, 1.199063986, 0.833851119, 1.161143832, 0.742567324, 0.89843001, 0.61145101, 0.9712233, 0.732986007, 1.013240029, 1.014000388, 0.976498636, 1.060269952, 1.211988075, 1.198825168, 1.118122344, 0.518545632, 0.884259688, 1.161992621, 1.075704098, 0.991279215, 0.94379689, 0.710718377, 0.829409773, 1.150868335, 1.623121658, 1.566054693, 1.842827655, 1.48966353, 1.65085034, 1.617926411, 2.190855365, 2.065044107, 2.361213653, 1.817147406, 1.916447327, 1.573503398, 1.32954032, 1.483831882, 1.204179731, 2.418012646, 1.907918863, 1.797437914, 1.256667365, 1.539144905, 1.516230711, 1.594436865, 1.595757999, 1.43217793, 2.139650504, 2.115482252, 1.961583931, 2.190474704, 1.626675863, 1.786321891, 2.146705257, 1.516631984, 2.012704979, 1.94782587, 0.816018708, 1.764720484, 1.746676373, 1.597373503, 1.505760312, 1.938602273, 1.774217602, 2.411910036, 1.818400419, 1.020815196, 2.02057042, 2.085908932, 2.119689197, 1.607295808, 1.60011286, 1.495164261, 2.063776312, 1.9480449, 1.303792456, 2.10833715, 1.772864929, 2.238235965, 1.038958158, 1.265809492, 1.485948883, 1.57458251, 1.563569349, 2.114638096, 2.06842904, 1.861059621, 1.841645211, 2.214412937, 1.913054904, 1.63039006, 1.746255938, 2.213443584]\n"
     ]
    }
   ],
   "source": [
    "# Using scipy.stats.mode (returns mode and count)\n",
    "mode_result = stats.mode(df['GAs'], keepdims=True)\n",
    "print(f\"\\nMode of Grain Arsenic (GAs): {mode_result.mode[0]:.4f} (appears {mode_result.count[0]} times)\")\n",
    "\n",
    "# Alternative: Using pandas value_counts()\n",
    "mode_pandas = df['GAs'].value_counts().idxmax()\n",
    "mode_count = df['GAs'].value_counts().max()\n",
    "print(f\"Mode (using value_counts()): {mode_pandas:.4f} (count: {mode_count})\")\n",
    "\n",
    "# Check if multiple modes exist\n",
    "value_counts = df['GAs'].value_counts()\n",
    "modes = value_counts[value_counts == value_counts.max()].index.tolist()\n",
    "if len(modes) > 1:\n",
    "    print(f\"Multiple modes detected: {modes}\")\n",
    "else:\n",
    "    print(\"Unimodal dataset.\")"
   ]
  },
  {
   "cell_type": "markdown",
   "metadata": {},
   "source": [
    "## Range\n",
    "\n",
    "The **range** is the difference between the maximum and minimum values. It gives a quick sense of spread.\n",
    "\n",
    "$$ \\text{Range} = \\max(X) - \\min(X) $$"
   ]
  },
  {
   "cell_type": "code",
   "execution_count": 8,
   "metadata": {},
   "outputs": [
    {
     "name": "stdout",
     "output_type": "stream",
     "text": [
      "\n",
      "Range of Grain Yield: 60.5873\n",
      "Range (using np.ptp()): 60.5873\n"
     ]
    }
   ],
   "source": [
    "# Calculate range using min and max\n",
    "range_gy = df['GY'].max() - df['GY'].min()\n",
    "print(f\"\\nRange of Grain Yield: {range_gy:.4f}\")\n",
    "\n",
    "# Alternative: using numpy's.ptp() (\"peak to peak\")\n",
    "range_gy_np = np.ptp(df['GY'])\n",
    "print(f\"Range (using np.ptp()): {range_gy_np:.4f}\")"
   ]
  },
  {
   "cell_type": "markdown",
   "metadata": {},
   "source": [
    "## Variance\n",
    "\n",
    "**Variance** measures how far each number in the set is from the mean. Higher variance = more spread.\n",
    "\n",
    "### Sample Variance (most common in practice):\n",
    "\n",
    "$$ s^2 = \\frac{\\sum_{i=1}^{n}(X_i - \\bar{X})^2}{n-1} $$"
   ]
  },
  {
   "cell_type": "code",
   "execution_count": 9,
   "metadata": {},
   "outputs": [
    {
     "name": "stdout",
     "output_type": "stream",
     "text": [
      "\n",
      "Sample Variance of Grain Yield: 180.5147\n",
      "Population Variance: 179.2253\n",
      "Manual sample variance: 180.5147\n"
     ]
    }
   ],
   "source": [
    "# Sample variance (default in pandas)\n",
    "var_gy = df['GY'].var()\n",
    "print(f\"\\nSample Variance of Grain Yield: {var_gy:.4f}\")\n",
    "\n",
    "# Population variance (divide by n instead of n-1)\n",
    "pop_var_gy = df['GY'].var(ddof=0)  # ddof=0 for population\n",
    "print(f\"Population Variance: {pop_var_gy:.4f}\")\n",
    "\n",
    "# Manual calculation (for verification)\n",
    "mean_gy_manual = df['GY'].mean()\n",
    "squared_diffs = (df['GY'] - mean_gy_manual)**2\n",
    "manual_var = squared_diffs.sum() / (len(df) - 1)  # sample variance\n",
    "print(f\"Manual sample variance: {manual_var:.4f}\")"
   ]
  },
  {
   "cell_type": "markdown",
   "metadata": {},
   "source": [
    "## Standard Deviation\n",
    "\n",
    "**Standard Deviation** is the square root of variance. It's expressed in the same units as the original data, making it more interpretable.\n",
    "\n",
    "$$ s = \\sqrt{s^2} $$"
   ]
  },
  {
   "cell_type": "code",
   "execution_count": 10,
   "metadata": {},
   "outputs": [
    {
     "name": "stdout",
     "output_type": "stream",
     "text": [
      "\n",
      "Sample Standard Deviation of Grain Yield: 13.4356\n",
      "Population Standard Deviation: 13.3875\n",
      "Verification (sqrt(var)): 13.4356\n"
     ]
    }
   ],
   "source": [
    "# Sample standard deviation\n",
    "std_gy = df['GY'].std()\n",
    "print(f\"\\nSample Standard Deviation of Grain Yield: {std_gy:.4f}\")\n",
    "\n",
    "# Population standard deviation\n",
    "pop_std_gy = df['GY'].std(ddof=0)\n",
    "print(f\"Population Standard Deviation: {pop_std_gy:.4f}\")\n",
    "\n",
    "# Verify: sqrt(variance)\n",
    "import math\n",
    "print(f\"Verification (sqrt(var)): {math.sqrt(var_gy):.4f}\")"
   ]
  },
  {
   "cell_type": "markdown",
   "metadata": {},
   "source": [
    "## Quantiles\n",
    "\n",
    "Quantiles divide data into equal parts. Common ones include quartiles (Q1, Q2, Q3), deciles, and percentiles."
   ]
  },
  {
   "cell_type": "code",
   "execution_count": 11,
   "metadata": {},
   "outputs": [
    {
     "name": "stdout",
     "output_type": "stream",
     "text": [
      "\n",
      "Quantiles of Grain Yield:\n",
      "25th percentile (Q1): 18.7201\n",
      "50th percentile (Median): 25.3143\n",
      "75th percentile (Q3): 39.9541\n",
      "\n",
      "All Quartiles:\n",
      "0.25    18.720147\n",
      "0.50    25.314346\n",
      "0.75    39.954118\n",
      "Name: GY, dtype: float64\n",
      "\n",
      "Deciles (0% to 100% in 10% steps):\n",
      "0.0     4.749097\n",
      "0.1    13.766805\n",
      "0.2    16.922771\n",
      "0.3    19.706930\n",
      "0.4    21.885601\n",
      "0.5    25.314346\n",
      "0.6    29.763025\n",
      "0.7    35.715022\n",
      "0.8    43.021497\n",
      "0.9    47.105559\n",
      "1.0    65.336384\n",
      "Name: GY, dtype: float64\n"
     ]
    }
   ],
   "source": [
    "# Specific quantiles\n",
    "q25 = df['GY'].quantile(0.25)\n",
    "q50 = df['GY'].quantile(0.50)  # same as median\n",
    "q75 = df['GY'].quantile(0.75)\n",
    "\n",
    "print(f\"\\nQuantiles of Grain Yield:\")\n",
    "print(f\"25th percentile (Q1): {q25:.4f}\")\n",
    "print(f\"50th percentile (Median): {q50:.4f}\")\n",
    "print(f\"75th percentile (Q3): {q75:.4f}\")\n",
    "\n",
    "# All quartiles at once\n",
    "quartiles = df['GY'].quantile([0.25, 0.5, 0.75])\n",
    "print(f\"\\nAll Quartiles:\\n{quartiles}\")\n",
    "\n",
    "# Deciles (10% intervals)\n",
    "deciles = df['GY'].quantile(np.arange(0, 1.1, 0.1))\n",
    "print(f\"\\nDeciles (0% to 100% in 10% steps):\\n{deciles}\")"
   ]
  },
  {
   "cell_type": "markdown",
   "metadata": {},
   "source": [
    "## Interquartile Range (IQR)\n",
    "\n",
    "The **IQR** is the range between the first (Q1) and third (Q3) quartiles. It's a robust measure of spread unaffected by outliers.\n",
    "\n",
    "$$ \\text{IQR} = Q3 - Q1 $$"
   ]
  },
  {
   "cell_type": "code",
   "execution_count": 12,
   "metadata": {},
   "outputs": [
    {
     "name": "stdout",
     "output_type": "stream",
     "text": [
      "\n",
      "Interquartile Range (IQR): 21.2340\n",
      "IQR (using scipy.stats.iqr): 21.2340\n",
      "\n",
      "Number of potential outliers (using 1.5*IQR rule): 0\n"
     ]
    }
   ],
   "source": [
    "# Method 1: Subtract quantiles manually\n",
    "iqr_value = q75 - q25\n",
    "print(f\"\\nInterquartile Range (IQR): {iqr_value:.4f}\")\n",
    "\n",
    "# Method 2: Using scipy.stats.iqr (recommended)\n",
    "from scipy.stats import iqr\n",
    "iqr_scipy = iqr(df['GY'])\n",
    "print(f\"IQR (using scipy.stats.iqr): {iqr_scipy:.4f}\")\n",
    "\n",
    "# IQR is often used to detect outliers:\n",
    "lower_bound = q25 - 1.5 * iqr_value\n",
    "upper_bound = q75 + 1.5 * iqr_value\n",
    "outliers = df[(df['GY'] < lower_bound) | (df['GY'] > upper_bound)]\n",
    "print(f\"\\nNumber of potential outliers (using 1.5*IQR rule): {len(outliers)}\")"
   ]
  },
  {
   "cell_type": "markdown",
   "metadata": {},
   "source": [
    "### Summary Statistics"
   ]
  },
  {
   "cell_type": "code",
   "execution_count": 15,
   "metadata": {},
   "outputs": [
    {
     "name": "stdout",
     "output_type": "stream",
     "text": [
      "\n",
      "==================================================\n",
      "SUMMARY STATISTICS FOR GRAIN YIELD (GY)\n",
      "==================================================\n",
      "  Statistic     Value\n",
      "0      Mean   28.6647\n",
      "1    Median   25.3143\n",
      "2       Min    4.7491\n",
      "3       Max   65.3364\n",
      "4     Range   60.5873\n",
      "5  Variance  180.5147\n",
      "6   Std Dev   13.4356\n",
      "7        Q1   18.7201\n",
      "8        Q3   39.9541\n",
      "9       IQR   21.2340\n"
     ]
    }
   ],
   "source": [
    "# Create a summary table for GY column\n",
    "summary_table = pd.DataFrame({\n",
    "    'Statistic': ['Mean', 'Median', 'Min', 'Max', 'Range', 'Variance', 'Std Dev', 'Q1', 'Q3', 'IQR'],\n",
    "    'Value': [\n",
    "        df['GY'].mean(),\n",
    "        df['GY'].median(),\n",
    "        df['GY'].min(),\n",
    "        df['GY'].max(),\n",
    "        df['GY'].max() - df['GY'].min(),\n",
    "        df['GY'].var(),\n",
    "        df['GY'].std(),\n",
    "        df['GY'].quantile(0.25),\n",
    "        df['GY'].quantile(0.75),\n",
    "        iqr(df['GY'])\n",
    "    ]\n",
    "})\n",
    "\n",
    "print(\"\\n\" + \"=\"*50)\n",
    "print(\"SUMMARY STATISTICS FOR GRAIN YIELD (GY)\")\n",
    "print(\"=\"*50)\n",
    "print(summary_table.round(4))"
   ]
  },
  {
   "cell_type": "markdown",
   "metadata": {},
   "source": [
    "## Summary and Conclusion\n",
    "\n",
    "In this tutorial, we've covered the core components of **descriptive statistics** in Python:\n",
    "\n",
    "| Concept           | Python Function                     |\n",
    "|-------------------|-------------------------------------|\n",
    "| Mean              | `df['col'].mean()`                  |\n",
    "| Median            | `df['col'].median()`                |\n",
    "| Mode              | `stats.mode()` or `value_counts()`  |\n",
    "| Range             | `max() - min()` or `np.ptp()`       |\n",
    "| Variance          | `df['col'].var()`                   |\n",
    "| Standard Deviation| `df['col'].std()`                   |\n",
    "| Quantiles         | `df['col'].quantile(0.x)`           |\n",
    "| IQR               | `scipy.stats.iqr(df['col'])`        |\n",
    "\n",
    "\n",
    " **Why this matters**: Descriptive statistics are the foundation of exploratory data analysis (EDA). They help you:\n",
    "- Spot anomalies\n",
    "- Understand data distribution\n",
    "- Choose appropriate models\n",
    "- Communicate findings clearly\n",
    "\n",
    "Always visualize alongside numerical summaries (e.g., histograms, boxplots) for full insight."
   ]
  },
  {
   "cell_type": "markdown",
   "metadata": {},
   "source": [
    "## Resources \n",
    "\n",
    "Here are excellent resources to deepen your understanding:\n",
    "\n",
    "1. **[Python for Data Analysis](https://wesmckinney.com/book/) by Wes McKinney** – Creator of pandas. Chapter 3 covers descriptive stats and data aggregation.\n",
    "2. **[Data Visualization and Descriptive Statistics with Python](https://www.datacamp.com/courses/introduction-to-data-visualization-with-python)** – Interactive course on DataCamp.\n",
    "3. **[Real Python: Descriptive Statistics with Python](https://realpython.com/python-descriptive-statistics/)** – Clear examples with NumPy, SciPy, and pandas.\n",
    "4. **[Kaggle Learn: Data Visualization & Descriptive Stats](https://www.kaggle.com/learn/data-visualization)** – Hands-on mini-courses.\n",
    "5. **[Introduction to Statistics with R (adapted for Python)](https://rafalab.dfci.harvard.edu/dsbook/introduction-to-statistics-with-r.html)** – Though R-focused, the concepts translate directly. Use this guide as your conceptual reference."
   ]
  }
 ],
 "metadata": {
  "kernelspec": {
   "display_name": "3.11.11",
   "language": "python",
   "name": "python3"
  },
  "language_info": {
   "codemirror_mode": {
    "name": "ipython",
    "version": 3
   },
   "file_extension": ".py",
   "mimetype": "text/x-python",
   "name": "python",
   "nbconvert_exporter": "python",
   "pygments_lexer": "ipython3",
   "version": "3.11.11"
  }
 },
 "nbformat": 4,
 "nbformat_minor": 4
}
