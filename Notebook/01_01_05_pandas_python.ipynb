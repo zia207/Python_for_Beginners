{
  "cells": [
    {
      "cell_type": "markdown",
      "metadata": {
        "id": "view-in-github",
        "colab_type": "text"
      },
      "source": [
        "<a href=\"https://colab.research.google.com/github/zia207/Python_for_Beginners/blob/main/Notebook/01_01_05_pandas_python.ipynb\" target=\"_parent\"><img src=\"https://colab.research.google.com/assets/colab-badge.svg\" alt=\"Open In Colab\"/></a>"
      ]
    },
    {
      "cell_type": "markdown",
      "metadata": {
        "id": "l0yXWceDn0DR"
      },
      "source": [
        "![alt text](http://drive.google.com/uc?export=view&id=1IFEWet-Aw4DhkkVe1xv_2YYqlvRe9m5_)"
      ]
    },
    {
      "cell_type": "markdown",
      "metadata": {
        "id": "CAHf4L0pn0DR"
      },
      "source": [
        "# Pandas for Beginners\n",
        "\n",
        "Pandas is a powerful Python library for data manipulation and analysis. This tutorial introduces beginners to Pandas, covering the basics of creating, manipulating, and analyzing data using DataFrames and Series, as well as advanced features like merging, reshaping, time-series analysis, multi-indexing, handling large datasets, and visualization. All examples are simple and include explanations."
      ]
    },
    {
      "cell_type": "markdown",
      "metadata": {
        "id": "ykkw6KpMn0DS"
      },
      "source": [
        "![alt text](http://drive.google.com/uc?export=view&id=1cVOaeig7WVBVOYpYgwVJoxUUooDsaaOR)"
      ]
    },
    {
      "cell_type": "markdown",
      "metadata": {
        "id": "HZoenR2un0DS"
      },
      "source": [
        "## Prerequisites\n",
        "- Basic Python knowledge (lists, dictionaries, etc.)\n",
        "- Python and Pandas installed (`pip install pandas`)\n",
        "- NumPy installed for some advanced features (`pip install numpy`)\n",
        "- Matplotlib and Seaborn for visualization (`pip install matplotlib seaborn`)"
      ]
    },
    {
      "cell_type": "markdown",
      "metadata": {
        "id": "FWgCw2t4n0DS"
      },
      "source": [
        "## Importing Pandas\n",
        "To use Pandas, import it with the common alias `pd`."
      ]
    },
    {
      "cell_type": "code",
      "execution_count": null,
      "metadata": {
        "id": "2J5l7xzsn0DT",
        "outputId": "4c7325d0-f084-4ea1-8f42-1cd5e8475941"
      },
      "outputs": [
        {
          "name": "stderr",
          "output_type": "stream",
          "text": [
            "/usr/lib/python3/dist-packages/scipy/__init__.py:146: UserWarning: A NumPy version >=1.17.3 and <1.25.0 is required for this version of SciPy (detected version 1.26.4\n",
            "  warnings.warn(f\"A NumPy version >={np_minversion} and <{np_maxversion}\"\n"
          ]
        }
      ],
      "source": [
        "import pandas as pd\n",
        "import numpy as np\n",
        "import matplotlib.pyplot as plt\n",
        "import seaborn as sns"
      ]
    },
    {
      "cell_type": "markdown",
      "metadata": {
        "id": "l4h5kXldn0DU"
      },
      "source": [
        "## Pandas Data Structures\n",
        "Pandas has two primary data structures:\n",
        "- **Series**: A one-dimensional array-like object, similar to a list or a column in a table.\n",
        "- **DataFrame**: A two-dimensional table with rows and columns, like a spreadsheet."
      ]
    },
    {
      "cell_type": "markdown",
      "metadata": {
        "id": "3uMakQ8Dn0DU"
      },
      "source": [
        "### Creating a Series\n",
        "A Series can be created from a list, dictionary, or array."
      ]
    },
    {
      "cell_type": "code",
      "execution_count": null,
      "metadata": {
        "id": "qqqGrX6cn0DV",
        "outputId": "a242f2e4-3b1c-4d50-b04a-885b8122e8a4"
      },
      "outputs": [
        {
          "name": "stdout",
          "output_type": "stream",
          "text": [
            "a    10\n",
            "b    20\n",
            "c    30\n",
            "d    40\n",
            "dtype: int64\n"
          ]
        }
      ],
      "source": [
        "# Creating a Series from a list\n",
        "data = [10, 20, 30, 40]\n",
        "series = pd.Series(data, index=['a', 'b', 'c', 'd'])\n",
        "print(series)"
      ]
    },
    {
      "cell_type": "markdown",
      "metadata": {
        "id": "IkfvJtzsn0DV"
      },
      "source": [
        "**Output**:\n",
        "```\n",
        "a    10\n",
        "b    20\n",
        "c    30\n",
        "d    40\n",
        "dtype: int64\n",
        "```\n",
        "\n",
        "The `index` parameter assigns labels to each value. If omitted, Pandas assigns default numeric indices (0, 1, 2, ...)."
      ]
    },
    {
      "cell_type": "markdown",
      "metadata": {
        "id": "xJA4pj_Un0DW"
      },
      "source": [
        "### Creating a DataFrame\n",
        "A DataFrame can be created from a dictionary, list of dictionaries, or other data structures."
      ]
    },
    {
      "cell_type": "code",
      "execution_count": null,
      "metadata": {
        "id": "nD_V1f1wn0DW",
        "outputId": "f1e5735d-f607-4410-dfe0-030e17f41a1a"
      },
      "outputs": [
        {
          "name": "stdout",
          "output_type": "stream",
          "text": [
            "      Name  Age         City\n",
            "0    Alice   25     New York\n",
            "1      Bob   30  Los Angeles\n",
            "2  Charlie   35      Chicago\n"
          ]
        }
      ],
      "source": [
        "# Creating a DataFrame from a dictionary\n",
        "data = {\n",
        "    'Name': ['Alice', 'Bob', 'Charlie'],\n",
        "    'Age': [25, 30, 35],\n",
        "    'City': ['New York', 'Los Angeles', 'Chicago']\n",
        "}\n",
        "df = pd.DataFrame(data)\n",
        "print(df)"
      ]
    },
    {
      "cell_type": "markdown",
      "metadata": {
        "id": "5SvGPx3qn0DW"
      },
      "source": [
        "**Output**:\n",
        "```\n",
        "      Name  Age         City\n",
        "0    Alice   25     New York\n",
        "1      Bob   30  Los Angeles\n",
        "2  Charlie   35      Chicago\n",
        "```\n",
        "\n",
        "Each key in the dictionary becomes a column, and the values form the rows."
      ]
    },
    {
      "cell_type": "markdown",
      "metadata": {
        "id": "lFYb8mKrn0DW"
      },
      "source": [
        "## 3. Viewing Data\n",
        "Pandas provides methods to inspect DataFrames.\n",
        "\n",
        "- **View first few rows**: `df.head(n)` (default n=5)\n",
        "- **View last few rows**: `df.tail(n)`\n",
        "- **Get basic info**: `df.info()`\n",
        "- **Summary statistics**: `df.describe()`"
      ]
    },
    {
      "cell_type": "code",
      "execution_count": null,
      "metadata": {
        "id": "CX4jqJj9n0DX",
        "outputId": "32beb93e-2959-449d-ae6d-806db6f0a4a5"
      },
      "outputs": [
        {
          "name": "stdout",
          "output_type": "stream",
          "text": [
            "    Name  Age         City\n",
            "0  Alice   25     New York\n",
            "1    Bob   30  Los Angeles\n",
            "<class 'pandas.core.frame.DataFrame'>\n",
            "RangeIndex: 3 entries, 0 to 2\n",
            "Data columns (total 3 columns):\n",
            " #   Column  Non-Null Count  Dtype \n",
            "---  ------  --------------  ----- \n",
            " 0   Name    3 non-null      object\n",
            " 1   Age     3 non-null      int64 \n",
            " 2   City    3 non-null      object\n",
            "dtypes: int64(1), object(2)\n",
            "memory usage: 200.0+ bytes\n",
            "None\n"
          ]
        }
      ],
      "source": [
        "# Viewing the first 2 rows\n",
        "print(df.head(2))\n",
        "# Get DataFrame info\n",
        "print(df.info())"
      ]
    },
    {
      "cell_type": "markdown",
      "metadata": {
        "id": "KMuOYyLdn0DX"
      },
      "source": [
        "## Selecting Data\n",
        "You can select specific rows, columns, or values using indexing."
      ]
    },
    {
      "cell_type": "markdown",
      "metadata": {
        "id": "-x9s2g8En0DX"
      },
      "source": [
        "### Selecting Columns\n",
        "Access columns using their names."
      ]
    },
    {
      "cell_type": "code",
      "execution_count": null,
      "metadata": {
        "id": "ZdRAM7Xcn0DX",
        "outputId": "465d247d-7069-48e1-e4f5-b2ad91732098"
      },
      "outputs": [
        {
          "name": "stdout",
          "output_type": "stream",
          "text": [
            "0      Alice\n",
            "1        Bob\n",
            "2    Charlie\n",
            "Name: Name, dtype: object\n",
            "      Name         City\n",
            "0    Alice     New York\n",
            "1      Bob  Los Angeles\n",
            "2  Charlie      Chicago\n"
          ]
        }
      ],
      "source": [
        "# Select a single column (returns a Series)\n",
        "print(df['Name'])\n",
        "# Select multiple columns (returns a DataFrame)\n",
        "print(df[['Name', 'City']])"
      ]
    },
    {
      "cell_type": "markdown",
      "metadata": {
        "id": "vc2-CR6Nn0DX"
      },
      "source": [
        "### Selecting Rows\n",
        "Use `loc` (label-based) or `iloc` (integer-based) to select rows."
      ]
    },
    {
      "cell_type": "code",
      "execution_count": null,
      "metadata": {
        "id": "vqvHDqk6n0DY",
        "outputId": "f216a97d-64d6-4cfc-9ea2-f4ab14004577"
      },
      "outputs": [
        {
          "name": "stdout",
          "output_type": "stream",
          "text": [
            "Name       Alice\n",
            "Age           25\n",
            "City    New York\n",
            "Name: 0, dtype: object\n",
            "Name            Bob\n",
            "Age              30\n",
            "City    Los Angeles\n",
            "Name: 1, dtype: object\n"
          ]
        }
      ],
      "source": [
        "# Select row by index label\n",
        "print(df.loc[0])\n",
        "# Select row by integer position\n",
        "print(df.iloc[1])"
      ]
    },
    {
      "cell_type": "markdown",
      "metadata": {
        "id": "tNCkRuLRn0DY"
      },
      "source": [
        "## Filtering Data\n",
        "Filter rows based on conditions."
      ]
    },
    {
      "cell_type": "code",
      "execution_count": null,
      "metadata": {
        "id": "ZuijAsrIn0DY",
        "outputId": "44828c24-5890-42a7-c279-a0162fca5d9a"
      },
      "outputs": [
        {
          "name": "stdout",
          "output_type": "stream",
          "text": [
            "      Name  Age     City\n",
            "2  Charlie   35  Chicago\n"
          ]
        }
      ],
      "source": [
        "# Filter rows where Age > 30\n",
        "print(df[df['Age'] > 30])"
      ]
    },
    {
      "cell_type": "markdown",
      "metadata": {
        "id": "TUvTQTunn0DY"
      },
      "source": [
        "You can combine conditions using `&` (and) or `|` (or)."
      ]
    },
    {
      "cell_type": "code",
      "execution_count": null,
      "metadata": {
        "id": "IeI5AN3an0DZ",
        "outputId": "20bcbc0e-f5ca-4adc-e1a0-29ab64f05103"
      },
      "outputs": [
        {
          "name": "stdout",
          "output_type": "stream",
          "text": [
            "      Name  Age     City\n",
            "2  Charlie   35  Chicago\n"
          ]
        }
      ],
      "source": [
        "# Filter rows where Age > 25 and City is Chicago\n",
        "print(df[(df['Age'] > 25) & (df['City'] == 'Chicago')])"
      ]
    },
    {
      "cell_type": "markdown",
      "metadata": {
        "id": "1lDgUaW6n0DZ"
      },
      "source": [
        "## Adding and Modifying Data\n",
        "You can add new columns or modify existing ones."
      ]
    },
    {
      "cell_type": "markdown",
      "metadata": {
        "id": "Bh1Mib86n0DZ"
      },
      "source": [
        "### Adding a Column"
      ]
    },
    {
      "cell_type": "code",
      "execution_count": null,
      "metadata": {
        "id": "obzQq2ofn0DZ",
        "outputId": "07160668-45af-422d-b434-0819c6bf135e"
      },
      "outputs": [
        {
          "name": "stdout",
          "output_type": "stream",
          "text": [
            "      Name  Age         City  Salary\n",
            "0    Alice   25     New York   50000\n",
            "1      Bob   30  Los Angeles   60000\n",
            "2  Charlie   35      Chicago   75000\n"
          ]
        }
      ],
      "source": [
        "# Add a new column\n",
        "df['Salary'] = [50000, 60000, 75000]\n",
        "print(df)"
      ]
    },
    {
      "cell_type": "markdown",
      "metadata": {
        "id": "bAzY3F4Ln0Da"
      },
      "source": [
        "### Modifying Data\n",
        "Update values using `loc` or conditions."
      ]
    },
    {
      "cell_type": "code",
      "execution_count": null,
      "metadata": {
        "id": "AQtPaIlin0Da",
        "outputId": "87097f53-777a-4c7e-a0f6-62566be34fac"
      },
      "outputs": [
        {
          "name": "stdout",
          "output_type": "stream",
          "text": [
            "      Name  Age         City   Salary\n",
            "0    Alice   26     New York  55000.0\n",
            "1      Bob   30  Los Angeles  66000.0\n",
            "2  Charlie   35      Chicago  82500.0\n"
          ]
        }
      ],
      "source": [
        "# Update a specific value\n",
        "df.loc[0, 'Age'] = 26\n",
        "# Increase all salaries by 10%\n",
        "df['Salary'] = df['Salary'] * 1.1\n",
        "print(df)"
      ]
    },
    {
      "cell_type": "markdown",
      "metadata": {
        "id": "Cb0ezhSkn0Da"
      },
      "source": [
        "## Handling Missing Data\n",
        "Pandas provides methods to handle missing values (`NaN`)."
      ]
    },
    {
      "cell_type": "code",
      "execution_count": null,
      "metadata": {
        "id": "_GASRbWin0Da",
        "outputId": "42b8fff9-c661-4554-b735-c548e86736dc"
      },
      "outputs": [
        {
          "name": "stdout",
          "output_type": "stream",
          "text": [
            "      Name  Age      City   Salary\n",
            "0    Alice   26  New York  55000.0\n",
            "1      Bob   30      None  66000.0\n",
            "2  Charlie   35   Chicago  82500.0\n",
            "      Name  Age      City   Salary\n",
            "0    Alice   26  New York  55000.0\n",
            "1      Bob   30   Unknown  66000.0\n",
            "2  Charlie   35   Chicago  82500.0\n"
          ]
        }
      ],
      "source": [
        "# Introduce a missing value\n",
        "df.loc[1, 'City'] = None\n",
        "print(df)\n",
        "# Fill missing values with a default\n",
        "df['City'] = df['City'].fillna('Unknown')\n",
        "print(df)"
      ]
    },
    {
      "cell_type": "markdown",
      "metadata": {
        "id": "PUANNENDn0Db"
      },
      "source": [
        "## Grouping and Aggregating\n",
        "Group data by a column and compute aggregates (e.g., mean, sum)."
      ]
    },
    {
      "cell_type": "code",
      "execution_count": null,
      "metadata": {
        "id": "GngWCsccn0Db",
        "outputId": "87573cd3-b86b-4543-f728-96e92ef52c87"
      },
      "outputs": [
        {
          "name": "stdout",
          "output_type": "stream",
          "text": [
            "City\n",
            "Chicago     82500.0\n",
            "New York    55000.0\n",
            "Unknown     66000.0\n",
            "Name: Salary, dtype: float64\n"
          ]
        }
      ],
      "source": [
        "# Group by City and calculate average Salary\n",
        "print(df.groupby('City')['Salary'].mean())"
      ]
    },
    {
      "cell_type": "markdown",
      "metadata": {
        "id": "66IG5g_yn0Db"
      },
      "source": [
        "## aving and Loading Data\n",
        "Pandas supports reading and writing data in various formats (CSV, Excel, JSON, etc.)."
      ]
    },
    {
      "cell_type": "markdown",
      "metadata": {
        "id": "rd2gTopxn0Db"
      },
      "source": [
        "### Saving to CSV"
      ]
    },
    {
      "cell_type": "code",
      "execution_count": null,
      "metadata": {
        "id": "qXLWkKLdn0Db"
      },
      "outputs": [],
      "source": [
        "df.to_csv('output.csv', index=False)"
      ]
    },
    {
      "cell_type": "markdown",
      "metadata": {
        "id": "Qp8rYgFsn0Dc"
      },
      "source": [
        "### Loading from CSV"
      ]
    },
    {
      "cell_type": "code",
      "execution_count": null,
      "metadata": {
        "id": "KcJZrxLnn0Dc",
        "outputId": "07691c62-64ad-4142-e1d3-b64b6f092cfb"
      },
      "outputs": [
        {
          "name": "stdout",
          "output_type": "stream",
          "text": [
            "      Name  Age      City   Salary\n",
            "0    Alice   26  New York  55000.0\n",
            "1      Bob   30   Unknown  66000.0\n",
            "2  Charlie   35   Chicago  82500.0\n"
          ]
        }
      ],
      "source": [
        "df_from_csv = pd.read_csv('output.csv')\n",
        "print(df_from_csv)"
      ]
    },
    {
      "cell_type": "markdown",
      "metadata": {
        "id": "F5nyMj4_n0Dc"
      },
      "source": [
        "## Advanced Pandas Features\n",
        "Here are some advanced Pandas features to take your data analysis further."
      ]
    },
    {
      "cell_type": "markdown",
      "metadata": {
        "id": "ddhizVFJn0Dc"
      },
      "source": [
        "### Merging DataFrames\n",
        "Pandas allows combining multiple DataFrames using `merge` or `concat`."
      ]
    },
    {
      "cell_type": "markdown",
      "metadata": {
        "id": "b4aaCGtCn0Dc"
      },
      "source": [
        "#### Merging DataFrames\n",
        "Create a second DataFrame with additional information and merge it with the original."
      ]
    },
    {
      "cell_type": "code",
      "execution_count": null,
      "metadata": {
        "id": "KZOlSubKn0Dd",
        "outputId": "bb83e2c7-7a23-4a81-f8e6-02b1ce881a53"
      },
      "outputs": [
        {
          "name": "stdout",
          "output_type": "stream",
          "text": [
            "    Name  Age      City   Salary  Year Salary_Category Department\n",
            "0  Alice   26  New York  55000.0  2023             Low         HR\n",
            "1    Bob   30   Unknown  66000.0  2023             Low         IT\n"
          ]
        }
      ],
      "source": [
        "# Create a second DataFrame\n",
        "data2 = {\n",
        "    'Name': ['Alice', 'Bob', 'David'],\n",
        "    'Department': ['HR', 'IT', 'Marketing']\n",
        "}\n",
        "df2 = pd.DataFrame(data2)\n",
        "\n",
        "# Merge on 'Name' (inner join)\n",
        "merged_df = pd.merge(df, df2, on='Name', how='inner')\n",
        "print(merged_df)"
      ]
    },
    {
      "cell_type": "markdown",
      "metadata": {
        "id": "GTTUFjTSn0Dd"
      },
      "source": [
        "The `how` parameter can be `'inner'`, `'left'`, `'right'`, or `'outer'` to control which rows are kept."
      ]
    },
    {
      "cell_type": "markdown",
      "metadata": {
        "id": "Ob2Q16dOn0Dd"
      },
      "source": [
        "#### Concatenating DataFrames\n",
        "Use `concat` to stack DataFrames vertically or horizontally."
      ]
    },
    {
      "cell_type": "code",
      "execution_count": null,
      "metadata": {
        "id": "ieeeIjzTn0Dd",
        "outputId": "9ae815a9-bd56-4e4b-e62e-b470d266aa11"
      },
      "outputs": [
        {
          "name": "stdout",
          "output_type": "stream",
          "text": [
            "      Name  Age      City   Salary    Year Salary_Category\n",
            "0    Alice   26  New York  55000.0  2023.0             Low\n",
            "1      Bob   30   Unknown  66000.0  2023.0             Low\n",
            "2  Charlie   35   Chicago  82500.0  2024.0            High\n",
            "3    David   40    Boston  70000.0     NaN             NaN\n"
          ]
        }
      ],
      "source": [
        "# Concatenate vertically\n",
        "df3 = pd.DataFrame({\n",
        "    'Name': ['David'],\n",
        "    'Age': [40],\n",
        "    'City': ['Boston'],\n",
        "    'Salary': [70000.0]\n",
        "})\n",
        "concat_df = pd.concat([df, df3], ignore_index=True)\n",
        "print(concat_df)"
      ]
    },
    {
      "cell_type": "markdown",
      "metadata": {
        "id": "kDkMEAW5n0Dd"
      },
      "source": [
        "### Reshaping Data\n",
        "Pandas provides tools like `pivot`, `melt`, and `stack` to reshape data."
      ]
    },
    {
      "cell_type": "markdown",
      "metadata": {
        "id": "ni4-Cyoen0Dd"
      },
      "source": [
        "#### Pivot Table\n",
        "Create a pivot table to summarize data."
      ]
    },
    {
      "cell_type": "code",
      "execution_count": null,
      "metadata": {
        "id": "07qxoAKAn0Dd",
        "outputId": "28bf8f3b-c83e-4898-cd95-3bc6af5a8d88"
      },
      "outputs": [
        {
          "name": "stdout",
          "output_type": "stream",
          "text": [
            "Year         2023     2024\n",
            "City                      \n",
            "Chicago       NaN  82500.0\n",
            "New York  55000.0      NaN\n",
            "Unknown   66000.0      NaN\n"
          ]
        }
      ],
      "source": [
        "# Add a 'Year' column for demonstration\n",
        "df['Year'] = [2023, 2023, 2024]\n",
        "pivot_table = df.pivot_table(values='Salary', index='City', columns='Year', aggfunc='mean')\n",
        "print(pivot_table)"
      ]
    },
    {
      "cell_type": "markdown",
      "metadata": {
        "id": "2wgBsBFWn0De"
      },
      "source": [
        "#### Melting Data\n",
        "Convert wide-format data to long-format using `melt`."
      ]
    },
    {
      "cell_type": "code",
      "execution_count": null,
      "metadata": {
        "id": "SZdWupJ5n0De",
        "outputId": "8a1b3d02-c2a8-47be-b856-4c6894dd981b"
      },
      "outputs": [
        {
          "name": "stdout",
          "output_type": "stream",
          "text": [
            "      Name  Metric    Value\n",
            "0    Alice     Age     26.0\n",
            "1      Bob     Age     30.0\n",
            "2  Charlie     Age     35.0\n",
            "3    Alice  Salary  55000.0\n",
            "4      Bob  Salary  66000.0\n",
            "5  Charlie  Salary  82500.0\n"
          ]
        }
      ],
      "source": [
        "# Melt the DataFrame\n",
        "melted_df = pd.melt(df, id_vars=['Name'], value_vars=['Age', 'Salary'], var_name='Metric', value_name='Value')\n",
        "print(melted_df)"
      ]
    },
    {
      "cell_type": "markdown",
      "metadata": {
        "id": "WeZ7sNion0De"
      },
      "source": [
        "### Time-Series Data\n",
        "Pandas excels at handling time-series data."
      ]
    },
    {
      "cell_type": "markdown",
      "metadata": {
        "id": "Jg7PYebJn0De"
      },
      "source": [
        "#### Working with Dates\n",
        "Convert a column to datetime and perform time-based operations."
      ]
    },
    {
      "cell_type": "code",
      "execution_count": null,
      "metadata": {
        "id": "BiAHbj-Sn0De",
        "outputId": "4f39c0e4-b324-48cd-d3dd-b204f15720fd"
      },
      "outputs": [
        {
          "name": "stdout",
          "output_type": "stream",
          "text": [
            "            Sales\n",
            "Date             \n",
            "2023-01-31  100.0\n",
            "2023-02-28  150.0\n",
            "2023-03-31  200.0\n"
          ]
        }
      ],
      "source": [
        "# Create a DataFrame with dates\n",
        "df_time = pd.DataFrame({\n",
        "    'Date': ['2023-01-01', '2023-02-01', '2023-03-01'],\n",
        "    'Sales': [100, 150, 200]\n",
        "})\n",
        "df_time['Date'] = pd.to_datetime(df_time['Date'])\n",
        "\n",
        "# Set Date as index\n",
        "df_time.set_index('Date', inplace=True)\n",
        "\n",
        "# Resample to monthly frequency and compute mean\n",
        "monthly_sales = df_time.resample('ME').mean()\n",
        "print(monthly_sales)"
      ]
    },
    {
      "cell_type": "markdown",
      "metadata": {
        "id": "2oFigva7n0De"
      },
      "source": [
        "#### Rolling Windows\n",
        "Calculate rolling statistics, like a moving average."
      ]
    },
    {
      "cell_type": "code",
      "execution_count": null,
      "metadata": {
        "id": "hLKqIzion0Df",
        "outputId": "76ab59fa-5be1-4217-daf9-c30592580c91"
      },
      "outputs": [
        {
          "name": "stdout",
          "output_type": "stream",
          "text": [
            "            Sales  Rolling_Mean\n",
            "Date                           \n",
            "2023-01-01    100           NaN\n",
            "2023-02-01    150         125.0\n",
            "2023-03-01    200         175.0\n"
          ]
        }
      ],
      "source": [
        "# Calculate 2-period rolling mean\n",
        "df_time['Rolling_Mean'] = df_time['Sales'].rolling(window=2).mean()\n",
        "print(df_time)"
      ]
    },
    {
      "cell_type": "markdown",
      "metadata": {
        "id": "BEVCpjssn0Df"
      },
      "source": [
        "###  Applying Custom Functions\n",
        "Use `apply` or `map` to apply custom functions to DataFrames or Series."
      ]
    },
    {
      "cell_type": "code",
      "execution_count": null,
      "metadata": {
        "id": "JriYpdLWn0Df",
        "outputId": "c78ced91-45bc-4733-c0ff-5057431ac6b3"
      },
      "outputs": [
        {
          "name": "stdout",
          "output_type": "stream",
          "text": [
            "      Name  Age      City   Salary  Year Salary_Category\n",
            "0    Alice   26  New York  55000.0  2023             Low\n",
            "1      Bob   30   Unknown  66000.0  2023             Low\n",
            "2  Charlie   35   Chicago  82500.0  2024            High\n"
          ]
        }
      ],
      "source": [
        "# Define a custom function\n",
        "def categorize_salary(salary):\n",
        "    return 'High' if salary > 70000 else 'Low'\n",
        "\n",
        "# Apply to Salary column\n",
        "df['Salary_Category'] = df['Salary'].apply(categorize_salary)\n",
        "print(df)"
      ]
    },
    {
      "cell_type": "markdown",
      "metadata": {
        "id": "RaR7WMcEn0Df"
      },
      "source": [
        "### Multi-Indexing\n",
        "Multi-indexing allows hierarchical indexing for more complex data organization."
      ]
    },
    {
      "cell_type": "markdown",
      "metadata": {
        "id": "TtN0idIYn0Df"
      },
      "source": [
        "#### Creating a Multi-Index DataFrame\n",
        "Set multiple columns as the index to create a multi-level index."
      ]
    },
    {
      "cell_type": "code",
      "execution_count": null,
      "metadata": {
        "id": "VZUnW5gXn0Df",
        "outputId": "0325d6b6-feb9-4bd2-b416-18735d6d619a"
      },
      "outputs": [
        {
          "name": "stdout",
          "output_type": "stream",
          "text": [
            "                  Name  Age   Salary Salary_Category\n",
            "City     Year                                       \n",
            "New York 2023    Alice   26  55000.0             Low\n",
            "Unknown  2023      Bob   30  66000.0             Low\n",
            "Chicago  2024  Charlie   35  82500.0            High\n"
          ]
        }
      ],
      "source": [
        "# Set multi-index using City and Year\n",
        "df_multi = df.set_index(['City', 'Year'])\n",
        "print(df_multi)"
      ]
    },
    {
      "cell_type": "markdown",
      "metadata": {
        "id": "xKDoj3Zln0Dg"
      },
      "source": [
        "#### Selecting with Multi-Index\n",
        "Access data using multi-level indices with `loc`."
      ]
    },
    {
      "cell_type": "code",
      "execution_count": null,
      "metadata": {
        "id": "xjHYlTsLn0Dg",
        "outputId": "0c1c1847-e849-4386-89a7-6b6b18126f4f"
      },
      "outputs": [
        {
          "name": "stdout",
          "output_type": "stream",
          "text": [
            "Name                 Alice\n",
            "Age                     26\n",
            "Salary             55000.0\n",
            "Salary_Category        Low\n",
            "Name: (New York, 2023), dtype: object\n"
          ]
        }
      ],
      "source": [
        "# Select data for New York in 2023\n",
        "print(df_multi.loc[('New York', 2023)])"
      ]
    },
    {
      "cell_type": "markdown",
      "metadata": {
        "id": "ZQjgeM-yn0Dg"
      },
      "source": [
        "#### Aggregating with Multi-Index\n",
        "Group and aggregate with multi-level indices."
      ]
    },
    {
      "cell_type": "code",
      "execution_count": null,
      "metadata": {
        "id": "u9V1dCPon0Dg",
        "outputId": "3d17a4a4-976c-4795-c067-6220408315f6"
      },
      "outputs": [
        {
          "name": "stdout",
          "output_type": "stream",
          "text": [
            "City      Year\n",
            "Chicago   2024    82500.0\n",
            "New York  2023    55000.0\n",
            "Unknown   2023    66000.0\n",
            "Name: Salary, dtype: float64\n"
          ]
        }
      ],
      "source": [
        "# Group by City and Year, calculate average Salary\n",
        "print(df_multi.groupby(level=['City', 'Year'])['Salary'].mean())"
      ]
    },
    {
      "cell_type": "markdown",
      "metadata": {
        "id": "9FEsRBuRn0Dg"
      },
      "source": [
        "### Handling Large Datasets with Chunking\n",
        "For large datasets, Pandas can process data in chunks to manage memory usage."
      ]
    },
    {
      "cell_type": "markdown",
      "metadata": {
        "id": "p7VyDjD5n0Dg"
      },
      "source": [
        "#### Reading in Chunks\n",
        "Use `chunksize` with `read_csv` to process large files incrementally."
      ]
    },
    {
      "cell_type": "code",
      "execution_count": null,
      "metadata": {
        "id": "K6Z0nlRFn0Dh",
        "outputId": "d5e07f7e-4f18-4088-85d6-7efb4247c5cc"
      },
      "outputs": [
        {
          "name": "stdout",
          "output_type": "stream",
          "text": [
            "City\n",
            "New York    55000.0\n",
            "Unknown     66000.0\n",
            "Name: Salary, dtype: float64\n",
            "City\n",
            "Chicago    82500.0\n",
            "Name: Salary, dtype: float64\n"
          ]
        }
      ],
      "source": [
        "# Example: Reading a large CSV file in chunks\n",
        "# Assume 'large_data.csv' exists\n",
        "chunk_size = 2\n",
        "for chunk in pd.read_csv('output.csv', chunksize=chunk_size):\n",
        "    # Process each chunk (e.g., filter or aggregate)\n",
        "    print(chunk.groupby('City')['Salary'].mean())"
      ]
    },
    {
      "cell_type": "markdown",
      "metadata": {
        "id": "Pi_fq2t1n0Dh"
      },
      "source": [
        "This approach is useful for files too large to fit in memory. You can perform operations (e.g., filtering, aggregating) on each chunk and combine results if needed."
      ]
    },
    {
      "cell_type": "markdown",
      "metadata": {
        "id": "Xt8GSg4Ln0Dh"
      },
      "source": [
        "###  Visualization with Matplotlib and Seaborn\n",
        "Pandas integrates seamlessly with Matplotlib and Seaborn for data visualization."
      ]
    },
    {
      "cell_type": "markdown",
      "metadata": {
        "id": "-bJpoVR7n0Dh"
      },
      "source": [
        "#### Matplotlib: Bar Plot\n",
        "Create a bar plot of average salaries by city."
      ]
    },
    {
      "cell_type": "code",
      "execution_count": null,
      "metadata": {
        "id": "dvhu59ZRn0Dh",
        "outputId": "67c0b3b9-86f9-45f0-a613-bce7d8a67098"
      },
      "outputs": [
        {
          "data": {
            "image/png": "[encoded data removed]",
            "text/plain": [
              "<Figure size 640x480 with 1 Axes>"
            ]
          },
          "metadata": {},
          "output_type": "display_data"
        }
      ],
      "source": [
        "# Plot average salary by city\n",
        "avg_salary = df.groupby('City')['Salary'].mean()\n",
        "avg_salary.plot(kind='bar', title='Average Salary by City')\n",
        "plt.xlabel('City')\n",
        "plt.ylabel('Salary')\n",
        "plt.show()"
      ]
    },
    {
      "cell_type": "markdown",
      "metadata": {
        "id": "0sBncQkYn0Dh"
      },
      "source": [
        "**Output**: A bar plot showing average salaries for each city."
      ]
    },
    {
      "cell_type": "markdown",
      "metadata": {
        "id": "WIENnyDIn0Dh"
      },
      "source": [
        "#### Seaborn: Box Plot\n",
        "Use Seaborn for a box plot to visualize salary distribution by salary category."
      ]
    },
    {
      "cell_type": "code",
      "execution_count": null,
      "metadata": {
        "id": "bg_LxkgRn0Di",
        "outputId": "a80720fb-badf-4971-be37-3281c29e309b"
      },
      "outputs": [
        {
          "data": {
            "image/png": "[encoded data removed]",
            "text/plain": [
              "<Figure size 640x480 with 1 Axes>"
            ]
          },
          "metadata": {},
          "output_type": "display_data"
        }
      ],
      "source": [
        "# Box plot of salaries by Salary_Category\n",
        "sns.boxplot(x='Salary_Category', y='Salary', data=df)\n",
        "plt.title('Salary Distribution by Category')\n",
        "plt.show()"
      ]
    },
    {
      "cell_type": "markdown",
      "metadata": {
        "id": "N_vaxZOsn0Di"
      },
      "source": [
        "**Output**: A box plot comparing salaries in 'High' and 'Low' categories."
      ]
    },
    {
      "cell_type": "markdown",
      "metadata": {
        "id": "N2NKfkiwn0Di"
      },
      "source": [
        "## Summary and Conclusion\n",
        "This tutorial covers the essentials of Pandas for beginners, from creating and manipulating DataFrames and Series to advanced features like merging, reshaping, time-series analysis, multi-indexing, chunking for large datasets, and visualization with Matplotlib and Seaborn. Pandas is a versatile tool for data analysis, enabling efficient handling of structured data, complex indexing, and integration with visualization libraries. By mastering these concepts, you can perform sophisticated data manipulations and create insightful visualizations. Practice with real-world datasets to solidify your skills and explore Pandas' full potential."
      ]
    },
    {
      "cell_type": "markdown",
      "metadata": {
        "id": "DqNM9Wrtn0Di"
      },
      "source": [
        "## Resources\n",
        "- **Official Pandas Documentation**: https://pandas.pydata.org/docs/\n",
        "- **Matplotlib Documentation**: https://matplotlib.org/stable/contents.html\n",
        "- **Seaborn Documentation**: https://seaborn.pydata.org/\n",
        "- **Kaggle Datasets**: https://www.kaggle.com/datasets (for practice datasets)\n",
        "- **Pandas Cheat Sheet**: https://pandas.pydata.org/Pandas_Cheat_Sheet.pdf\n",
        "- **Python Data Science Handbook** by Jake VanderPlas (book or online resource for deeper learning)"
      ]
    }
  ],
  "metadata": {
    "kernelspec": {
      "display_name": "Python 3",
      "language": "python",
      "name": "python3"
    },
    "language_info": {
      "codemirror_mode": {
        "name": "ipython",
        "version": 3
      },
      "file_extension": ".py",
      "mimetype": "text/x-python",
      "name": "python",
      "nbconvert_exporter": "python",
      "pygments_lexer": "ipython3",
      "version": "3.10.12"
    },
    "colab": {
      "provenance": [],
      "include_colab_link": true
    }
  },
  "nbformat": 4,
  "nbformat_minor": 0
}