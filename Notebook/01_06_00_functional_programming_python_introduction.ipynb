{
  "cells": [
    {
      "cell_type": "markdown",
      "metadata": {
        "id": "view-in-github",
        "colab_type": "text"
      },
      "source": [
        "<a href=\"https://colab.research.google.com/github/zia207/Python_for_Beginners/blob/main/Notebook/01_06_00_functional_programming_python_introduction.ipynb\" target=\"_parent\"><img src=\"https://colab.research.google.com/assets/colab-badge.svg\" alt=\"Open In Colab\"/></a>"
      ]
    },
    {
      "cell_type": "markdown",
      "metadata": {
        "id": "R113oNPxpfmU"
      },
      "source": [
        "![alt text](http://drive.google.com/uc?export=view&id=1IFEWet-Aw4DhkkVe1xv_2YYqlvRe9m5_)"
      ]
    },
    {
      "cell_type": "markdown",
      "metadata": {
        "id": "FsBwn4btpfmU"
      },
      "source": [
        "# 6. Introduction to Functional Programming in Python\n",
        "\n",
        "Functional programming (FP) is a programming paradigm that treats computation as the evaluation of mathematical functions, emphasizing immutability, pure functions, and declarative approaches over mutable state and imperative code. Python, while not a purely functional language like Haskell, supports functional programming through features like first-class functions, list comprehensions, and libraries such as `functools` and `itertools`. This section introduces functional programming in Python, explaining its core concepts, tools, and practical applications."
      ]
    },
    {
      "cell_type": "markdown",
      "metadata": {
        "id": "6aAz8vy3pfmV"
      },
      "source": [
        "## Core Concepts of Functional Programming\n",
        "\n",
        "1. **Pure Functions**:\n",
        "   - A pure function always produces the same output for the same input and has no side effects (e.g., it doesn’t modify external variables or perform I/O operations).\n",
        "   - **Example**:"
      ]
    },
    {
      "cell_type": "code",
      "execution_count": null,
      "metadata": {
        "id": "O6WI9enxpfmV",
        "outputId": "e2ba003f-4199-4953-b3b3-7f3d5a005476"
      },
      "outputs": [
        {
          "name": "stdout",
          "output_type": "stream",
          "text": [
            "16\n"
          ]
        }
      ],
      "source": [
        "def square(x):\n",
        "    return x * x\n",
        "print(square(4))  # Output: 16 (always for input 4, no side effects)"
      ]
    },
    {
      "cell_type": "markdown",
      "metadata": {
        "id": "mPac_-o_pfmW"
      },
      "source": [
        "   - **Impure Example**: A function that modifies a global variable or writes to a file is not pure because its behavior depends on external state.\n",
        "\n",
        "2. **Immutability**:\n",
        "   - Functional programming favors immutable data structures, meaning data is not modified after creation. Instead, new data is created with transformations.\n",
        "   - **Example**:"
      ]
    },
    {
      "cell_type": "code",
      "execution_count": null,
      "metadata": {
        "id": "NnSQrYhIpfmW",
        "outputId": "8043e32f-c4e0-4c81-f9be-f3afdd607582"
      },
      "outputs": [
        {
          "name": "stdout",
          "output_type": "stream",
          "text": [
            "[2, 3, 4]\n"
          ]
        }
      ],
      "source": [
        "numbers = [1, 2, 3]\n",
        "new_numbers = [x + 1 for x in numbers]  # Creates [2, 3, 4], leaves numbers unchanged\n",
        "print(new_numbers)"
      ]
    },
    {
      "cell_type": "markdown",
      "metadata": {
        "id": "Ekf7QN4opfmX"
      },
      "source": [
        "3. **First-Class and Higher-Order Functions**:\n",
        "   - Functions in Python are first-class citizens, meaning they can be assigned to variables, passed as arguments, or returned from other functions.\n",
        "   - Higher-order functions take functions as arguments or return them.\n",
        "   - **Example**:"
      ]
    },
    {
      "cell_type": "code",
      "execution_count": null,
      "metadata": {
        "id": "leBA9RwwpfmX",
        "outputId": "5b3a53cb-876a-42e2-9a89-7770268224c3"
      },
      "outputs": [
        {
          "name": "stdout",
          "output_type": "stream",
          "text": [
            "[2, 4, 6]\n"
          ]
        }
      ],
      "source": [
        "numbers = [1, 2, 3]\n",
        "doubled = map(lambda x: x * 2, numbers)  # Returns [2, 4, 6]\n",
        "print(list(doubled))"
      ]
    },
    {
      "cell_type": "markdown",
      "metadata": {
        "id": "XsQoJVHQpfmX"
      },
      "source": [
        "4. **Declarative Over Imperative**:\n",
        "   - FP emphasizes *what* the program should do, not *how* to do it step-by-step.\n",
        "   - **Example**: To sum a list, use `sum` with a generator expression (declarative) instead of a loop:"
      ]
    },
    {
      "cell_type": "code",
      "execution_count": null,
      "metadata": {
        "id": "En_gV-kTpfmX",
        "outputId": "ab7b24ad-8e58-4554-e1cf-ae490ec175dd"
      },
      "outputs": [
        {
          "name": "stdout",
          "output_type": "stream",
          "text": [
            "6\n"
          ]
        }
      ],
      "source": [
        "numbers = [1, 2, 3]\n",
        "total = sum(x for x in numbers)  # Declarative, vs. loop-based imperative approach\n",
        "print(total)"
      ]
    },
    {
      "cell_type": "markdown",
      "metadata": {
        "id": "AyfD0RqkpfmY"
      },
      "source": [
        "5. **Avoiding Side Effects**:\n",
        "   - Side effects (e.g., modifying global variables, printing, or writing to files) are minimized to ensure predictability.\n",
        "   - **Example**: Instead of printing inside a function, return the result:"
      ]
    },
    {
      "cell_type": "code",
      "execution_count": null,
      "metadata": {
        "id": "IGVjbX20pfmY",
        "outputId": "cbbb5777-0c79-4746-8304-e0e758be052c"
      },
      "outputs": [
        {
          "name": "stdout",
          "output_type": "stream",
          "text": [
            "['ALICE', 'BOB']\n"
          ]
        }
      ],
      "source": [
        "def process_data(data):\n",
        "    return [x.upper() for x in data]  # Returns new list, no printing\n",
        "print(process_data(['alice', 'bob']))"
      ]
    },
    {
      "cell_type": "markdown",
      "metadata": {
        "id": "3j4l6VtjpfmY"
      },
      "source": [
        "6. **Function Composition**:\n",
        "   - Complex logic is built by combining simple, pure functions.\n",
        "   - **Example**:"
      ]
    },
    {
      "cell_type": "code",
      "execution_count": null,
      "metadata": {
        "id": "ON_Mx1zGpfmY",
        "outputId": "a780e48e-f39e-4a65-afa0-f3e24ac901d3"
      },
      "outputs": [
        {
          "name": "stdout",
          "output_type": "stream",
          "text": [
            "11\n"
          ]
        }
      ],
      "source": [
        "# !pip install toolz\n",
        "from toolz import compose\n",
        "\n",
        "def add_one(x): return x + 1\n",
        "def double(x): return x * 2\n",
        "process = compose(add_one, double)  # Equivalent to add_one(double(x))\n",
        "print(process(5))  # Output: 12"
      ]
    },
    {
      "cell_type": "markdown",
      "metadata": {
        "id": "_Bn90ssLpfmY"
      },
      "source": [
        "## Key Principles in Practice\n",
        "\n",
        "- **Recursion Over Loops**: FP favors recursion over loops to avoid mutable state.\n",
        "  - **Example**:"
      ]
    },
    {
      "cell_type": "code",
      "execution_count": null,
      "metadata": {
        "id": "RE3DbsNbpfmY",
        "outputId": "9d5dd7b1-d168-4742-df7a-6e81611a3ff3"
      },
      "outputs": [
        {
          "name": "stdout",
          "output_type": "stream",
          "text": [
            "120\n"
          ]
        }
      ],
      "source": [
        "def factorial(n):\n",
        "    return 1 if n == 0 else n * factorial(n - 1)\n",
        "print(factorial(5))  # Output: 120"
      ]
    },
    {
      "cell_type": "markdown",
      "metadata": {
        "id": "5cqNUZz3pfmZ"
      },
      "source": [
        "## Benefits of Functional Programming\n",
        "\n",
        "1. **Predictability**: Pure functions and immutability reduce unexpected behavior.\n",
        "2. **Modularity**: Small, reusable functions improve code organization.\n",
        "3. **Testability**: Pure functions are easy to test due to consistent input-output behavior.\n",
        "4. **Concurrency**: Immutability avoids issues like race conditions in multi-threaded programs.\n",
        "5. **Debugging**: Fewer side effects simplify debugging."
      ]
    },
    {
      "cell_type": "markdown",
      "metadata": {
        "id": "HXR3LR0LpfmZ"
      },
      "source": [
        "## Challenges of Functional Programming\n",
        "\n",
        "1. **Learning Curve**: Concepts like recursion and higher-order functions can be challenging for those accustomed to imperative programming.\n",
        "2. **Performance**: Immutability may lead to creating multiple data copies, though Python’s optimizations (e.g., generators) mitigate this.\n",
        "3. **Side Effects in Real-World Applications**: Programs often require I/O or state changes, which FP handles through controlled mechanisms, adding complexity."
      ]
    },
    {
      "cell_type": "markdown",
      "metadata": {
        "id": "e6EldvzBpfmZ"
      },
      "source": [
        "## Functional Programming Tools in Python\n",
        "\n",
        "- **Built-in Functions**: `map()`, `filter()`, `reduce()` (from `functools`), list comprehensions, and lambda functions.\n",
        "- **Libraries**:\n",
        "  - `functools`: Provides `reduce`, `partial`, and `compose`-like functionality.\n",
        "  - `itertools`: Offers tools for efficient iteration, like `chain`, `cycle`, and `groupby`.\n",
        "  - `toolz`/`cytoolz`: Functional programming libraries with utilities like `compose`, `curry`, and `pipe`.\n",
        "  - `pymonad`: For advanced FP concepts like monads.\n",
        "- **Generator Expressions**: Enable lazy evaluation for memory efficiency."
      ]
    },
    {
      "cell_type": "markdown",
      "metadata": {
        "id": "teozIFGOpfmZ"
      },
      "source": [
        "## Why Use Functional Programming in Python?\n",
        "\n",
        "Functional programming is particularly useful in Python for:\n",
        "- **Data Processing**: Libraries like `pandas` and `pyspark` use FP-inspired transformations.\n",
        "- **Web Development**: Frameworks like Flask or FastAPI benefit from pure functions for predictable APIs.\n",
        "- **Concurrency**: Immutability simplifies multi-threaded or distributed systems.\n",
        "- **Machine Learning**: Libraries like `scikit-learn` and `tensorflow` leverage FP for data pipelines."
      ]
    },
    {
      "cell_type": "markdown",
      "metadata": {
        "id": "DjAcr7uipfmZ"
      },
      "source": [
        "## Comparison to Other Paradigms\n",
        "\n",
        "- **Imperative Programming**: Focuses on explicit steps (e.g., loops, mutable state). FP describes transformations declaratively.\n",
        "- **Object-Oriented Programming (OOP)**: Centers on objects and state. FP avoids state, but Python often combines both (e.g., in `pandas` pipelines)."
      ]
    },
    {
      "cell_type": "markdown",
      "metadata": {
        "id": "E3YlN2L_pfmZ"
      },
      "source": [
        "## Summary and Conclusion\n",
        "\n",
        "Functional programming in Python promotes clean, predictable, and modular code through pure functions, immutability, and declarative techniques. While Python is not a purely functional language, tools like `map`, `filter`, `reduce`, and libraries like `toolz` enable FP practices. Despite challenges like performance overhead or managing side effects, FP enhances testability, concurrency, and maintainability, making it valuable for data science, web development, and more."
      ]
    },
    {
      "cell_type": "markdown",
      "metadata": {
        "id": "T1WMExBrpfmZ"
      },
      "source": [
        "## Resources\n",
        "\n",
        "1. **Fluent Python by Luciano Ramalho (2nd ed., 2022)**  \n",
        "   Covers functional programming techniques in Python, including `map`, `filter`, and `functools`.  \n",
        "   <https://www.oreilly.com/library/view/fluent-python-2nd/9781492056348/>\n",
        "\n",
        "2. **Python Documentation: Functional Programming HOWTO**  \n",
        "   Official guide to FP in Python with examples of `map`, `filter`, and `lambda`.  \n",
        "   <https://docs.python.org/3/howto/functional.html>\n",
        "\n",
        "3. **Toolz Documentation**  \n",
        "   Comprehensive guide to the `toolz` library for functional programming.  \n",
        "   <https://toolz.readthedocs.io/>\n",
        "\n",
        "4. **Real Python: Functional Programming in Python**  \n",
        "   Practical tutorial on applying FP concepts in Python.  \n",
        "   <https://realpython.com/python-functional-programming/>\n",
        "\n",
        "5. **PyData Talks on Functional Programming**  \n",
        "   Search for talks like “Functional Programming in Python” by David Mertz or others at PyData conferences.  \n",
        "   Search: \"PyData functional programming Python\""
      ]
    }
  ],
  "metadata": {
    "kernelspec": {
      "display_name": "3.11.11",
      "language": "python",
      "name": "python3"
    },
    "language_info": {
      "codemirror_mode": {
        "name": "ipython",
        "version": 3
      },
      "file_extension": ".py",
      "mimetype": "text/x-python",
      "name": "python",
      "nbconvert_exporter": "python",
      "pygments_lexer": "ipython3",
      "version": "3.11.11"
    },
    "colab": {
      "provenance": [],
      "include_colab_link": true
    }
  },
  "nbformat": 4,
  "nbformat_minor": 0
}