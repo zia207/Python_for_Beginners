{
 "cells": [
  {
   "cell_type": "markdown",
   "metadata": {},
   "source": [
    "<a href=\"https://github.com/zia207/python-colab/blob/main/NoteBook/Python_for_Beginners/01-01-02-python-colab.ipynb\" target=\"_parent\"><img src=\"https://colab.research.google.com/assets/colab-badge.svg\" alt=\"Open In Colab\"/></a>"
   ]
  },
  {
   "cell_type": "markdown",
   "metadata": {},
   "source": [
    "![alt text](http://drive.google.com/uc?export=view&id=1IFEWet-Aw4DhkkVe1xv_2YYqlvRe9m5_)"
   ]
  },
  {
   "cell_type": "markdown",
   "metadata": {},
   "source": [
    "# 1.2 Python in Google Colab — A Short Tutorial for Beginners\n",
    "\n",
    "**Google Colab** (short for Colaboratory) is a **free, browser-based** platform from Google that lets you write and run Python code — no setup required! Perfect for learning, data science, and machine learning."
   ]
  },
  {
   "cell_type": "markdown",
   "metadata": {},
   "source": [
    "##  Why Use Google Colab?\n",
    "\n",
    "- 💻 Runs in your browser — no install needed\n",
    "- 🆓 Free access to GPUs/TPUs (great for AI/ML)\n",
    "- 💾 Saves to Google Drive automatically\n",
    "- 📊 Built-in support for charts, tables, and markdown\n",
    "- 🤝 Easy to share with others"
   ]
  },
  {
   "cell_type": "markdown",
   "metadata": {},
   "source": [
    "### Open Google Colab\n",
    "\n",
    "Go to  [https://colab.research.google.com](https://colab.research.google.com)\n",
    "\n",
    "Click:\n",
    "> **New Notebook** → Creates a new `.ipynb` (Jupyter Notebook)"
   ]
  },
  {
   "cell_type": "markdown",
   "metadata": {},
   "source": [
    "##  Write & Run Python Code\n",
    "\n",
    "You’ll see a cell with a play button ▶️.\n",
    "\n",
    "Type Python code inside it:"
   ]
  },
  {
   "cell_type": "code",
   "execution_count": null,
   "metadata": {},
   "outputs": [],
   "source": [
    "print(\"Hello, Colab!\")"
   ]
  },
  {
   "cell_type": "markdown",
   "metadata": {},
   "source": [
    "Click the ▶️ button (or press `Shift + Enter`) to run it.\n",
    "\n",
    "Output appears right below the cell."
   ]
  },
  {
   "cell_type": "markdown",
   "metadata": {},
   "source": [
    "## Add More Cells\n",
    "\n",
    "- Click **+ Code** to add a new code cell.\n",
    "- Click **+ Text** to add a Markdown/text cell (for notes, headings, etc.).\n",
    "\n",
    "Example:"
   ]
  },
  {
   "cell_type": "code",
   "execution_count": null,
   "metadata": {},
   "outputs": [],
   "source": [
    "# Basic math\n",
    "x = 5\n",
    "y = 10\n",
    "print(f\"{x} + {y} = {x + y}\")"
   ]
  },
  {
   "cell_type": "markdown",
   "metadata": {},
   "source": [
    "## Upload & Use Data Files\n",
    "\n",
    "Want to load a CSV or image?"
   ]
  },
  {
   "cell_type": "code",
   "execution_count": null,
   "metadata": {},
   "outputs": [],
   "source": [
    "from google.colab import files\n",
    "uploaded = files.upload()  # Opens file picker"
   ]
  },
  {
   "cell_type": "markdown",
   "metadata": {},
   "source": [
    "Then read it (e.g., with pandas):"
   ]
  },
  {
   "cell_type": "code",
   "execution_count": null,
   "metadata": {},
   "outputs": [],
   "source": [
    "# Uncomment and run after uploading a CSV file\n",
    "# import pandas as pd\n",
    "# df = pd.read_csv(\"yourfile.csv\")\n",
    "# print(df.head())"
   ]
  },
  {
   "cell_type": "markdown",
   "metadata": {},
   "source": [
    "##  Save & Share\n",
    "\n",
    "- **Auto-saves** to Google Drive under `Colab Notebooks`.\n",
    "- Click **File → Save a copy in Drive** to keep versions.\n",
    "- Click **Share** (top-right) to send to friends or teachers."
   ]
  },
  {
   "cell_type": "markdown",
   "metadata": {},
   "source": [
    "##  Pro Tips\n",
    "\n",
    "- Use `!` to run shell commands:  \n",
    "  ```python\n",
    "  !pip install numpy\n",
    "  ```\n",
    "- Enable GPU:  \n",
    "  **Runtime → Change runtime type → Hardware accelerator → GPU**\n",
    "- Use keyboard shortcuts:  \n",
    "  `Ctrl + M H` → Show all shortcuts"
   ]
  },
  {
   "cell_type": "markdown",
   "metadata": {},
   "source": [
    "##  Summary\n",
    "\n",
    "| Task                 | How to Do It in Colab              |\n",
    "|----------------------|------------------------------------|\n",
    "| Run Python code      | Type in cell → `Shift + Enter`     |\n",
    "| Add new cell         | Click **+ Code**                   |\n",
    "| Upload files         | `files.upload()`                   |\n",
    "| Install packages     | `!pip install package_name`        |\n",
    "| Save notebook        | Auto-saves to Google Drive         |\n",
    "| Share notebook       | Click **Share** button             |"
   ]
  }
 ],
 "metadata": {
  "kernelspec": {
   "display_name": "Python 3",
   "language": "python",
   "name": "python3"
  },
  "language_info": {
   "codemirror_mode": {
    "name": "ipython",
    "version": 3
   },
   "file_extension": ".py",
   "mimetype": "text/x-python",
   "name": "python",
   "nbconvert_exporter": "python",
   "pygments_lexer": "ipython3",
   "version": "3.10.12"
  }
 },
 "nbformat": 4,
 "nbformat_minor": 4
}
