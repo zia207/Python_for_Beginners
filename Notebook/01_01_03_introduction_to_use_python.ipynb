{
  "cells": [
    {
      "cell_type": "markdown",
      "metadata": {
        "colab_type": "text",
        "id": "view-in-github"
      },
      "source": [
        "<a href=\"https://colab.research.google.com/github/zia207/python-colab/blob/main/NoteBook/Python_for_Beginners/01-01-03-introduction-to-use-python.ipynb\" target=\"_parent\"><img src=\"https://colab.research.google.com/assets/colab-badge.svg\" alt=\"Open In Colab\"/></a>"
      ]
    },
    {
      "cell_type": "markdown",
      "metadata": {
        "id": "BFTpc-8NmX8O"
      },
      "source": [
        "![alt text](http://drive.google.com/uc?export=view&id=1IFEWet-Aw4DhkkVe1xv_2YYqlvRe9m5_)"
      ]
    },
    {
      "cell_type": "markdown",
      "metadata": {
        "id": "0cozNkobmX8P"
      },
      "source": [
        "# 1.3 Introduction to Use Python\n",
        "\n",
        "This guide provides an introduction to using Python, a versatile and powerful programming language. Whether you're a beginner or looking to enhance your skills, this guide will help you get started with Python.\n",
        "\n"
      ]
    },
    {
      "cell_type": "markdown",
      "metadata": {
        "id": "A6KsIMjimX8P"
      },
      "source": [
        "## Working Directory\n",
        "\n",
        "The term “working directory” is frequently employed within the context of Python programming. Specifically, it pertains to the directory from which a Python script, data or interactive session is currently executing. In essence, the working directory represents the present location of a Python program within the file system of a computer. Notably, Python automatically searches the working directory for files in the event that a user does not specify a full path to a file. This is a useful feature that streamlines the process of accessing files within a specific location. By leveraging the working directory, programmers can easily organize and access files without the need to enter a full path each time they wish to do so.\n",
        "\n",
        "You can get the current working directory using the `os` module:"
      ]
    },
    {
      "cell_type": "code",
      "execution_count": 2,
      "metadata": {
        "id": "vUudeGzUmX8Q",
        "outputId": "0128ff6a-f08f-48b0-c5ce-f8d382f7fb31"
      },
      "outputs": [
        {
          "name": "stdout",
          "output_type": "stream",
          "text": [
            "Current working directory: /home/zia207/Dropbox/WebSites/GitHub_repository/python-websites/Python_for_Beginners/Notebook\n"
          ]
        }
      ],
      "source": [
        "import os\n",
        "\n",
        "current_directory = os.getcwd()\n",
        "print(\"Current working directory:\", current_directory)"
      ]
    },
    {
      "cell_type": "markdown",
      "metadata": {
        "id": "3eadzjBtmX8R"
      },
      "source": [
        "Example output:\n",
        "```\n",
        "Current working directory: /home/zia07/Dropbox/Python_Website/Python_Beginner\n",
        "```"
      ]
    },
    {
      "cell_type": "markdown",
      "metadata": {
        "id": "e5XtMubfmX8R"
      },
      "source": [
        "If you want to change the working directory, you can use `os.chdir()`:"
      ]
    },
    {
      "cell_type": "code",
      "execution_count": 3,
      "metadata": {
        "id": "xHbBgU8OmX8R",
        "outputId": "858eec86-9266-4c2e-fdec-8dbff4a5bf40"
      },
      "outputs": [
        {
          "name": "stdout",
          "output_type": "stream",
          "text": [
            "Current Working Directory  /home/zia207/Dropbox/WebSites/Python_Website/Quarto_Projects/Python_for_Beginners/Data\n"
          ]
        }
      ],
      "source": [
        "import os\n",
        "path = \"/home/zia207/Dropbox/WebSites/Python_Website/Quarto_Projects/Python_for_Beginners/Data/\"\n",
        "os.chdir(path)\n",
        "print(\"Current Working Directory \", os.getcwd())"
      ]
    },
    {
      "cell_type": "markdown",
      "metadata": {
        "id": "fSJbkrg-mX8S"
      },
      "source": [
        "Example output:\n",
        "```\n",
        "Current Working Directory  /home/zia07/Dropbox/Python_Website/Python_Beginner/Data\n",
        "```"
      ]
    },
    {
      "cell_type": "markdown",
      "metadata": {
        "id": "90jrQiOpmX8S"
      },
      "source": [
        "## Basic Mathematical Operators\n",
        "\n",
        "Python allows you to perform various mathematical operations using basic mathematical operators.\n",
        "\n",
        "Here’s an example of how you can use these operators in Python:"
      ]
    },
    {
      "cell_type": "code",
      "execution_count": null,
      "metadata": {
        "id": "-OaCnfY4mX8S",
        "outputId": "34cc33de-5f8f-44c8-9e2e-2adbc466f11b"
      },
      "outputs": [
        {
          "data": {
            "text/plain": [
              "8"
            ]
          },
          "execution_count": 3,
          "metadata": {},
          "output_type": "execute_result"
        }
      ],
      "source": [
        "# Addition\n",
        "5 + 3  # output: 8"
      ]
    },
    {
      "cell_type": "code",
      "execution_count": null,
      "metadata": {
        "id": "qZp5KhLtmX8T"
      },
      "outputs": [],
      "source": [
        "# Subtraction\n",
        "10 - 4  # output: 6"
      ]
    },
    {
      "cell_type": "code",
      "execution_count": null,
      "metadata": {
        "id": "SXu-LzvGmX8T"
      },
      "outputs": [],
      "source": [
        "# Multiplication\n",
        "6 * 2  # output: 12"
      ]
    },
    {
      "cell_type": "code",
      "execution_count": null,
      "metadata": {
        "id": "pz_vscTEmX8T"
      },
      "outputs": [],
      "source": [
        "# Division\n",
        "20 / 5  # output: 4.0"
      ]
    },
    {
      "cell_type": "code",
      "execution_count": null,
      "metadata": {
        "id": "F8w-bNeHmX8T"
      },
      "outputs": [],
      "source": [
        "# Floor Division (returns the integer part of the division)\n",
        "20 // 6  # output: 3"
      ]
    },
    {
      "cell_type": "code",
      "execution_count": null,
      "metadata": {
        "id": "FzlmsfYhmX8T"
      },
      "outputs": [],
      "source": [
        "# Modulus (returns the remainder of the division)\n",
        "20 % 6  # output: 2"
      ]
    },
    {
      "cell_type": "code",
      "execution_count": null,
      "metadata": {
        "id": "Paf5tWjMmX8T"
      },
      "outputs": [],
      "source": [
        "# Exponentiation\n",
        "2 ** 3  # output: 8"
      ]
    },
    {
      "cell_type": "markdown",
      "metadata": {
        "id": "fTwKzayXmX8T"
      },
      "source": [
        "## Assigning Values to Variables\n",
        "\n",
        "In Python, as in algebra, it is common to assign a computation to a variable name. This allows us to refer to the result of the computation later in our code. To assign a result to a variable, we use the `=` symbol."
      ]
    },
    {
      "cell_type": "code",
      "execution_count": null,
      "metadata": {
        "id": "tiGruq-_mX8U",
        "outputId": "7bd8c479-f819-41a5-a609-b2574a674d63"
      },
      "outputs": [
        {
          "name": "stdout",
          "output_type": "stream",
          "text": [
            "11\n"
          ]
        }
      ],
      "source": [
        "# Assigning a value to a variable\n",
        "x = 5\n",
        "\n",
        "# You can also assign the result of an expression to a variable\n",
        "y = 3 + 4\n",
        "\n",
        "# Variables can hold different types of data\n",
        "name = \"John\"\n",
        "age = 25\n",
        "is_student = True\n",
        "\n",
        "# You can also assign the value of one variable to another\n",
        "a = 10\n",
        "b = a  # Now b has the same value as a\n",
        "\n",
        "# Variables can be reassigned with new values\n",
        "x = 10\n",
        "x = x + 1\n",
        "print(x)  # output: 11"
      ]
    },
    {
      "cell_type": "markdown",
      "metadata": {
        "id": "4vzK3OWhmX8U"
      },
      "source": [
        "## Built-in Functions\n",
        "\n",
        "Python comes with a rich set of built-in functions that are readily available for you to use without needing to import any additional modules. Here are some important built-in functions in Python:"
      ]
    },
    {
      "cell_type": "code",
      "execution_count": null,
      "metadata": {
        "id": "-noKXkzXmX8U",
        "outputId": "963316a3-972f-49d0-bc76-72b700f87202"
      },
      "outputs": [
        {
          "name": "stdout",
          "output_type": "stream",
          "text": [
            "Hello, world!\n"
          ]
        }
      ],
      "source": [
        "print(\"Hello, world!\")  # output: Hello, world!"
      ]
    },
    {
      "cell_type": "code",
      "execution_count": null,
      "metadata": {
        "id": "1r99Geg3mX8U",
        "outputId": "0e188797-25c6-4ee3-c191-9de3c058d8d4"
      },
      "outputs": [
        {
          "name": "stdout",
          "output_type": "stream",
          "text": [
            "5\n"
          ]
        }
      ],
      "source": [
        "length = len(\"Hello\")\n",
        "print(length)  # output: 5"
      ]
    },
    {
      "cell_type": "code",
      "execution_count": null,
      "metadata": {
        "id": "1ZArwOoumX8U",
        "outputId": "320cf0e4-7aad-4dd2-87d3-baf7ad4f460f"
      },
      "outputs": [
        {
          "data": {
            "text/plain": [
              "int"
            ]
          },
          "execution_count": 7,
          "metadata": {},
          "output_type": "execute_result"
        }
      ],
      "source": [
        "t = type(5)\n",
        "t  # output: int"
      ]
    },
    {
      "cell_type": "code",
      "execution_count": null,
      "metadata": {
        "id": "oI3S6vU3mX8V",
        "outputId": "48fe13a3-901b-44f9-f779-027112d6f80e"
      },
      "outputs": [
        {
          "data": {
            "text/plain": [
              "[1, 2, 3, 4, 5]"
            ]
          },
          "execution_count": 8,
          "metadata": {},
          "output_type": "execute_result"
        }
      ],
      "source": [
        "numbers = list(range(1, 6))\n",
        "numbers  # output: [1, 2, 3, 4, 5]"
      ]
    },
    {
      "cell_type": "code",
      "execution_count": null,
      "metadata": {
        "id": "WR1J-oxdmX8V",
        "outputId": "fbdbc8ae-4456-4564-d2a0-03c93a8ad7c2"
      },
      "outputs": [
        {
          "data": {
            "text/plain": [
              "15"
            ]
          },
          "execution_count": 9,
          "metadata": {},
          "output_type": "execute_result"
        }
      ],
      "source": [
        "total = sum([1, 2, 3, 4, 5])\n",
        "total  # output: 15"
      ]
    },
    {
      "cell_type": "code",
      "execution_count": null,
      "metadata": {
        "id": "I7YITs-DmX8V",
        "outputId": "c3b95472-179b-474d-a6f9-75c5b08a89a1"
      },
      "outputs": [
        {
          "data": {
            "text/plain": [
              "1"
            ]
          },
          "execution_count": 11,
          "metadata": {},
          "output_type": "execute_result"
        }
      ],
      "source": [
        "max([3, 1, 4, 1, 5])  # output: 5\n",
        "min([3, 1, 4, 1, 5])  # output: 1"
      ]
    },
    {
      "cell_type": "code",
      "execution_count": null,
      "metadata": {
        "id": "wGwgNyz1mX8V",
        "outputId": "1bc5dddd-4616-496b-e05d-c55be01c824a"
      },
      "outputs": [
        {
          "data": {
            "text/plain": [
              "10"
            ]
          },
          "execution_count": 10,
          "metadata": {},
          "output_type": "execute_result"
        }
      ],
      "source": [
        "abs(-10)  # output: 10"
      ]
    },
    {
      "cell_type": "code",
      "execution_count": null,
      "metadata": {
        "id": "0qDBjgBXmX8W",
        "outputId": "623deab7-dcf0-48f0-9dd9-619ab2d863a5"
      },
      "outputs": [
        {
          "data": {
            "text/plain": [
              "3.14"
            ]
          },
          "execution_count": 12,
          "metadata": {},
          "output_type": "execute_result"
        }
      ],
      "source": [
        "round(3.14159, 2)  # output: 3.14"
      ]
    },
    {
      "cell_type": "code",
      "execution_count": null,
      "metadata": {
        "id": "4zsUjzpHmX8W",
        "outputId": "c7de3cc3-6cb0-4b41-c8d1-5a3dd9137ae9"
      },
      "outputs": [
        {
          "data": {
            "text/plain": [
              "[1, 1, 3, 4, 5]"
            ]
          },
          "execution_count": 13,
          "metadata": {},
          "output_type": "execute_result"
        }
      ],
      "source": [
        "sorted([3, 1, 4, 1, 5])  # output: [1, 1, 3, 4, 5]"
      ]
    },
    {
      "cell_type": "markdown",
      "metadata": {
        "id": "9_GlupMJmX8W"
      },
      "source": [
        "## Pre-built Modules\n",
        "\n",
        "Python includes a wide range of pre-built modules that serve various purposes. These modules offer a broad spectrum of functionalities such as file I/O, regular expression processing, network programming, web services, image processing, and many more. The built-in modules in Python provide an extensive and robust foundation for software development, which makes it a popular choice among developers.\n",
        "\n",
        "Here’s a list of some commonly used built-in modules in Python:\n",
        "\n",
        "- `os`: Provides a portable way of using operating system-dependent functionality.\n",
        "- `sys`: Provides access to some variables used or maintained by the Python interpreter and to functions that interact with the interpreter.\n",
        "- `math`: Provides mathematical functions defined by the C standard.\n",
        "- `random`: Implements pseudo-random number generators for various distributions.\n",
        "- `datetime`: Supplies classes for manipulating dates and times.\n",
        "- `json`: Encodes and decodes JSON data.\n",
        "- `csv`: Provides classes for reading and writing tabular data in CSV format.\n",
        "- `re`: Provides support for regular expressions (regex).\n",
        "- `collections`: Provides additional data structures like OrderedDict, defaultdict, Counter, etc.\n",
        "- `pickle`: Implements binary protocols for serializing and de-serializing Python objects.\n",
        "- `subprocess`: Allows you to spawn new processes, connect to their input/output/error pipes, and obtain their return codes.\n",
        "- `argparse`: Helps in parsing command-line arguments.\n",
        "- `logging`: Provides a flexible framework for emitting log messages from Python programs.\n",
        "- `socket`: Provides access to the BSD socket interface.\n",
        "- `requests`: Simplifies making HTTP requests.\n",
        "- `sqlite3`: Provides a lightweight database engine in Python standard library.\n",
        "- `unittest`: A unit testing framework.\n",
        "- `time`: Provides various time-related functions.\n",
        "- `multiprocessing`: Provides support for concurrent execution using processes.\n",
        "- `threading`: Provides support for working with threads.\n",
        "- `io`: Provides classes for working with streams of data.\n",
        "- `gzip`: Provides functions for working with gzip compressed files."
      ]
    },
    {
      "cell_type": "markdown",
      "metadata": {
        "id": "1Eu1tWKMmX8W"
      },
      "source": [
        "## Math Module\n",
        "\n",
        "The Python `math` module is a powerful package that comes with a wide range of functions and constants specifically designed for mathematical operations."
      ]
    },
    {
      "cell_type": "code",
      "execution_count": null,
      "metadata": {
        "id": "u1xqTgfWmX8W",
        "outputId": "bd03ec20-dc8a-4904-beb7-2c4e1fea123a"
      },
      "outputs": [
        {
          "name": "stdout",
          "output_type": "stream",
          "text": [
            "sin(45°) = 0.7071067811865475\n",
            "cos(45°) = 0.7071067811865476\n",
            "tan(45°) = 0.9999999999999999\n",
            "e^2 = 7.38905609893065\n",
            "log(10) = 2.302585092994046\n",
            "log10(100) = 2.0\n",
            "sqrt(25) = 5.0\n",
            "pi = 3.141592653589793\n",
            "e = 2.718281828459045\n",
            "ceil(3.14) = 4\n",
            "floor(3.14) = 3\n",
            "Factorial of 5 = 120\n",
            "Absolute value of -5.5 = 5.5\n"
          ]
        }
      ],
      "source": [
        "import math\n",
        "\n",
        "# Trigonometric functions\n",
        "angle_radians = math.radians(45)\n",
        "print(\"sin(45°) =\", math.sin(angle_radians))\n",
        "print(\"cos(45°) =\", math.cos(angle_radians))\n",
        "print(\"tan(45°) =\", math.tan(angle_radians))\n",
        "\n",
        "# Exponential and logarithmic functions\n",
        "print(\"e^2 =\", math.exp(2))\n",
        "print(\"log(10) =\", math.log(10))\n",
        "print(\"log10(100) =\", math.log10(100))\n",
        "print(\"sqrt(25) =\", math.sqrt(25))\n",
        "\n",
        "# Constants\n",
        "print(\"pi =\", math.pi)\n",
        "print(\"e =\", math.e)\n",
        "\n",
        "# Ceiling and floor functions\n",
        "print(\"ceil(3.14) =\", math.ceil(3.14))\n",
        "print(\"floor(3.14) =\", math.floor(3.14))\n",
        "\n",
        "# Factorial\n",
        "print(\"Factorial of 5 =\", math.factorial(5))\n",
        "\n",
        "# Absolute value\n",
        "print(\"Absolute value of -5.5 =\", math.fabs(-5.5))"
      ]
    },
    {
      "cell_type": "markdown",
      "metadata": {
        "id": "yaI5O6w8mX8W"
      },
      "source": [
        "## Datetime Module"
      ]
    },
    {
      "cell_type": "code",
      "execution_count": null,
      "metadata": {
        "id": "qVUgbBSvmX8W",
        "outputId": "a4dd60b8-0ed0-4599-d586-e992a9d5b1f5"
      },
      "outputs": [
        {
          "name": "stdout",
          "output_type": "stream",
          "text": [
            "Current date and time: 2025-09-10 14:53:12.004767\n",
            "Formatted datetime: 2025-09-10 14:53:12\n"
          ]
        }
      ],
      "source": [
        "from datetime import datetime\n",
        "\n",
        "# Get the current date and time\n",
        "current_datetime = datetime.now()\n",
        "print(\"Current date and time:\", current_datetime)\n",
        "\n",
        "# Format a datetime object as a string\n",
        "formatted_datetime = current_datetime.strftime(\"%Y-%m-%d %H:%M:%S\")\n",
        "print(\"Formatted datetime:\", formatted_datetime)"
      ]
    },
    {
      "cell_type": "markdown",
      "metadata": {
        "id": "9YYvDgjjmX8X"
      },
      "source": [
        "Example output:\n",
        "```\n",
        "Current date and time: 2024-02-22 23:39:15.073010\n",
        "Formatted datetime: 2024-02-22 23:39:15\n",
        "```"
      ]
    },
    {
      "cell_type": "markdown",
      "metadata": {
        "id": "UDzC98tgmX8X"
      },
      "source": [
        "## Basic Data Types\n",
        "\n",
        "In Python, data types represent the type of value a variable can hold. Here are some of the basic data types in Python:\n",
        "\n",
        "- **Numeric Types**:\n",
        "  - `int`: Integer type, e.g., 5, -3, 1000.\n",
        "  - `float`: Floating-point type, e.g., 3.14, -0.001, 2.0.\n",
        "- **Boolean Type**:\n",
        "  - `bool`: Represents boolean values `True` and `False`.\n",
        "- **Sequence Types**:\n",
        "  - `str`: String type, e.g., “hello”, ‘world’.\n",
        "  - `list`: Ordered collection of items, e.g., [1, 2, 3], [‘apple’, ‘banana’, ‘orange’].\n",
        "  - `tuple`: Ordered collection of items (immutable), e.g., (1, 2, 3), (‘a’, ‘b’, ‘c’).\n",
        "- **Mapping Type**:\n",
        "  - `dict`: Collection of key-value pairs, e.g., {‘name’: ‘Alice’, ‘age’: 30}.\n",
        "- **Set Types**:\n",
        "  - `set`: Unordered collection of unique items, e.g., {1, 2, 3}, {‘apple’, ‘banana’, ‘orange’}.\n",
        "  - `frozenset`: Immutable version of set.\n",
        "- **None Type**:\n",
        "  - `None`: Represents the absence of a value or a null value."
      ]
    },
    {
      "cell_type": "code",
      "execution_count": null,
      "metadata": {
        "id": "UlUhfdpBmX8X",
        "outputId": "900172e9-c987-49e6-ad0a-4e28e29a28c4"
      },
      "outputs": [
        {
          "name": "stdout",
          "output_type": "stream",
          "text": [
            "Integer: 5\n",
            "Float: 3.14\n",
            "Boolean (True): True\n",
            "Boolean (False): False\n",
            "String: hello\n",
            "List: [1, 2, 3, 4, 5]\n",
            "Tuple: ('a', 'b', 'c', 12, 0.5)\n",
            "Dictionary: {'name': 'Alice', 'age': 30}\n",
            "Set: {1, 2, 3, 4}\n",
            "Frozen Set: frozenset({1, 2, 3})\n",
            "None: None\n"
          ]
        }
      ],
      "source": [
        "# Numeric Types\n",
        "integer_num = 5\n",
        "float_num = 3.14\n",
        "\n",
        "# Boolean Type\n",
        "is_true = True\n",
        "is_false = False\n",
        "\n",
        "# Sequence Types\n",
        "string_var = \"hello\"\n",
        "list_var = [1, 2, 3, 4, 5]\n",
        "tuple_var = ('a', 'b', 'c', 12, 0.5)\n",
        "\n",
        "# Mapping Type\n",
        "dictionary_var = {'name': 'Alice', 'age': 30}\n",
        "\n",
        "# Set Types\n",
        "set_var = {1, 2, 3, 4}\n",
        "frozenset_var = frozenset({1, 2, 3})\n",
        "\n",
        "# None Type\n",
        "none_var = None\n",
        "\n",
        "# Printing the variables\n",
        "print(\"Integer:\", integer_num)\n",
        "print(\"Float:\", float_num)\n",
        "print(\"Boolean (True):\", is_true)\n",
        "print(\"Boolean (False):\", is_false)\n",
        "print(\"String:\", string_var)\n",
        "print(\"List:\", list_var)\n",
        "print(\"Tuple:\", tuple_var)\n",
        "print(\"Dictionary:\", dictionary_var)\n",
        "print(\"Set:\", set_var)\n",
        "print(\"Frozen Set:\", frozenset_var)\n",
        "print(\"None:\", none_var)"
      ]
    },
    {
      "cell_type": "markdown",
      "metadata": {
        "id": "98KId2FjmX8X"
      },
      "source": [
        "## Accessing Tuple Items\n",
        "\n",
        "Tuples are ordered collections of elements, similar to lists, but they are immutable. You can access tuple items using indexing or slicing."
      ]
    },
    {
      "cell_type": "code",
      "execution_count": null,
      "metadata": {
        "id": "n_2U4JybmX8X",
        "outputId": "bf667a1e-0a25-4167-8926-94e3ed79ce4b"
      },
      "outputs": [
        {
          "name": "stdout",
          "output_type": "stream",
          "text": [
            "apple\n",
            "banana\n",
            "cherry\n"
          ]
        }
      ],
      "source": [
        "my_tuple = ('apple', 'banana', 'cherry')\n",
        "\n",
        "# Access the first item\n",
        "first_item = my_tuple[0]\n",
        "print(first_item)  # Output: 'apple'\n",
        "\n",
        "# Access the second item\n",
        "second_item = my_tuple[1]\n",
        "print(second_item)  # Output: 'banana'\n",
        "\n",
        "# Access the last item using negative indexing\n",
        "last_item = my_tuple[-1]\n",
        "print(last_item)  # Output: 'cherry'"
      ]
    },
    {
      "cell_type": "code",
      "execution_count": null,
      "metadata": {
        "id": "3HwkSM_WmX8c",
        "outputId": "2fd04e69-1abb-49dd-b970-49ef3b7d2f9a"
      },
      "outputs": [
        {
          "name": "stdout",
          "output_type": "stream",
          "text": [
            "('banana', 'cherry')\n",
            "('cherry', 'date', 'elderberry')\n",
            "('apple', 'banana', 'cherry')\n"
          ]
        }
      ],
      "source": [
        "my_tuple = ('apple', 'banana', 'cherry', 'date', 'elderberry')\n",
        "\n",
        "# Get items from index 1 to 3 (excluding 3)\n",
        "subset = my_tuple[1:3]\n",
        "print(subset)  # Output: ('banana', 'cherry')\n",
        "\n",
        "# Get all items from index 2 to the end\n",
        "subset = my_tuple[2:]\n",
        "print(subset)  # Output: ('cherry', 'date', 'elderberry')\n",
        "\n",
        "# Get all items from the beginning to index 3 (excluding 3)\n",
        "subset = my_tuple[:3]\n",
        "print(subset)  # Output: ('apple', 'banana', 'cherry')"
      ]
    },
    {
      "cell_type": "markdown",
      "metadata": {
        "id": "L1RZpy0KmX8c"
      },
      "source": [
        "## Updating Tuples\n",
        "\n",
        "Tuples are immutable, so you can’t change them directly. But you can create a new tuple by concatenation or comprehension."
      ]
    },
    {
      "cell_type": "code",
      "execution_count": null,
      "metadata": {
        "id": "1odLjC9JmX8c",
        "outputId": "37e1ffa9-bf86-4e5e-9e77-ceba8dc14f8d"
      },
      "outputs": [
        {
          "name": "stdout",
          "output_type": "stream",
          "text": [
            "('apple', 'banana', 'orange', 'cherry')\n"
          ]
        }
      ],
      "source": [
        "# Concatenating Tuples\n",
        "my_tuple = ('apple', 'banana', 'cherry')\n",
        "updated_tuple = my_tuple[:2] + ('orange',) + my_tuple[2:]\n",
        "print(updated_tuple)  # output: ('apple', 'banana', 'orange', 'cherry')"
      ]
    },
    {
      "cell_type": "code",
      "execution_count": null,
      "metadata": {
        "id": "v5ppgE5bmX8d",
        "outputId": "ed70fb2c-c664-4c29-d8d8-847c06e7c49c"
      },
      "outputs": [
        {
          "name": "stdout",
          "output_type": "stream",
          "text": [
            "('apple', 'orange', 'cherry')\n"
          ]
        }
      ],
      "source": [
        "# Tuple Comprehension\n",
        "my_tuple = ('apple', 'banana', 'cherry')\n",
        "updated_tuple = tuple('orange' if item == 'banana' else item for item in my_tuple)\n",
        "print(updated_tuple)  # output: ('apple', 'orange', 'cherry')"
      ]
    },
    {
      "cell_type": "markdown",
      "metadata": {
        "id": "ChTqqL8smX8d"
      },
      "source": [
        "## Joining Tuples"
      ]
    },
    {
      "cell_type": "code",
      "execution_count": null,
      "metadata": {
        "id": "0HzWUfPomX8d",
        "outputId": "8796c69b-c9da-4f3d-9354-4f75e0eae0c7"
      },
      "outputs": [
        {
          "name": "stdout",
          "output_type": "stream",
          "text": [
            "('a', 'b', 'c', 1, 2, 3)\n"
          ]
        }
      ],
      "source": [
        "tuple1 = ('a', 'b', 'c')\n",
        "tuple2 = (1, 2, 3)\n",
        "\n",
        "joined_tuple = tuple1 + tuple2\n",
        "print(joined_tuple)  # output: ('a', 'b', 'c', 1, 2, 3)"
      ]
    },
    {
      "cell_type": "markdown",
      "metadata": {
        "id": "1MKg33bGmX8d"
      },
      "source": [
        "## Finding Index in Tuple"
      ]
    },
    {
      "cell_type": "code",
      "execution_count": null,
      "metadata": {
        "id": "mSsoCvhkmX8d",
        "outputId": "e4bad05f-a2f7-4f41-8bd0-89ccb99ae197"
      },
      "outputs": [
        {
          "name": "stdout",
          "output_type": "stream",
          "text": [
            "Index of 'banana': 1\n"
          ]
        }
      ],
      "source": [
        "my_tuple = ('apple', 'banana', 'cherry', 'banana')\n",
        "\n",
        "# Find the index of 'banana'\n",
        "index = my_tuple.index('banana')\n",
        "print(\"Index of 'banana':\", index)  # Output: 1"
      ]
    },
    {
      "cell_type": "code",
      "execution_count": null,
      "metadata": {
        "id": "ZkJN25S6mX8d",
        "outputId": "d6b6a327-983c-476b-a3ec-5925e4025e16"
      },
      "outputs": [
        {
          "name": "stdout",
          "output_type": "stream",
          "text": [
            "'orange' not found in the tuple\n"
          ]
        }
      ],
      "source": [
        "# Handle missing item\n",
        "try:\n",
        "    index = my_tuple.index('orange')\n",
        "    print(\"Index of 'orange':\", index)\n",
        "except ValueError:\n",
        "    print(\"'orange' not found in the tuple\")  # output: 'orange' not found in the tuple"
      ]
    },
    {
      "cell_type": "markdown",
      "metadata": {
        "id": "E_WsJwxYmX8e"
      },
      "source": [
        "## List\n",
        "\n",
        "Lists are ordered collections of items that can be changed (mutable). You can create a list using square brackets `[]` and separate items with commas. A  list is a mutable, ordered collection of items (elements) that can hold elements of different data types (integers, strings, floats, other lists, etc.). Lists are one of the most commonly used data structures in Python because they are flexible and dynamic — you can add, remove, or change elements after the list is created.\n",
        "\n",
        "Lists are defined using square brackets `[]`, with elements separated by commas."
      ]
    },
    {
      "cell_type": "code",
      "execution_count": null,
      "metadata": {
        "id": "iZXOo3FwmX8e"
      },
      "outputs": [],
      "source": [
        "# Example 1: List of integers\n",
        "numbers = [1, 2, 3, 4, 5]\n",
        "\n",
        "# Example 2: List of strings\n",
        "fruits = [\"apple\", \"banana\", \"cherry\"]\n",
        "\n",
        "# Example 3: Mixed data types\n",
        "mixed = [1, \"hello\", 3.14, True, [1, 2, 3]]  # includes int, str, float, bool, and another list!\n",
        "\n",
        "# Example 4: Empty list\n",
        "empty_list = []\n",
        "\n",
        "# Example 5: Nested list\n",
        "matrix = [[1, 2, 3],\n",
        "          [4, 5, 6],\n",
        "          [7, 8, 9]]"
      ]
    },
    {
      "cell_type": "code",
      "execution_count": null,
      "metadata": {
        "id": "C-9v_nGimX8e",
        "outputId": "ae969f1a-58db-4ae0-ca0b-659cea7b8f07"
      },
      "outputs": [
        {
          "name": "stdout",
          "output_type": "stream",
          "text": [
            "apple\n",
            "['apple', 'blueberry', 'cherry']\n",
            "['apple', 'blueberry', 'cherry', 'orange']\n",
            "['blueberry', 'cherry', 'orange']\n",
            "3\n"
          ]
        }
      ],
      "source": [
        "fruits = [\"apple\", \"banana\", \"cherry\"]\n",
        "\n",
        "# Accessing elements\n",
        "print(fruits[0])        # Output: \"apple\"\n",
        "\n",
        "# Modifying elements\n",
        "fruits[1] = \"blueberry\"\n",
        "print(fruits)           # Output: ['apple', 'blueberry', 'cherry']\n",
        "\n",
        "# Adding elements\n",
        "fruits.append(\"orange\")\n",
        "print(fruits)           # Output: ['apple', 'blueberry', 'cherry', 'orange']\n",
        "\n",
        "# Removing elements\n",
        "fruits.remove(\"apple\")\n",
        "print(fruits)           # Output: ['blueberry', 'cherry', 'orange']\n",
        "\n",
        "# Length of list\n",
        "print(len(fruits))      # Output: 3"
      ]
    },
    {
      "cell_type": "markdown",
      "metadata": {
        "id": "Wsi5vDPxmX8e"
      },
      "source": [
        "### Modifying Lists\n",
        "\n",
        "You can modify lists by adding, removing, or changing elements. Here are some common operations to modify lists:\n",
        "- **Adding Elements**:\n",
        "  - `append()`: Adds an element to the end of the list.\n",
        "  - `insert()`: Inserts an element at a specified index.\n",
        "  - `extend()`: Adds elements from another list (or any iterable) to the end of the list.\n",
        "- **Removing Elements**:\n",
        "  - `remove()`: Removes the first occurrence of a specified value.\n",
        "  - `pop()`: Removes and returns an element at a specified index (or the last element if no index is specified).\n",
        "  - `clear()`: Removes all elements from the list.\n",
        "- **Changing Elements**:\n",
        "    - You can change the value of an element by accessing it via its index and assigning a new value. Example:\n",
        "\n",
        "\n"
      ]
    },
    {
      "cell_type": "code",
      "execution_count": null,
      "metadata": {
        "id": "sycJbETEmX8e",
        "outputId": "0a957f7f-9c88-4631-f151-ddc1d1363097"
      },
      "outputs": [
        {
          "name": "stdout",
          "output_type": "stream",
          "text": [
            "Original list: ['apple', 'banana', 'cherry']\n",
            "\n",
            "========================================\n",
            "\n",
            "After append('orange'): ['apple', 'banana', 'cherry', 'orange']\n",
            "After insert(1, 'blueberry'): ['apple', 'blueberry', 'banana', 'cherry', 'orange']\n",
            "After extend(['mango', 'kiwi']): ['apple', 'blueberry', 'banana', 'cherry', 'orange', 'mango', 'kiwi']\n",
            "\n",
            "========================================\n",
            "\n",
            "After remove('banana'): ['apple', 'blueberry', 'cherry', 'orange', 'mango', 'kiwi']\n",
            "After pop() - removed: kiwi\n",
            "List now: ['apple', 'blueberry', 'cherry', 'orange', 'mango']\n",
            "After pop(1) - removed: blueberry\n",
            "List now: ['apple', 'cherry', 'orange', 'mango']\n",
            "After clear(): []\n",
            "\n",
            "========================================\n",
            "\n",
            "After changing elements: ['strawberry', 'cherry', 'orange', 'pineapple']\n",
            "After slice assignment: ['strawberry', 'grape', 'watermelon', 'pineapple']\n",
            "\n",
            "========================================\n",
            "\n",
            "Final list: ['strawberry', 'grape', 'watermelon', 'pineapple']\n"
          ]
        }
      ],
      "source": [
        "# Initial list\n",
        "fruits = [\"apple\", \"banana\", \"cherry\"]\n",
        "print(\"Original list:\", fruits)\n",
        "# Output: Original list: ['apple', 'banana', 'cherry']\n",
        "\n",
        "print(\"\\n\" + \"=\"*40 + \"\\n\")\n",
        "\n",
        "# ================================\n",
        "# ADDING ELEMENTS\n",
        "# ================================\n",
        "\n",
        "# 1. append() - adds to the END\n",
        "fruits.append(\"orange\")\n",
        "print(\"After append('orange'):\", fruits)\n",
        "# Output: ['apple', 'banana', 'cherry', 'orange']\n",
        "\n",
        "# 2. insert() - inserts at SPECIFIED INDEX\n",
        "fruits.insert(1, \"blueberry\")  # insert at index 1\n",
        "print(\"After insert(1, 'blueberry'):\", fruits)\n",
        "# Output: ['apple', 'blueberry', 'banana', 'cherry', 'orange']\n",
        "\n",
        "# 3. extend() - adds MULTIPLE elements from another iterable\n",
        "more_fruits = [\"mango\", \"kiwi\"]\n",
        "fruits.extend(more_fruits)\n",
        "print(\"After extend(['mango', 'kiwi']):\", fruits)\n",
        "# Output: ['apple', 'blueberry', 'banana', 'cherry', 'orange', 'mango', 'kiwi']\n",
        "\n",
        "print(\"\\n\" + \"=\"*40 + \"\\n\")\n",
        "\n",
        "# ================================\n",
        "# REMOVING ELEMENTS\n",
        "# ================================\n",
        "\n",
        "# 1. remove() - removes FIRST OCCURRENCE of a value\n",
        "fruits.remove(\"banana\")\n",
        "print(\"After remove('banana'):\", fruits)\n",
        "# Output: ['apple', 'blueberry', 'cherry', 'orange', 'mango', 'kiwi']\n",
        "\n",
        "# 2. pop() - removes and RETURNS element at given index (default: last)\n",
        "popped = fruits.pop()  # removes last item\n",
        "print(\"After pop() - removed:\", popped)\n",
        "print(\"List now:\", fruits)\n",
        "# Output: removed: kiwi\n",
        "#         List now: ['apple', 'blueberry', 'cherry', 'orange', 'mango']\n",
        "\n",
        "popped_index = fruits.pop(1)  # removes item at index 1\n",
        "print(\"After pop(1) - removed:\", popped_index)\n",
        "print(\"List now:\", fruits)\n",
        "# Output: removed: blueberry\n",
        "#         List now: ['apple', 'cherry', 'orange', 'mango']\n",
        "\n",
        "# 3. clear() - removes ALL elements\n",
        "# Let's make a copy first to preserve data\n",
        "temp_fruits = fruits.copy()\n",
        "temp_fruits.clear()\n",
        "print(\"After clear():\", temp_fruits)\n",
        "# Output: []\n",
        "\n",
        "print(\"\\n\" + \"=\"*40 + \"\\n\")\n",
        "\n",
        "# ================================\n",
        "# CHANGING ELEMENTS\n",
        "# ================================\n",
        "\n",
        "# Change value by index assignment\n",
        "fruits[0] = \"strawberry\"      # change first element\n",
        "fruits[-1] = \"pineapple\"      # change last element\n",
        "print(\"After changing elements:\", fruits)\n",
        "# Output: ['strawberry', 'cherry', 'orange', 'pineapple']\n",
        "\n",
        "# You can also replace a slice\n",
        "fruits[1:3] = [\"grape\", \"watermelon\"]  # replace index 1 and 2\n",
        "print(\"After slice assignment:\", fruits)\n",
        "# Output: ['strawberry', 'grape', 'watermelon', 'pineapple']\n",
        "\n",
        "print(\"\\n\" + \"=\"*40 + \"\\n\")\n",
        "\n",
        "# Final list\n",
        "print(\"Final list:\", fruits)\n",
        "# Output: ['strawberry', 'grape', 'watermelon', 'pineapple']"
      ]
    },
    {
      "cell_type": "markdown",
      "metadata": {
        "id": "4BhjbhHEmX8e"
      },
      "source": [
        "## Control Flow\n",
        "\n",
        "Control statements allow you to control the execution flow of your program — conditionals (`if`, `else`), loops (`for`, `while`), etc.\n",
        "\n",
        "Major types:\n",
        "- `if`: conditional programming\n",
        "- `if..else`: conditional programming\n",
        "- `for`: iterate over fixed number of items\n",
        "- `while`: loop until condition is `False`"
      ]
    },
    {
      "cell_type": "code",
      "execution_count": 2,
      "metadata": {
        "colab": {
          "base_uri": "https://localhost:8080/"
        },
        "id": "g3HR2UblmX8f",
        "outputId": "3a6e29dc-5b0b-4806-9380-03b13a8ca01e"
      },
      "outputs": [
        {
          "name": "stdout",
          "output_type": "stream",
          "text": [
            "=== CONTROL FLOW EXAMPLES ===\n",
            "\n",
            "🔹 1. 'if' Statement:\n",
            "It's a hot day!\n",
            "\n",
            "----------------------------------------\n",
            "\n",
            "🔹 2. 'if..else' Statement:\n",
            "It's not too hot today.\n",
            "\n",
            "----------------------------------------\n",
            "\n",
            "🔹 3. 'if..elif..else' Statement (Bonus!):\n",
            "Score: 85 → Grade: B\n",
            "\n",
            "----------------------------------------\n",
            "\n",
            "🔹 4. 'for' Loop:\n",
            "Fruits in my basket:\n",
            " - apple\n",
            " - banana\n",
            " - cherry\n",
            "\n",
            "Counting from 1 to 5:\n",
            "1 2 3 4 5 \n",
            "\n",
            "----------------------------------------\n",
            "\n",
            "🔹 5. 'while' Loop:\n",
            "Blastoff countdown:\n",
            "3\n",
            "2\n",
            "1\n",
            "Blastoff! \n",
            "\n",
            "----------------------------------------\n",
            "\n",
            "🔹 Bonus: 'while' with break and continue\n",
            "Skipping 3, stopping at 6:\n",
            "1 2 4 5 \n",
            "\n",
            "========================================\n"
          ]
        }
      ],
      "source": [
        "print(\"=== CONTROL FLOW EXAMPLES ===\\n\")\n",
        "\n",
        "# =============================================\n",
        "#  iif Statement — Conditional Programming\n",
        "# =============================================\n",
        "print(\"🔹 1. 'if' Statement:\")\n",
        "\n",
        "temperature = 30\n",
        "\n",
        "if temperature > 25:\n",
        "    print(\"It's a hot day!\")\n",
        "\n",
        "# Output: It's a hot day!\n",
        "\n",
        "print(\"\\n\" + \"-\"*40 + \"\\n\")\n",
        "\n",
        "# =============================================\n",
        "#  if..else Statement — Conditional Programming\n",
        "# =============================================\n",
        "print(\"🔹 2. 'if..else' Statement:\")\n",
        "\n",
        "temperature = 20\n",
        "\n",
        "if temperature > 25:\n",
        "    print(\"It's a hot day!\")\n",
        "else:\n",
        "    print(\"It's not too hot today.\")\n",
        "\n",
        "# Output: It's not too hot today.\n",
        "\n",
        "print(\"\\n\" + \"-\"*40 + \"\\n\")\n",
        "\n",
        "# =============================================\n",
        "#  if..elif..else — Multiple Conditions\n",
        "# =============================================\n",
        "print(\"🔹 3. 'if..elif..else' Statement (Bonus!):\")\n",
        "\n",
        "score = 85\n",
        "\n",
        "if score >= 90:\n",
        "    grade = \"A\"\n",
        "elif score >= 80:\n",
        "    grade = \"B\"\n",
        "elif score >= 70:\n",
        "    grade = \"C\"\n",
        "else:\n",
        "    grade = \"F\"\n",
        "\n",
        "print(f\"Score: {score} → Grade: {grade}\")\n",
        "# Output: Score: 85 → Grade: B\n",
        "\n",
        "print(\"\\n\" + \"-\"*40 + \"\\n\")\n",
        "\n",
        "# =============================================\n",
        "#  for Loop — Iterate Over Fixed Items\n",
        "# =============================================\n",
        "print(\"🔹 4. 'for' Loop:\")\n",
        "\n",
        "fruits = [\"apple\", \"banana\", \"cherry\"]\n",
        "\n",
        "print(\"Fruits in my basket:\")\n",
        "for fruit in fruits:\n",
        "    print(f\" - {fruit}\")\n",
        "\n",
        "# Output:\n",
        "# Fruits in my basket:\n",
        "#  - apple\n",
        "#  - banana\n",
        "#  - cherry\n",
        "\n",
        "print()\n",
        "\n",
        "# Using range()\n",
        "print(\"Counting from 1 to 5:\")\n",
        "for i in range(1, 6):  # range(1,6) = 1,2,3,4,5\n",
        "    print(i, end=\" \")\n",
        "print()\n",
        "\n",
        "# Output: 1 2 3 4 5\n",
        "\n",
        "print(\"\\n\" + \"-\"*40 + \"\\n\")\n",
        "\n",
        "# =============================================\n",
        "#  while Loop — Loop Until Condition is False\n",
        "# =============================================\n",
        "print(\"🔹 5. 'while' Loop:\")\n",
        "\n",
        "count = 3\n",
        "\n",
        "print(\"Blastoff countdown:\")\n",
        "while count > 0:\n",
        "    print(count)\n",
        "    count -= 1  # same as count = count - 1\n",
        "print(\"Blastoff! \")\n",
        "\n",
        "# Output:\n",
        "# Blastoff countdown:\n",
        "# 3\n",
        "# 2\n",
        "# 1\n",
        "# Blastoff!\n",
        "\n",
        "print(\"\\n\" + \"-\"*40 + \"\\n\")\n",
        "\n",
        "# =============================================\n",
        "# while with break and continue\n",
        "# =============================================\n",
        "print(\"🔹 Bonus: 'while' with break and continue\")\n",
        "\n",
        "x = 0\n",
        "print(\"Skipping 3, stopping at 6:\")\n",
        "while x < 10:\n",
        "    x += 1\n",
        "    if x == 3:\n",
        "        continue  # skip printing 3\n",
        "    if x == 6:\n",
        "        break     # stop loop when x is 6\n",
        "    print(x, end=\" \")\n",
        "print()\n",
        "\n",
        "# Output: 1 2 4 5\n",
        "\n",
        "print(\"\\n\" + \"=\"*40)\n"
      ]
    },
    {
      "cell_type": "markdown",
      "metadata": {
        "id": "yuyMqsdUmX8f"
      },
      "source": [
        "## Functions in Python\n",
        "\n",
        "Functions are reusable blocks of code. Defined with `def`, can take parameters and return values."
      ]
    },
    {
      "cell_type": "code",
      "execution_count": null,
      "metadata": {
        "id": "Q92CUQnzmX8f"
      },
      "outputs": [],
      "source": [
        "def add_numbers(x, y):\n",
        "    sum = x + y\n",
        "    return sum\n",
        "\n",
        "add_numbers(2,4)  # output: 6"
      ]
    },
    {
      "cell_type": "code",
      "execution_count": null,
      "metadata": {
        "id": "YJATnVPcmX8g"
      },
      "outputs": [],
      "source": [
        "result = add_numbers(3, 5)\n",
        "print(result)  # Output: 8"
      ]
    },
    {
      "cell_type": "code",
      "execution_count": null,
      "metadata": {
        "id": "t2OIkvjdmX8g"
      },
      "outputs": [],
      "source": [
        "def greet():\n",
        "    print(\"Hello, welcome!\")\n",
        "\n",
        "greet()  # Output: Hello, welcome!"
      ]
    },
    {
      "cell_type": "code",
      "execution_count": null,
      "metadata": {
        "id": "v06QQG5mmX8g"
      },
      "outputs": [],
      "source": [
        "def fulll_name(last_name):\n",
        "    return \"Zia \" + last_name\n",
        "\n",
        "fulll_name(\"Ahmed\")  # output: 'Zia Ahmed'"
      ]
    },
    {
      "cell_type": "markdown",
      "metadata": {
        "id": "PYsnhHpemX8g"
      },
      "source": [
        "### Nested Functions"
      ]
    },
    {
      "cell_type": "code",
      "execution_count": null,
      "metadata": {
        "id": "-GidxOo3mX8g"
      },
      "outputs": [],
      "source": [
        "def y():\n",
        "    r = 2\n",
        "    n = 5\n",
        "    def z():\n",
        "        return (1+r)**n\n",
        "    x = 10\n",
        "    return x/z()\n",
        "\n",
        "y()  # output: 0.0411522633744856"
      ]
    },
    {
      "cell_type": "markdown",
      "metadata": {
        "id": "aB8UBXOomX8g"
      },
      "source": [
        "### Returning Multiple Outputs"
      ]
    },
    {
      "cell_type": "code",
      "execution_count": null,
      "metadata": {
        "id": "LnfY08jqmX8g"
      },
      "outputs": [],
      "source": [
        "def results_all(x, y):\n",
        "    results1 = 2*x + y\n",
        "    results2 = x + 2*y\n",
        "    results3 = 2*x + 2*y\n",
        "    results4 = x/y\n",
        "    return [results1, results2, results3, results4]\n",
        "\n",
        "results_all(1, 2)  # output: [4, 5, 6, 0.5]"
      ]
    },
    {
      "cell_type": "markdown",
      "metadata": {
        "id": "-Dk3rXAcmX8h"
      },
      "source": [
        "### Row-wise Mean Function (Pandas)"
      ]
    },
    {
      "cell_type": "code",
      "execution_count": null,
      "metadata": {
        "id": "bi-vqk1omX8h"
      },
      "outputs": [],
      "source": [
        "import pandas as pd\n",
        "import numpy as np\n",
        "\n",
        "def calculate_row_mean(df):\n",
        "    \"\"\"\n",
        "    Calculate the row mean of a DataFrame.\n",
        "\n",
        "    Parameters:\n",
        "    df (pandas.DataFrame): Input DataFrame.\n",
        "\n",
        "    Returns:\n",
        "    pandas.Series: Row means.\n",
        "    \"\"\"\n",
        "    row_means = df.mean(axis=1)\n",
        "    return row_means\n",
        "\n",
        "# Create the dataframe\n",
        "df = pd.DataFrame({'A': [1, 2, 3], 'B': [4, 5, 6], 'C': [7, 8, 9]})\n",
        "# Calculate row mean\n",
        "calculate_row_mean(df)  # output: 0    4.0\n",
        "                        #         1    5.0\n",
        "                        #         2    6.0\n",
        "                        #         dtype: float64"
      ]
    },
    {
      "cell_type": "markdown",
      "metadata": {
        "id": "BiaBKzH6mX8h"
      },
      "source": [
        "### Column-wise Mean Function"
      ]
    },
    {
      "cell_type": "code",
      "execution_count": null,
      "metadata": {
        "id": "zEoSJGiomX8h"
      },
      "outputs": [],
      "source": [
        "import pandas as pd\n",
        "\n",
        "def calculate_column_mean(df):\n",
        "    \"\"\"\n",
        "    Calculate the column mean of a DataFrame.\n",
        "\n",
        "    Parameters:\n",
        "    df (pandas.DataFrame): Input DataFrame.\n",
        "\n",
        "    Returns:\n",
        "    pandas.Series: Column means.\n",
        "    \"\"\"\n",
        "    column_means = df.mean()\n",
        "    return column_means\n",
        "\n",
        "df = pd.DataFrame({'A': [1, 2, 3], 'B': [4, 5, 6], 'C': [7, 8, 9]})\n",
        "column_means = calculate_column_mean(df)\n",
        "print(column_means)  # output: A    2.0\n",
        "                     #         B    5.0\n",
        "                     #         C    8.0\n",
        "                     #         dtype: float64"
      ]
    },
    {
      "cell_type": "markdown",
      "metadata": {
        "id": "lIsewrbvmX8h"
      },
      "source": [
        "### Temperature Conversion Function"
      ]
    },
    {
      "cell_type": "code",
      "execution_count": null,
      "metadata": {
        "id": "2etUNDLAmX8h"
      },
      "outputs": [],
      "source": [
        "def C_to_F(C):\n",
        "    f = (9/5) * C + 32\n",
        "    return f\n",
        "\n",
        "C_to_F(10)  # output: 50.0"
      ]
    },
    {
      "cell_type": "code",
      "execution_count": null,
      "metadata": {
        "id": "oJstk5F1mX8h"
      },
      "outputs": [],
      "source": [
        "C = list(range(4, 11))\n",
        "f_values = [C_to_F(c) for c in C]\n",
        "f_values  # output: [39.2, 41.0, 42.8, 44.6, 46.4, 48.2, 50.0]"
      ]
    },
    {
      "cell_type": "markdown",
      "metadata": {
        "id": "m5AylKoWmX8h"
      },
      "source": [
        "$## Half-Life Calculation Function"
      ]
    },
    {
      "cell_type": "code",
      "execution_count": null,
      "metadata": {
        "id": "pyr_pnefmX8i"
      },
      "outputs": [],
      "source": [
        "import math\n",
        "\n",
        "def calculate_half_life(decay_constant):\n",
        "    \"\"\"\n",
        "    Calculate the half-life of a substance given the decay constant.\n",
        "\n",
        "    Parameters:\n",
        "    decay_constant (float): The decay constant of the substance.\n",
        "\n",
        "    Returns:\n",
        "    float: The half-life of the substance.\n",
        "    \"\"\"\n",
        "    half_life = math.log(2) / decay_constant\n",
        "    return half_life\n",
        "\n",
        "# Example usage:\n",
        "decay_constant = 0.1  # Example decay constant\n",
        "half_life = calculate_half_life(decay_constant)\n",
        "print(\"Half-life:\", half_life)  # output: Half-life: 6.931471805599452"
      ]
    },
    {
      "cell_type": "markdown",
      "metadata": {
        "id": "W_9kRh5fmX8i"
      },
      "source": [
        "##  Lambda Function\n",
        "\n",
        "A lambda function is a small anonymous function defined using the `lambda` keyword. It can take any number of arguments but can only have one expression. Lambda functions are often used for short, throwaway functions that are not reused elsewhere in the code (like in `map()`, `filter()`, `sorted()`, etc.).\n",
        "\n",
        "> lambda arguments: expression"
      ]
    },
    {
      "cell_type": "markdown",
      "metadata": {
        "id": "2J4ewBlbmX8i"
      },
      "source": [
        "### Simple Lambda — Add Two Numbers"
      ]
    },
    {
      "cell_type": "code",
      "execution_count": null,
      "metadata": {
        "id": "E7MtH8eqmX8i",
        "outputId": "738b7789-f0dd-4307-cc1b-208bbea9701d"
      },
      "outputs": [
        {
          "name": "stdout",
          "output_type": "stream",
          "text": [
            "8\n"
          ]
        }
      ],
      "source": [
        "add = lambda x, y: x + y\n",
        "print(add(3, 5))  # Output: 8"
      ]
    },
    {
      "cell_type": "markdown",
      "metadata": {
        "id": "7RI8pmzfmX8i"
      },
      "source": [
        "same as:"
      ]
    },
    {
      "cell_type": "code",
      "execution_count": null,
      "metadata": {
        "id": "GiEWcu6MmX8i"
      },
      "outputs": [],
      "source": [
        "def add(x, y):\n",
        "    return x + y"
      ]
    },
    {
      "cell_type": "markdown",
      "metadata": {
        "id": "RCoV85m_mX8i"
      },
      "source": [
        "### Square a Number"
      ]
    },
    {
      "cell_type": "code",
      "execution_count": null,
      "metadata": {
        "id": "qEUVO4wUmX8i",
        "outputId": "b115600b-7411-45b5-fe02-5676d10e297b"
      },
      "outputs": [
        {
          "name": "stdout",
          "output_type": "stream",
          "text": [
            "16\n"
          ]
        }
      ],
      "source": [
        "square = lambda x: x ** 2\n",
        "print(square(4))"
      ]
    },
    {
      "cell_type": "markdown",
      "metadata": {
        "id": "Xl4tBmUcmX8j"
      },
      "source": [
        "###  With `map()` — Apply function to every item"
      ]
    },
    {
      "cell_type": "code",
      "execution_count": null,
      "metadata": {
        "id": "maB-58e9mX8j",
        "outputId": "7f12669a-0cb3-4e14-f00e-6fc75d1a2beb"
      },
      "outputs": [
        {
          "name": "stdout",
          "output_type": "stream",
          "text": [
            "[1, 4, 9, 16]\n"
          ]
        }
      ],
      "source": [
        "numbers = [1, 2, 3, 4]\n",
        "squared = list(map(lambda x: x**2, numbers))\n",
        "print(squared)"
      ]
    },
    {
      "cell_type": "markdown",
      "metadata": {
        "id": "0ytm9y-2mX8j"
      },
      "source": [
        "### With `sorted()` — Custom sort order"
      ]
    },
    {
      "cell_type": "code",
      "execution_count": null,
      "metadata": {
        "id": "sA7lX4EqmX8j",
        "outputId": "cafaa800-0499-435d-9b15-357765cc9bc5"
      },
      "outputs": [
        {
          "name": "stdout",
          "output_type": "stream",
          "text": [
            "['Bob', 'Alice', 'Charlie']\n"
          ]
        }
      ],
      "source": [
        "names = [\"Alice\", \"Bob\", \"Charlie\"]\n",
        "sorted_by_length = sorted(names, key=lambda name: len(name))\n",
        "print(sorted_by_length)  # Output: ['Bob', 'Alice', 'Charlie']"
      ]
    },
    {
      "cell_type": "markdown",
      "metadata": {
        "id": "Ane7vCiHmX8j"
      },
      "source": [
        "## Classes and Objects\n",
        "Classes are blueprints for creating objects. They encapsulate data and behavior. Objects are instances of classes and can have attributes (data) and methods (functions) associated with them. In following example, we define a simple class `Dog` with attributes `name` and `age`, and a method `bark()` that prints a message. Objects `dog1` and `dog2` are created from the `Dog` class, and their attributes and methods are accessed.\n",
        "\n"
      ]
    },
    {
      "cell_type": "markdown",
      "metadata": {
        "id": "0J0H8lFumX8j"
      },
      "source": [
        "* `class Dog` = blueprint for dogs.\n",
        "* `__init__` = setup when dog is born (give it a name & age).\n",
        "* `self` = refers to this specific dog.\n",
        "* `bark()` = what the dog can do.\n",
        "* `my_dog` = actual dog created from the blueprint.\n"
      ]
    },
    {
      "cell_type": "code",
      "execution_count": null,
      "metadata": {
        "id": "fRMPx_SymX8j",
        "outputId": "ee5dc8c1-68a0-4a0b-86b0-e375d37818c8"
      },
      "outputs": [
        {
          "name": "stdout",
          "output_type": "stream",
          "text": [
            "Buddy\n",
            "3\n",
            "Woof!\n"
          ]
        }
      ],
      "source": [
        "### Example: Defining a Simple Class\n",
        "class Dog:\n",
        "    def __init__(self, name, age):\n",
        "        self.name = name\n",
        "        self.age = age\n",
        "\n",
        "    def bark(self):\n",
        "        return \"Woof!\"\n",
        "\n",
        "# Creating an instance (object) of the Dog class\n",
        "my_dog = Dog(\"Buddy\", 3)\n",
        "\n",
        "# Accessing attributes\n",
        "print(my_dog.name)  # Output: Buddy\n",
        "print(my_dog.age)   # Output: 3\n",
        "\n",
        "# Calling a method\n",
        "print(my_dog.bark())  # Output: Woof!"
      ]
    },
    {
      "cell_type": "markdown",
      "metadata": {
        "id": "ZoFdHTo-mX8k"
      },
      "source": [
        "## Dunder Methods\n",
        "Dunder methods (short for \"double underscore\" methods) are special methods in Python that have double underscores at the beginning and end of their names. They are also known as magic methods or special methods. Dunder methods allow you to define how objects of a class behave with respect to built-in operations and functions.\n",
        "\n",
        "By defining dunder methods, you can:\n",
        "\n",
        "- Make your objects printable in a nice way (`print(obj)`)\n",
        "- Add two objects together (`obj1 + obj2`)\n",
        "- Compare objects (`obj1 > obj2`)\n",
        "- Make objects iterable (`for item in obj`)\n",
        "- Use your object like a list or dictionary (`obj[key`])\n",
        "- And much more!\n"
      ]
    },
    {
      "cell_type": "markdown",
      "metadata": {
        "id": "zGLHHyyvmX8k"
      },
      "source": [
        "\n",
        "Some common dunder methods include:\n",
        "\n",
        "- `__init__(self, ...)`: Called when an object is created. Used for initializing attributes.\n",
        "- `__str__(self)`: Called by the `print()` function and `str()` to get a string representation of the object.\n",
        "- `__repr__(self)`: Called by the `repr()` function to get an \"official\" string representation of the object.\n",
        "- `__len__(self)`: Called by the `len()` function to get the length of the object.\n",
        "- `__getitem__(self, key)`: Called to get an item from a collection using square brackets (e.g., `obj[key]`).\n",
        "- `__setitem__(self, key, value)`: Called to set an item in a collection using square brackets (e.g., `obj[key] = value`).\n",
        "- `__delitem__(self, key)`: Called to delete an item from a collection using square brackets (e.g., `del obj[key]`).\n",
        "- `__add__(self, other)`: Called to add two objects using the `+` operator.\n",
        "- `__sub__(self, other)`: Called to subtract two objects using the `-` operator.\n",
        "- `__eq__(self, other)`: Called to compare two objects for equality using the `==` operator.\n",
        "- `__lt__(self, other)`: Called to compare two objects for less-than using the `<` operator.\n",
        "\n",
        "By implementing these methods, you can make your custom classes work seamlessly with Python's built-in features and syntax."
      ]
    },
    {
      "cell_type": "code",
      "execution_count": null,
      "metadata": {
        "id": "8eZZVkcfmX8k"
      },
      "outputs": [],
      "source": [
        "class CustomList:\n",
        "    def __init__(self, items=None):\n",
        "        \"\"\"Initialize the list. Called when object is created.\"\"\"\n",
        "        self.items = items if items is not None else []\n",
        "\n",
        "    def __str__(self):\n",
        "        \"\"\"Called by print() and str(). Returns user-friendly string.\"\"\"\n",
        "        return f\"CustomList({self.items})\"\n",
        "\n",
        "    def __repr__(self):\n",
        "        \"\"\"Called by repr(). Returns 'official' string (ideally recreatable).\"\"\"\n",
        "        return f\"CustomList({self.items!r})\"\n",
        "\n",
        "    def __len__(self):\n",
        "        \"\"\"Called by len(). Returns number of items.\"\"\"\n",
        "        return len(self.items)\n",
        "\n",
        "    def __getitem__(self, key):\n",
        "        \"\"\"Called for obj[key]. Get item at index or slice.\"\"\"\n",
        "        return self.items[key]\n",
        "\n",
        "    def __setitem__(self, key, value):\n",
        "        \"\"\"Called for obj[key] = value. Set item at index or slice.\"\"\"\n",
        "        self.items[key] = value\n",
        "\n",
        "    def __delitem__(self, key):\n",
        "        \"\"\"Called for del obj[key]. Delete item at index or slice.\"\"\"\n",
        "        del self.items[key]\n",
        "\n",
        "    def __add__(self, other):\n",
        "        \"\"\"Called for obj1 + obj2. Concatenate two CustomLists.\"\"\"\n",
        "        if isinstance(other, CustomList):\n",
        "            return CustomList(self.items + other.items)\n",
        "        else:\n",
        "            raise TypeError(\"Can only add another CustomList\")\n",
        "\n",
        "    def __sub__(self, other):\n",
        "        \"\"\"Called for obj1 - obj2. Remove elements in other from self.\"\"\"\n",
        "        if isinstance(other, CustomList):\n",
        "            result = [item for item in self.items if item not in other.items]\n",
        "            return CustomList(result)\n",
        "        else:\n",
        "            raise TypeError(\"Can only subtract another CustomList\")\n",
        "\n",
        "    def __eq__(self, other):\n",
        "        \"\"\"Called for obj1 == obj2. Check if items are equal.\"\"\"\n",
        "        if isinstance(other, CustomList):\n",
        "            return self.items == other.items\n",
        "        return False\n",
        "\n",
        "    def __lt__(self, other):\n",
        "        \"\"\"Called for obj1 < obj2. Compare by length.\"\"\"\n",
        "        if isinstance(other, CustomList):\n",
        "            return len(self) < len(other)\n",
        "        return NotImplemented\n",
        "\n"
      ]
    },
    {
      "cell_type": "markdown",
      "metadata": {
        "id": "bIsLY0lTmX8k"
      },
      "source": [
        "### Using the CustomList Class"
      ]
    },
    {
      "cell_type": "code",
      "execution_count": null,
      "metadata": {
        "id": "eFjBd9qbmX8k",
        "outputId": "ac83abdd-97b5-45b6-80c0-76241ed4d990"
      },
      "outputs": [
        {
          "name": "stdout",
          "output_type": "stream",
          "text": [
            "=== Creating and Initializing ===\n",
            "CustomList([1, 2, 3])\n",
            "CustomList([1, 2, 3])\n",
            "\n",
            "=== Length ===\n",
            "3\n",
            "\n",
            "=== Indexing ===\n",
            "1\n",
            "CustomList([99, 2, 3])\n",
            "CustomList([2, 3])\n",
            "\n",
            "=== Addition & Subtraction ===\n",
            "cl1 + cl2 = CustomList([2, 3, 4, 5])\n",
            "cl3 - cl4 = CustomList([3, 5])\n",
            "\n",
            "=== Comparison ===\n",
            "cl1 == CustomList([2, 3]) → True\n",
            "cl1 < cl3 → True\n",
            "\n",
            "=== Edge Case: Invalid Operations ===\n",
            "Error: Can only add another CustomList\n"
          ]
        }
      ],
      "source": [
        "# =============================================================\n",
        "# DEMO: Using the CustomList Class\n",
        "# =============================================================\n",
        "\n",
        "print(\"=== Creating and Initializing ===\")\n",
        "cl1 = CustomList([1, 2, 3])      # __init__\n",
        "cl2 = CustomList([4, 5])\n",
        "\n",
        "print(cl1)                       # __str__ → CustomList([1, 2, 3])\n",
        "print(repr(cl1))                 # __repr__ → CustomList([1, 2, 3])\n",
        "\n",
        "print(\"\\n=== Length ===\")\n",
        "print(len(cl1))                  # __len__ → 3\n",
        "\n",
        "print(\"\\n=== Indexing ===\")\n",
        "print(cl1[0])                    # __getitem__ → 1\n",
        "cl1[0] = 99                      # __setitem__\n",
        "print(cl1)                       # → CustomList([99, 2, 3])\n",
        "del cl1[0]                       # __delitem__\n",
        "print(cl1)                       # → CustomList([2, 3])\n",
        "\n",
        "print(\"\\n=== Addition & Subtraction ===\")\n",
        "cl3 = cl1 + cl2                  # __add__\n",
        "print(\"cl1 + cl2 =\", cl3)        # → CustomList([2, 3, 4, 5])\n",
        "\n",
        "cl4 = CustomList([2, 4])\n",
        "cl5 = cl3 - cl4                  # __sub__\n",
        "print(\"cl3 - cl4 =\", cl5)        # → CustomList([3, 5])  (removed 2 and 4)\n",
        "\n",
        "print(\"\\n=== Comparison ===\")\n",
        "print(\"cl1 == CustomList([2, 3]) →\", cl1 == CustomList([2, 3]))  # __eq__ → True\n",
        "print(\"cl1 < cl3 →\", cl1 < cl3)  # __lt__ → True (2 < 4)\n",
        "\n",
        "print(\"\\n=== Edge Case: Invalid Operations ===\")\n",
        "try:\n",
        "    result = cl1 + \"not a list\"\n",
        "except TypeError as e:\n",
        "    print(\"Error:\", e)           # → Error: Can only add another CustomList"
      ]
    },
    {
      "cell_type": "markdown",
      "metadata": {
        "id": "QmFATD1gmX8k"
      },
      "source": [
        "### Dunder Method Quick Reference\n",
        "\n",
        "| Method             | Triggered By             | Purpose                                 |\n",
        "|--------------------|--------------------------|------------------------------------------|\n",
        "| `__init__`         | `CustomList([1,2,3])`    | Initialize object                        |\n",
        "| `__str__`          | `print(obj)`             | User-friendly string                     |\n",
        "| `__repr__`         | `repr(obj)`              | Developer-friendly / recreatable string  |\n",
        "| `__len__`          | `len(obj)`               | Return “length” of object                |\n",
        "| `__getitem__`      | `obj[key]`               | Get item by index or key                 |\n",
        "| `__setitem__`      | `obj[key] = value`       | Set item at index or key                 |\n",
        "| `__delitem__`      | `del obj[key]`           | Delete item at index or key              |\n",
        "| `__add__`          | `obj1 + obj2`            | Define addition behavior                 |\n",
        "| `__sub__`          | `obj1 - obj2`            | Define subtraction behavior              |\n",
        "| `__eq__`           | `obj1 == obj2`           | Define equality                          |\n",
        "| `__lt__`           | `obj1 < obj2`            | Define “less than” comparison            |\n",
        "\n"
      ]
    },
    {
      "cell_type": "markdown",
      "metadata": {
        "id": "VTgygMeFmX8l"
      },
      "source": [
        "### __main__\n",
        "\n",
        "`__main__` is the name of the environment where top-level Python code is run — “the main program”.\n",
        "\n",
        "When you run a Python script directly, Python sets the special variable __name__ to \"__main__\"."
      ]
    },
    {
      "cell_type": "code",
      "execution_count": null,
      "metadata": {
        "id": "YQgjKJPAmX8l",
        "outputId": "1f2ec676-71e7-4a43-94e5-fbcba8b338f6"
      },
      "outputs": [
        {
          "name": "stdout",
          "output_type": "stream",
          "text": [
            "Hello from main!\n"
          ]
        }
      ],
      "source": [
        "if __name__ == \"__main__\":\n",
        "    # This code only runs if you execute THIS file directly\n",
        "    print(\"Hello from main!\")"
      ]
    },
    {
      "cell_type": "markdown",
      "metadata": {
        "id": "LnRY8WPnmX8l"
      },
      "source": [
        "Let’s say you have a file called greet.py:"
      ]
    },
    {
      "cell_type": "code",
      "execution_count": null,
      "metadata": {
        "id": "0bHxg9aqmX8l"
      },
      "outputs": [],
      "source": [
        "# # greet.py\n",
        "def say_hello(name):\n",
        "    return f\"Hello, {name}!\"\n",
        "\n",
        "# This block only runs if you RUN this file directly\n",
        "if __name__ == \"__main__\":\n",
        "    print(say_hello(\"Alice\"))"
      ]
    },
    {
      "cell_type": "code",
      "execution_count": null,
      "metadata": {
        "id": "FQ0w4TYDmX8l",
        "outputId": "aaee4dca-220f-4ef0-de5f-2af0fa28a1dd"
      },
      "outputs": [
        {
          "name": "stdout",
          "output_type": "stream",
          "text": [
            "Hello, Alice!\n"
          ]
        }
      ],
      "source": [
        "! python greet.py"
      ]
    },
    {
      "cell_type": "markdown",
      "metadata": {
        "id": "wmlua-HzmX8l"
      },
      "source": [
        " The if __name__ == \"__main__\": block runs."
      ]
    },
    {
      "cell_type": "code",
      "execution_count": null,
      "metadata": {
        "id": "cd90afkxmX8l",
        "outputId": "add90100-cf57-421f-ff20-f93d9f237932"
      },
      "outputs": [
        {
          "name": "stdout",
          "output_type": "stream",
          "text": [
            "Hello, Bob!\n"
          ]
        }
      ],
      "source": [
        "import greet\n",
        "\n",
        "print(greet.say_hello(\"Bob\"))"
      ]
    },
    {
      "cell_type": "markdown",
      "metadata": {
        "id": "Bzh-wwJUmX8m"
      },
      "source": [
        "## Summary and Conclusion\n",
        "\n",
        "This guide provided an introduction to using Python, covering essential topics such as working directories, basic mathematical operators, variable assignment, built-in functions, pre-built modules, data types, control flow, functions, lambda functions, classes and objects, and dunder methods. By understanding these fundamental concepts, you can start writing Python code effectively and explore more advanced topics in the future. Happy coding!"
      ]
    },
    {
      "cell_type": "markdown",
      "metadata": {
        "id": "gGIdICPVmX8m"
      },
      "source": [
        "## Resources\n",
        "\n",
        "1. [Python.org — Official Tutorial](https://docs.python.org/3/tutorial/)\n",
        "\n",
        "2. [Automate the Boring Stuff with Python — Free Online Book + Videos](https://automatetheboringstuff.com/)\n",
        "\n",
        "3. [Real Python — Tutorials](https://realpython.com/start-here/)\n",
        "\n",
        "4. [W3Schools Python Tutorial](https://www.w3schools.com/python/)\n",
        "\n",
        "5. [freeCodeCamp — Learn Python — Full Course for Beginners (YouTube)](https://www.youtube.com/watch?v=rfscVS0vtbw)\n",
        "\n",
        "6. [Google’s Python Class](https://developers.google.com/edu/python)\n",
        "\n",
        "\n",
        "\n",
        "## Recommended Books (Beginner-Friendly)\n",
        "\n",
        "1. “Python Crash Course” by Eric Matthes\n",
        "\n",
        "2. “Automate the Boring Stuff with Python” by Al Sweigart\n",
        "\n",
        "3. “Learn Python 3 the Hard Way” by Zed Shaw\n",
        "\n",
        "##  Interactive Learning Platforms\n",
        "\n",
        "1. [Codecademy — Learn Python 3](https://www.codecademy.com/learn/learn-python-3)\n",
        "\n",
        "2. [DataCamp — Intro to Python](https://www.datacamp.com/courses/intro-to-python-for-data-science)\n",
        "\n",
        "3. [SoloLearn — Python Course (Mobile App + Web)](https://www.sololearn.com/learning/1073)\n",
        "\n",
        "## Practice & Challenges\n",
        "\n",
        "1. [Exercism — Python Track](https://exercism.org/tracks/python)\n",
        "\n",
        "2. [Edabit — Python Challenges](https://edabit.com/challenges/python3)\n",
        "\n",
        "3. [Codewars — Python Katas](https://www.codewars.com/?language=python)\n",
        "\n",
        "\n",
        "## Tools & Setup for Beginners\n",
        "\n",
        "1  Install Python: [python.org/downloads](https://www.python.org/downloads/)\n",
        "\n",
        "2. Use an IDE or Editor:\n",
        "\n",
        "- **Thonny** — Super simple IDE for beginners ([thonny.org](https://thonny.org/))\n",
        "- **VS Code** — Popular, free, powerful ([code.visualstudio.com](https://code.visualstudio.com/))\n",
        "- **Jupyter Notebook** — Great for learning and data projects ([jupyter.org](https://jupyter.org/))\n",
        "\n",
        "3. Online Python Editors (No Install Needed):\n",
        "\n",
        "- [replit.com](https://replit.com/)\n",
        "- [trinket.io](https://trinket.io/python3)\n",
        "- [Google Colab](https://colab.research.google.com/)\n",
        "\n",
        "## YouTube Channels\n",
        "\n",
        "1. **Corey Schafer**\n",
        "\n",
        "- clear, professional tutorials on Python basics, OOP, Flask, etc.\n",
        "- [youtube.com/c/CoreySchafer](https://www.youtube.com/c/CoreySchafer)\n",
        "\n",
        " 2. **CS Dojo / YK Sugi**\n",
        "\n",
        "- Beginner-friendly explanations and career advice.\n",
        "- [youtube.com/c/CSDojo](https://www.youtube.com/c/CSDojo)\n",
        "\n",
        " 3. **freeCodeCamp.org**\n",
        "\n",
        "- Full-length courses (4–12 hours) — great for deep dives.\n",
        "\n",
        "\n",
        "## Communities for Help\n",
        "\n",
        "- **Reddit**: r/learnpython — friendly, active, beginner-focused.\n",
        "- **Stack Overflow**: Ask specific coding questions.\n",
        "- **Discord**: Python Discord server — live chat with learners and pros.\n",
        "- **Python Discord Invite**: [https://discord.gg/python](https://discord.gg/python)\n",
        "\n",
        "\n",
        "\n",
        "## Quick Start Roadmap for Beginners\n",
        "\n",
        "1. Install Python + Thonny or VS Code\n",
        "2. Learn: variables, data types, input/output, conditionals, loops\n",
        "3. Practice: small programs (calculator, to-do list, quiz)\n",
        "4. Learn: functions, lists, dictionaries\n",
        "5. Learn: file handling, error handling\n",
        "6. Learn: OOP basics (classes, objects)\n",
        "7. Build a project! (e.g., number guessing game, contact book, web scraper)"
      ]
    }
  ],
  "metadata": {
    "colab": {
      "include_colab_link": true,
      "provenance": []
    },
    "kernelspec": {
      "display_name": "Python 3",
      "language": "python",
      "name": "python3"
    },
    "language_info": {
      "codemirror_mode": {
        "name": "ipython",
        "version": 3
      },
      "file_extension": ".py",
      "mimetype": "text/x-python",
      "name": "python",
      "nbconvert_exporter": "python",
      "pygments_lexer": "ipython3",
      "version": "3.10.12"
    }
  },
  "nbformat": 4,
  "nbformat_minor": 0
}
