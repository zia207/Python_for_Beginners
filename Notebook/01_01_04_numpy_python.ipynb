{
  "cells": [
    {
      "cell_type": "markdown",
      "metadata": {
        "id": "view-in-github",
        "colab_type": "text"
      },
      "source": [
        "<a href=\"https://colab.research.google.com/github/zia207/python-colab/blob/main/NoteBook/Python_for_Beginners/01-01-04-numpy-python.ipynb\" target=\"_parent\"><img src=\"https://colab.research.google.com/assets/colab-badge.svg\" alt=\"Open In Colab\"/></a>"
      ]
    },
    {
      "cell_type": "markdown",
      "metadata": {
        "id": "agQeM8rWnA2l"
      },
      "source": [
        "![alt text](http://drive.google.com/uc?export=view&id=1IFEWet-Aw4DhkkVe1xv_2YYqlvRe9m5_)"
      ]
    },
    {
      "cell_type": "markdown",
      "metadata": {
        "id": "D4deiIGdnA2l"
      },
      "source": [
        "# NumPy  for Beginners\n",
        "\n",
        "NumPy is a powerful Python library for numerical computing. It provides support for large, multi-dimensional arrays and matrices, along with a collection of mathematical functions to operate on these arrays efficiently. This tutorial introduces the basics of NumPy for beginners, with additional sections on advanced features and integration with other libraries.\n",
        "\n"
      ]
    },
    {
      "cell_type": "markdown",
      "metadata": {
        "id": "DGyGcScEnA2l"
      },
      "source": [
        "![alt text](http://drive.google.com/uc?export=view&id=1hYN6aYFgDRJ2aV499MHOU4OSVK29lmB1)"
      ]
    },
    {
      "cell_type": "markdown",
      "metadata": {
        "id": "WGKdr41snA2m"
      },
      "source": [
        "## Prerequisites\n",
        "\n",
        "- Basic knowledge of Python\n",
        "- Python installed (version 3.6 or higher recommended)\n",
        "- NumPy installed (install via `pip install numpy`)\n",
        "- Pandas and Matplotlib installed for later sections (install via `pip install pandas matplotlib`)"
      ]
    },
    {
      "cell_type": "markdown",
      "metadata": {
        "id": "79fHb9irnA2m"
      },
      "source": [
        "##  Introduction to NumPy\n",
        "NumPy (Numerical Python) is the foundation for many scientific and data analysis libraries in Python, such as Pandas, SciPy, and Matplotlib. It is optimized for performance, using efficient array operations implemented in C.\n",
        "\n",
        "### Why Use NumPy?\n",
        "- **Fast**: NumPy arrays are faster than Python lists for numerical operations.\n",
        "- **Convenient**: Provides a wide range of mathematical functions.\n",
        "- **Memory Efficient**: Uses less memory than Python lists.\n",
        "- **Multi-dimensional Arrays**: Supports arrays of any dimension (1D, 2D, 3D, etc.)."
      ]
    },
    {
      "cell_type": "markdown",
      "metadata": {
        "id": "lYneTZU4nA2m"
      },
      "source": [
        "##  Getting Started\n",
        "First, import NumPy in your Python script or notebook:"
      ]
    },
    {
      "cell_type": "code",
      "execution_count": null,
      "metadata": {
        "id": "_9M99MIpnA2n"
      },
      "outputs": [],
      "source": [
        "import numpy as np"
      ]
    },
    {
      "cell_type": "markdown",
      "metadata": {
        "id": "MWTZ5QS3nA2n"
      },
      "source": [
        "The alias `np` is a common convention to make code shorter."
      ]
    },
    {
      "cell_type": "markdown",
      "metadata": {
        "id": "ZHKLdl0unA2o"
      },
      "source": [
        "##  Creating NumPy Arrays\n",
        "NumPy arrays (`ndarray`) are the core data structure. Here are common ways to create them:\n",
        "\n",
        "### From a Python List"
      ]
    },
    {
      "cell_type": "code",
      "execution_count": null,
      "metadata": {
        "id": "PmX8-clznA2o",
        "outputId": "9ef67279-aa40-48d6-9950-b14f5e69312e"
      },
      "outputs": [
        {
          "name": "stdout",
          "output_type": "stream",
          "text": [
            "[1 2 3 4]\n",
            "[[1 2]\n",
            " [3 4]]\n"
          ]
        }
      ],
      "source": [
        "# 1D array\n",
        "arr1 = np.array([1, 2, 3, 4])\n",
        "print(arr1)  # Output: [1 2 3 4]\n",
        "\n",
        "# 2D array\n",
        "arr2 = np.array([[1, 2], [3, 4]])\n",
        "print(arr2)\n",
        "# Output:\n",
        "# [[1 2]\n",
        "#  [3 4]]"
      ]
    },
    {
      "cell_type": "markdown",
      "metadata": {
        "id": "yOIaP9mPnA2p"
      },
      "source": [
        "### Using Built-in Functions"
      ]
    },
    {
      "cell_type": "code",
      "execution_count": null,
      "metadata": {
        "id": "Q6WKeRNZnA2p",
        "outputId": "2ee827b1-8f89-454e-8c2b-a5131c9a1f82"
      },
      "outputs": [
        {
          "name": "stdout",
          "output_type": "stream",
          "text": [
            "[[0. 0. 0.]\n",
            " [0. 0. 0.]]\n",
            "[[1. 1.]\n",
            " [1. 1.]\n",
            " [1. 1.]]\n",
            "[0 2 4 6 8]\n",
            "[0.   0.25 0.5  0.75 1.  ]\n"
          ]
        }
      ],
      "source": [
        "# Array of zeros\n",
        "zeros = np.zeros((2, 3))  # 2 rows, 3 columns\n",
        "print(zeros)\n",
        "# Output:\n",
        "# [[0. 0. 0.]\n",
        "#  [0. 0. 0.]]\n",
        "\n",
        "# Array of ones\n",
        "ones = np.ones((3, 2))\n",
        "print(ones)\n",
        "# Output:\n",
        "# [[1. 1.]\n",
        "#  [1. 1.]\n",
        "#  [1. 1.]]\n",
        "\n",
        "# Array with a range of values\n",
        "range_arr = np.arange(0, 10, 2)  # Start, stop, step\n",
        "print(range_arr)  # Output: [0 2 4 6 8]\n",
        "\n",
        "# Evenly spaced values\n",
        "linspace_arr = np.linspace(0, 1, 5)  # 5 values from 0 to 1\n",
        "print(linspace_arr)  # Output: [0.   0.25 0.5  0.75 1.  ]"
      ]
    },
    {
      "cell_type": "markdown",
      "metadata": {
        "id": "-viJJskInA2q"
      },
      "source": [
        "##  Array Attributes\n",
        "NumPy arrays have attributes to inspect their properties:"
      ]
    },
    {
      "cell_type": "code",
      "execution_count": null,
      "metadata": {
        "id": "JbWDTuCFnA2q",
        "outputId": "9ffdc1b3-5737-43a2-f3e0-ad1ccb9cd6cd"
      },
      "outputs": [
        {
          "name": "stdout",
          "output_type": "stream",
          "text": [
            "(2, 3)\n",
            "2\n",
            "6\n",
            "int64\n"
          ]
        }
      ],
      "source": [
        "arr = np.array([[1, 2, 3], [4, 5, 6]])\n",
        "print(arr.shape)  # Output: (2, 3) (rows, columns)\n",
        "print(arr.ndim)   # Output: 2 (number of dimensions)\n",
        "print(arr.size)   # Output: 6 (total elements)\n",
        "print(arr.dtype)  # Output: int64 (data type of elements)"
      ]
    },
    {
      "cell_type": "markdown",
      "metadata": {
        "id": "XyaM_QqanA2q"
      },
      "source": [
        "##  Basic Operations\n",
        "NumPy supports element-wise operations and broadcasting, making calculations intuitive.\n",
        "\n",
        "### Arithmetic Operations"
      ]
    },
    {
      "cell_type": "code",
      "execution_count": null,
      "metadata": {
        "id": "CNMGimdSnA2q",
        "outputId": "9233f732-4373-4365-830e-ea2053db2fcf"
      },
      "outputs": [
        {
          "name": "stdout",
          "output_type": "stream",
          "text": [
            "[3 4 5]\n",
            "[3 6 9]\n",
            "[1 4 9]\n"
          ]
        }
      ],
      "source": [
        "arr = np.array([1, 2, 3])\n",
        "print(arr + 2)  # Output: [3 4 5]\n",
        "print(arr * 3)  # Output: [3 6 9]\n",
        "print(arr ** 2) # Output: [1 4 9]"
      ]
    },
    {
      "cell_type": "markdown",
      "metadata": {
        "id": "sFrqmLwTnA2r"
      },
      "source": [
        "### Array with Array"
      ]
    },
    {
      "cell_type": "code",
      "execution_count": null,
      "metadata": {
        "id": "ZNQoEvTAnA2r",
        "outputId": "264ab291-45c3-4bd3-dea8-b5fbf004b53d"
      },
      "outputs": [
        {
          "name": "stdout",
          "output_type": "stream",
          "text": [
            "[5 7 9]\n",
            "[ 4 10 18]\n"
          ]
        }
      ],
      "source": [
        "a = np.array([1, 2, 3])\n",
        "b = np.array([4, 5, 6])\n",
        "print(a + b)  # Output: [5 7 9]\n",
        "print(a * b)  # Output: [4 10 18]"
      ]
    },
    {
      "cell_type": "markdown",
      "metadata": {
        "id": "bTfSCdXKnA2r"
      },
      "source": [
        "### Mathematical Functions"
      ]
    },
    {
      "cell_type": "code",
      "execution_count": null,
      "metadata": {
        "id": "rW3xeUHanA2r",
        "outputId": "6b688f14-3f17-4464-fbcd-b9c217b79f47"
      },
      "outputs": [
        {
          "name": "stdout",
          "output_type": "stream",
          "text": [
            "[0.0000000e+00 1.0000000e+00 1.2246468e-16]\n",
            "[0.         1.25331414 1.77245385]\n"
          ]
        }
      ],
      "source": [
        "arr = np.array([0, np.pi/2, np.pi])\n",
        "print(np.sin(arr))  # Output: [0. 1. 0.]\n",
        "print(np.sqrt(arr)) # Output: [0. 1.25331414 1.77245385]"
      ]
    },
    {
      "cell_type": "markdown",
      "metadata": {
        "id": "HyWx63NOnA2r"
      },
      "source": [
        "## Indexing and Slicing\n",
        "Access elements in a NumPy array similar to Python lists, but with more flexibility for multi-dimensional arrays.\n",
        "\n",
        "### 1D Array"
      ]
    },
    {
      "cell_type": "code",
      "execution_count": null,
      "metadata": {
        "id": "co9_L508nA2s",
        "outputId": "a73e58ea-4f1b-4df3-9889-8e466b4cb3e0"
      },
      "outputs": [
        {
          "name": "stdout",
          "output_type": "stream",
          "text": [
            "10\n",
            "[20 30]\n"
          ]
        }
      ],
      "source": [
        "arr = np.array([10, 20, 30, 40])\n",
        "print(arr[0])     # Output: 10\n",
        "print(arr[1:3])   # Output: [20 30]"
      ]
    },
    {
      "cell_type": "markdown",
      "metadata": {
        "id": "QNhC0P5_nA2s"
      },
      "source": [
        "### 2D Array"
      ]
    },
    {
      "cell_type": "code",
      "execution_count": null,
      "metadata": {
        "id": "rp6E1TWEnA2s",
        "outputId": "e6715ecc-8c24-4e5c-e6ed-3a1e6e0c36be"
      },
      "outputs": [
        {
          "name": "stdout",
          "output_type": "stream",
          "text": [
            "2\n",
            "[2 5]\n",
            "[4 5 6]\n"
          ]
        }
      ],
      "source": [
        "arr = np.array([[1, 2, 3], [4, 5, 6]])\n",
        "print(arr[0, 1])  # Output: 2 (row 0, column 1)\n",
        "print(arr[:, 1])  # Output: [2 5] (all rows, column 1)\n",
        "print(arr[1, :])  # Output: [4 5 6] (row 1, all columns)"
      ]
    },
    {
      "cell_type": "markdown",
      "metadata": {
        "id": "9gtz_yYenA2s"
      },
      "source": [
        "## Reshaping Arrays\n",
        "Change the shape of an array without altering its data:"
      ]
    },
    {
      "cell_type": "code",
      "execution_count": null,
      "metadata": {
        "id": "MI0hzSZknA2t",
        "outputId": "2a7fa076-799f-4078-da7d-d66531598fbc"
      },
      "outputs": [
        {
          "name": "stdout",
          "output_type": "stream",
          "text": [
            "[[1 2 3]\n",
            " [4 5 6]]\n"
          ]
        }
      ],
      "source": [
        "arr = np.array([1, 2, 3, 4, 5, 6])\n",
        "reshaped = arr.reshape(2, 3)\n",
        "print(reshaped)\n",
        "# Output:\n",
        "# [[1 2 3]\n",
        "#  [4 5 6]]"
      ]
    },
    {
      "cell_type": "markdown",
      "metadata": {
        "id": "ZnGVW09BnA2t"
      },
      "source": [
        "Note: The total number of elements must remain the same (e.g., 6 elements can be reshaped into 2x3 or 3x2)."
      ]
    },
    {
      "cell_type": "markdown",
      "metadata": {
        "id": "Cuw53WNgnA2t"
      },
      "source": [
        "## Aggregation Functions\n",
        "NumPy provides functions to compute statistics:"
      ]
    },
    {
      "cell_type": "code",
      "execution_count": null,
      "metadata": {
        "id": "fsiXiysfnA2t",
        "outputId": "49cc6b92-c452-4a28-99d9-6a2fa61920a0"
      },
      "outputs": [
        {
          "name": "stdout",
          "output_type": "stream",
          "text": [
            "15\n",
            "3.0\n",
            "1\n",
            "5\n",
            "1.4142135623730951\n"
          ]
        }
      ],
      "source": [
        "arr = np.array([1, 2, 3, 4, 5])\n",
        "print(np.sum(arr))    # Output: 15\n",
        "print(np.mean(arr))   # Output: 3.0\n",
        "print(np.min(arr))    # Output: 1\n",
        "print(np.max(arr))    # Output: 5\n",
        "print(np.std(arr))    # Output: 1.4142135623730951"
      ]
    },
    {
      "cell_type": "markdown",
      "metadata": {
        "id": "nbsojJutnA2u"
      },
      "source": [
        "## Random Numbers\n",
        "Generate random numbers for simulations or testing:"
      ]
    },
    {
      "cell_type": "code",
      "execution_count": null,
      "metadata": {
        "id": "W1KuT4HcnA2u",
        "outputId": "a5da045f-2480-436a-83ed-d25a3d4d02eb"
      },
      "outputs": [
        {
          "name": "stdout",
          "output_type": "stream",
          "text": [
            "[[0.49572507 0.14952695 0.05769951]\n",
            " [0.66892694 0.58115905 0.55628585]]\n",
            "[[4 2]\n",
            " [5 7]]\n"
          ]
        }
      ],
      "source": [
        "# Random array of shape (2, 3) with values between 0 and 1\n",
        "rand_arr = np.random.rand(2, 3)\n",
        "print(rand_arr)\n",
        "# Example Output:\n",
        "# [[0.12345678 0.98765432 0.45678901]\n",
        "#  [0.78912345 0.32165498 0.65432109]]\n",
        "\n",
        "# Random integers between 1 and 10\n",
        "rand_int = np.random.randint(1, 10, size=(2, 2))\n",
        "print(rand_int)\n",
        "# Example Output:\n",
        "# [[7 3]\n",
        "#  [9 1]]"
      ]
    },
    {
      "cell_type": "markdown",
      "metadata": {
        "id": "AuQTiT8QnA2u"
      },
      "source": [
        "##  Saving and Loading Arrays\n",
        "Save arrays to disk and load them later:"
      ]
    },
    {
      "cell_type": "code",
      "execution_count": null,
      "metadata": {
        "id": "V0E-9K9bnA2u",
        "outputId": "1548376f-ae2c-4816-c159-87d852cf43cd"
      },
      "outputs": [
        {
          "name": "stdout",
          "output_type": "stream",
          "text": [
            "[1 2 3]\n"
          ]
        }
      ],
      "source": [
        "arr = np.array([1, 2, 3])\n",
        "np.save('my_array.npy', arr)  # Save to file\n",
        "loaded_arr = np.load('my_array.npy')  # Load from file\n",
        "print(loaded_arr)  # Output: [1 2 3]"
      ]
    },
    {
      "cell_type": "markdown",
      "metadata": {
        "id": "aN7efycLnA2u"
      },
      "source": [
        "## Advanced NumPy Features\n",
        "NumPy offers powerful features for advanced data manipulation and computation.\n",
        "\n",
        "### Broadcasting\n",
        "Broadcasting allows NumPy to perform operations on arrays of different shapes by automatically expanding smaller arrays to match the shape of larger ones."
      ]
    },
    {
      "cell_type": "code",
      "execution_count": null,
      "metadata": {
        "id": "GWHZ8W-6nA2u",
        "outputId": "2bc34a5f-1c74-4128-a821-be936e5db006"
      },
      "outputs": [
        {
          "name": "stdout",
          "output_type": "stream",
          "text": [
            "[[11 12 13]\n",
            " [14 15 16]]\n",
            "[[2 4 6]\n",
            " [5 7 9]]\n"
          ]
        }
      ],
      "source": [
        "# Add a scalar to an array\n",
        "arr = np.array([[1, 2, 3], [4, 5, 6]])\n",
        "result = arr + 10\n",
        "print(result)\n",
        "# Output:\n",
        "# [[11 12 13]\n",
        "#  [14 15 16]]\n",
        "\n",
        "# Add a 1D array to a 2D array\n",
        "vec = np.array([1, 2, 3])\n",
        "result = arr + vec\n",
        "print(result)\n",
        "# Output:\n",
        "# [[2 4 6]\n",
        "#  [5 7 9]]"
      ]
    },
    {
      "cell_type": "markdown",
      "metadata": {
        "id": "Byl_PNkvnA2v"
      },
      "source": [
        "### Masking\n",
        "Masking uses boolean arrays to filter elements based on conditions."
      ]
    },
    {
      "cell_type": "code",
      "execution_count": null,
      "metadata": {
        "id": "n0KNxuyLnA2v",
        "outputId": "1ed1a5a3-08ce-4370-8c54-d78647243b49"
      },
      "outputs": [
        {
          "name": "stdout",
          "output_type": "stream",
          "text": [
            "[False False False  True  True]\n",
            "[25 30]\n",
            "[20 25]\n"
          ]
        }
      ],
      "source": [
        "arr = np.array([10, 15, 20, 25, 30])\n",
        "mask = arr > 20  # Create a boolean mask\n",
        "print(mask)      # Output: [False False False True True]\n",
        "print(arr[mask]) # Output: [25 30]\n",
        "\n",
        "# Combine conditions\n",
        "mask2 = (arr > 15) & (arr < 30)\n",
        "print(arr[mask2]) # Output: [20 25]"
      ]
    },
    {
      "cell_type": "markdown",
      "metadata": {
        "id": "3fWQpZH2nA2v"
      },
      "source": [
        "### Linear Algebra\n",
        "NumPy provides functions for linear algebra operations, such as matrix multiplication, dot products, and solving linear systems."
      ]
    },
    {
      "cell_type": "code",
      "execution_count": null,
      "metadata": {
        "id": "0c5IKHHWnA2v",
        "outputId": "5f9242c5-66af-4de1-f39b-1d1e3c9a2984"
      },
      "outputs": [
        {
          "name": "stdout",
          "output_type": "stream",
          "text": [
            "[[19 22]\n",
            " [43 50]]\n",
            "[[-2.   1. ]\n",
            " [ 1.5 -0.5]]\n",
            "[0.  0.5]\n"
          ]
        }
      ],
      "source": [
        "# Matrix multiplication\n",
        "A = np.array([[1, 2], [3, 4]])\n",
        "B = np.array([[5, 6], [7, 8]])\n",
        "result = np.dot(A, B)\n",
        "print(result)\n",
        "# Output:\n",
        "# [[19 22]\n",
        "#  [43 50]]\n",
        "\n",
        "# Inverse of a matrix\n",
        "inv_A = np.linalg.inv(A)\n",
        "print(inv_A)\n",
        "# Output:\n",
        "# [[-2.   1. ]\n",
        "#  [ 1.5 -0.5]]\n",
        "\n",
        "# Solve linear system Ax = b\n",
        "b = np.array([1, 2])\n",
        "x = np.linalg.solve(A, b)\n",
        "print(x)  # Output: [-1.  1.]"
      ]
    },
    {
      "cell_type": "markdown",
      "metadata": {
        "id": "eqegLlexnA2v"
      },
      "source": [
        "### Additional Advanced Functions"
      ]
    },
    {
      "cell_type": "markdown",
      "metadata": {
        "id": "MELE4tJvnA2w"
      },
      "source": [
        "#### np.where\n",
        "The `np.where` function allows conditional operations on arrays, returning elements based on a condition or applying different values."
      ]
    },
    {
      "cell_type": "code",
      "execution_count": null,
      "metadata": {
        "id": "mzdQSHgknA2w",
        "outputId": "ae69ea8f-71f0-42e9-9cc7-ad00cfb82ac4"
      },
      "outputs": [
        {
          "name": "stdout",
          "output_type": "stream",
          "text": [
            "[ 10  15  20 100 100]\n",
            "(array([3, 4]),)\n",
            "[25 30]\n"
          ]
        }
      ],
      "source": [
        "arr = np.array([10, 15, 20, 25, 30])\n",
        "# Replace values > 20 with 100, else keep original\n",
        "result = np.where(arr > 20, 100, arr)\n",
        "print(result)  # Output: [ 10  15  20 100 100]\n",
        "\n",
        "# Get indices where condition is true\n",
        "indices = np.where(arr > 20)\n",
        "print(indices)  # Output: (array([3, 4]),)\n",
        "print(arr[indices])  # Output: [25 30]"
      ]
    },
    {
      "cell_type": "markdown",
      "metadata": {
        "id": "317CJswCnA2w"
      },
      "source": [
        "#### np.concatenate\n",
        "The `np.concatenate` function joins arrays along a specified axis."
      ]
    },
    {
      "cell_type": "code",
      "execution_count": null,
      "metadata": {
        "id": "TD_Dfp0wnA2w",
        "outputId": "080f2724-93c4-4788-c965-5ba5aed8363e"
      },
      "outputs": [
        {
          "name": "stdout",
          "output_type": "stream",
          "text": [
            "[[1 2]\n",
            " [3 4]\n",
            " [5 6]\n",
            " [7 8]]\n",
            "[[1 2 5 6]\n",
            " [3 4 7 8]]\n"
          ]
        }
      ],
      "source": [
        "arr1 = np.array([[1, 2], [3, 4]])\n",
        "arr2 = np.array([[5, 6], [7, 8]])\n",
        "# Concatenate along rows (axis=0)\n",
        "result_rows = np.concatenate((arr1, arr2), axis=0)\n",
        "print(result_rows)\n",
        "# Output:\n",
        "# [[1 2]\n",
        "#  [3 4]\n",
        "#  [5 6]\n",
        "#  [7 8]]\n",
        "\n",
        "# Concatenate along columns (axis=1)\n",
        "result_cols = np.concatenate((arr1, arr2), axis=1)\n",
        "print(result_cols)\n",
        "# Output:\n",
        "# [[1 2 5 6]\n",
        "#  [3 4 7 8]]"
      ]
    },
    {
      "cell_type": "markdown",
      "metadata": {
        "id": "d7MEJwSlnA2w"
      },
      "source": [
        "#### np.fft\n",
        "The `np.fft` module provides Fast Fourier Transform (FFT) functions for signal processing."
      ]
    },
    {
      "cell_type": "code",
      "execution_count": null,
      "metadata": {
        "id": "M3Ph4pywnA2w",
        "outputId": "23a1c932-375c-46f3-b63d-38c2347a428d"
      },
      "outputs": [
        {
          "name": "stdout",
          "output_type": "stream",
          "text": [
            "[-1.94289029e-16+0.j          5.04415701e-03-0.20547618j\n",
            "  2.30057977e-02-0.46829377j  6.75492406e-02-0.91574271j\n",
            "  2.09560539e-01-2.12770386j]\n"
          ]
        }
      ],
      "source": [
        "# Compute FFT of a signal\n",
        "t = np.linspace(0, 1, 128)\n",
        "signal = np.sin(2 * np.pi * 5 * t)  # 5 Hz sine wave\n",
        "fft_result = np.fft.fft(signal)\n",
        "print(fft_result[:5])  # Output: First 5 FFT coefficients (complex numbers)\n",
        "# Example Output: [ 0.        +0.j         0.        -0.31415927j ...]"
      ]
    },
    {
      "cell_type": "markdown",
      "metadata": {
        "id": "YVKPEQ9EnA2x"
      },
      "source": [
        "#### np.vstack\n",
        "The `np.vstack` function stacks arrays vertically (row-wise), meaning it stacks them as rows in a single array. The arrays must have the same shape along all but the first axis."
      ]
    },
    {
      "cell_type": "code",
      "execution_count": null,
      "metadata": {
        "id": "FYKCVj4XnA2x",
        "outputId": "561e3150-8e26-4fe4-b048-a1f5de6776a8"
      },
      "outputs": [
        {
          "name": "stdout",
          "output_type": "stream",
          "text": [
            "[[1 2]\n",
            " [3 4]\n",
            " [5 6]]\n"
          ]
        }
      ],
      "source": [
        "arr1 = np.array([[1, 2], [3, 4]])\n",
        "arr2 = np.array([[5, 6]])\n",
        "result = np.vstack((arr1, arr2))\n",
        "print(result)\n",
        "# Output:\n",
        "# [[1 2]\n",
        "#  [3 4]\n",
        "#  [5 6]]"
      ]
    },
    {
      "cell_type": "markdown",
      "metadata": {
        "id": "0P9jUgTRnA2x"
      },
      "source": [
        "#### np.hstack\n",
        "The `np.hstack` function stacks arrays horizontally (column-wise), meaning it stacks them as columns in a single array. The arrays must have the same shape along all but the second axis."
      ]
    },
    {
      "cell_type": "code",
      "execution_count": null,
      "metadata": {
        "id": "kCmO1EvXnA2x",
        "outputId": "29b887be-e312-4a4a-83d7-5e2249e8eba8"
      },
      "outputs": [
        {
          "name": "stdout",
          "output_type": "stream",
          "text": [
            "[[1 3]\n",
            " [2 4]]\n"
          ]
        }
      ],
      "source": [
        "arr1 = np.array([[1], [2]])\n",
        "arr2 = np.array([[3], [4]])\n",
        "result = np.hstack((arr1, arr2))\n",
        "print(result)\n",
        "# Output:\n",
        "# [[1 3]\n",
        "#  [2 4]]"
      ]
    },
    {
      "cell_type": "markdown",
      "metadata": {
        "id": "k_NdPR77nA2x"
      },
      "source": [
        "#### np.unique\n",
        "The `np.unique` function returns the sorted unique elements of an array. It can also return indices and counts of occurrences."
      ]
    },
    {
      "cell_type": "code",
      "execution_count": null,
      "metadata": {
        "id": "Vv_kqOp9nA2x",
        "outputId": "9cda6756-902b-46cc-9b15-10b46760a931"
      },
      "outputs": [
        {
          "name": "stdout",
          "output_type": "stream",
          "text": [
            "Unique elements: [1 2 3 4]\n",
            "Indices: [0 1 3 6]\n",
            "Counts: [1 2 3 1]\n"
          ]
        }
      ],
      "source": [
        "arr = np.array([1, 2, 2, 3, 3, 3, 4])\n",
        "unique_elements, indices, counts = np.unique(arr, return_index=True, return_counts=True)\n",
        "print(\"Unique elements:\", unique_elements)  # Output: [1 2 3 4]\n",
        "print(\"Indices:\", indices)  # Output: [0 1 3 6]\n",
        "print(\"Counts:\", counts)    # Output: [1 2 3 1]"
      ]
    },
    {
      "cell_type": "markdown",
      "metadata": {
        "id": "6TZ1FpJynA2y"
      },
      "source": [
        "##  Combining NumPy with Pandas and Matplotlib\n",
        "NumPy integrates seamlessly with Pandas for data analysis and Matplotlib for visualization.\n",
        "\n",
        "### Using NumPy with Pandas\n",
        "Pandas builds on NumPy to provide data structures like DataFrames for tabular data."
      ]
    },
    {
      "cell_type": "code",
      "execution_count": null,
      "metadata": {
        "id": "3CErlzN3nA2y",
        "outputId": "beb6d4fb-1759-467b-ecd8-1515850c0da4"
      },
      "outputs": [
        {
          "name": "stdout",
          "output_type": "stream",
          "text": [
            "   A  B  C\n",
            "0  1  2  3\n",
            "1  4  5  6\n",
            "2  7  8  9\n",
            "A    4.0\n",
            "B    5.0\n",
            "C    6.0\n",
            "dtype: float64\n"
          ]
        }
      ],
      "source": [
        "import pandas as pd\n",
        "\n",
        "# Create a NumPy array\n",
        "data = np.array([[1, 2, 3], [4, 5, 6], [7, 8, 9]])\n",
        "df = pd.DataFrame(data, columns=['A', 'B', 'C'])\n",
        "print(df)\n",
        "# Output:\n",
        "#    A  B  C\n",
        "# 0  1  2  3\n",
        "# 1  4  5  6\n",
        "# 2  7  8  9\n",
        "\n",
        "# Compute column means using NumPy\n",
        "means = np.mean(df, axis=0)\n",
        "print(means)\n",
        "# Output:\n",
        "# A    4.0\n",
        "# B    5.0\n",
        "# C    6.0\n",
        "# dtype: float64"
      ]
    },
    {
      "cell_type": "markdown",
      "metadata": {
        "id": "b1YLXsF_nA2y"
      },
      "source": [
        "### Using NumPy with Matplotlib\n",
        "Matplotlib uses NumPy arrays to create visualizations like plots and charts."
      ]
    },
    {
      "cell_type": "code",
      "execution_count": null,
      "metadata": {
        "id": "5AVw35CsnA2y",
        "outputId": "175d1c3f-b8e6-4f9c-b6d4-890fba7acb1b"
      },
      "outputs": [
        {
          "data": {
            "image/png": "[encoded data removed]",
            "text/plain": [
              "<Figure size 640x480 with 1 Axes>"
            ]
          },
          "metadata": {},
          "output_type": "display_data"
        }
      ],
      "source": [
        "import matplotlib.pyplot as plt\n",
        "\n",
        "# Generate data with NumPy\n",
        "x = np.linspace(0, 10, 100)\n",
        "y = np.sin(x)\n",
        "\n",
        "# Create a plot\n",
        "plt.plot(x, y, label='sin(x)')\n",
        "plt.title('Sine Wave')\n",
        "plt.xlabel('x')\n",
        "plt.ylabel('sin(x)')\n",
        "plt.legend()\n",
        "plt.show()"
      ]
    },
    {
      "cell_type": "markdown",
      "metadata": {
        "id": "HHtIExNAnA2y"
      },
      "source": [
        "## Example: Simple Data Analysis\n",
        "Let’s combine concepts in a small example:"
      ]
    },
    {
      "cell_type": "code",
      "execution_count": null,
      "metadata": {
        "id": "3e0rtgWtnA2y",
        "outputId": "ecb316fd-bc7d-453e-ad43-86dc8e630e3c"
      },
      "outputs": [
        {
          "name": "stdout",
          "output_type": "stream",
          "text": [
            "Monthly Temperatures: [25 29 33 26 21 20 28 21 34 24 33 23]\n",
            "Average Temperature: 26.416666666666668\n",
            "Hottest Month: 34\n",
            "Coldest Month: 20\n"
          ]
        },
        {
          "data": {
            "image/png": "[encoded data removed]",
            "text/plain": [
              "<Figure size 640x480 with 1 Axes>"
            ]
          },
          "metadata": {},
          "output_type": "display_data"
        }
      ],
      "source": [
        "# Simulate monthly temperatures\n",
        "temps = np.random.randint(20, 35, size=12)\n",
        "print(\"Monthly Temperatures:\", temps)\n",
        "print(\"Average Temperature:\", np.mean(temps))\n",
        "print(\"Hottest Month:\", np.max(temps))\n",
        "print(\"Coldest Month:\", np.min(temps))\n",
        "\n",
        "# Visualize with Matplotlib\n",
        "months = np.arange(1, 13)\n",
        "plt.bar(months, temps)\n",
        "plt.title('Monthly Temperatures')\n",
        "plt.xlabel('Month')\n",
        "plt.ylabel('Temperature (°C)')\n",
        "plt.show()"
      ]
    },
    {
      "cell_type": "markdown",
      "metadata": {
        "id": "ci0lnS5QnA2z"
      },
      "source": [
        "## Summary and Conclusion\n",
        "This tutorial has covered the essentials of NumPy for beginners:\n",
        "- **Basics**: Creating arrays, attributes, and basic operations.\n",
        "- **Manipulation**: Indexing, slicing, reshaping, and aggregation.\n",
        "- **Advanced Features**: Broadcasting, masking, linear algebra, and functions like `np.where`, `np.concatenate`, `np.fft`, `np.vstack`, `np.hstack`, and `np.unique`.\n",
        "- **Integration**: Working with Pandas for data analysis and Matplotlib for visualization.\n",
        "- **Practical Example**: A simple data analysis workflow.\n",
        "\n",
        "These concepts form the foundation for efficient numerical computing in Python.\n",
        "\n",
        "NumPy is an indispensable tool for anyone working with numerical data in Python. By mastering these basics and advanced techniques, you'll be well-equipped to tackle complex data science, machine learning, and scientific computing projects. Remember, practice is key—experiment with the examples, modify them, and build your own applications. The NumPy community is vibrant and supportive; don't hesitate to explore further!"
      ]
    },
    {
      "cell_type": "markdown",
      "metadata": {
        "id": "LttsolGrnA2z"
      },
      "source": [
        "## Resources\n",
        "- **Official Documentation**: [NumPy User Guide and Reference](https://numpy.org/doc/stable/)\n",
        "- **Tutorials**:\n",
        "  - [NumPy Quickstart Tutorial](https://numpy.org/doc/stable/user/quickstart.html)\n",
        "  - [Scientific Python Lectures](https://scipy-lectures.org/intro/numpy/index.html)\n",
        "- **Books**:\n",
        "  - *Guide to NumPy* by Travis Oliphant (free online)\n",
        "  - *Python for Data Analysis* by Wes McKinney (covers NumPy extensively)\n",
        "- **Online Courses**:\n",
        "  - [NumPy Tutorial on freeCodeCamp](https://www.freecodecamp.org/news/the-numpy-tutorial/)\n",
        "  - [Coursera's Python for Everybody](https://www.coursera.org/specializations/python) (includes NumPy sections)\n",
        "- **Community**:\n",
        "  - [Stack Overflow NumPy Tag](https://stackoverflow.com/questions/tagged/numpy)\n",
        "  - [NumPy Discourse Forum](https://numpy.org/doc/stable/dev/development_process.html#mailing-lists-and-discourse)\n",
        "\n"
      ]
    }
  ],
  "metadata": {
    "kernelspec": {
      "display_name": "Python 3",
      "language": "python",
      "name": "python3"
    },
    "language_info": {
      "codemirror_mode": {
        "name": "ipython",
        "version": 3
      },
      "file_extension": ".py",
      "mimetype": "text/x-python",
      "name": "python",
      "nbconvert_exporter": "python",
      "pygments_lexer": "ipython3",
      "version": "3.10.12"
    },
    "colab": {
      "provenance": [],
      "include_colab_link": true
    }
  },
  "nbformat": 4,
  "nbformat_minor": 0
}