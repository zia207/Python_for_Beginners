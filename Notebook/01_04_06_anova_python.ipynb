{
  "cells": [
    {
      "cell_type": "markdown",
      "metadata": {
        "id": "view-in-github",
        "colab_type": "text"
      },
      "source": [
        "<a href=\"https://colab.research.google.com/github/zia207/Python_for_Beginners/blob/main/Notebook/01_04_06_anova_python.ipynb\" target=\"_parent\"><img src=\"https://colab.research.google.com/assets/colab-badge.svg\" alt=\"Open In Colab\"/></a>"
      ]
    },
    {
      "cell_type": "markdown",
      "metadata": {
        "id": "IXSX6NV0l5X1"
      },
      "source": [
        "![alt text](http://drive.google.com/uc?export=view&id=1IFEWet-Aw4DhkkVe1xv_2YYqlvRe9m5_)"
      ]
    },
    {
      "cell_type": "markdown",
      "metadata": {
        "id": "pUT_KCaWl5X1"
      },
      "source": [
        "# 4.6 Analysis of Variance (ANOVA)\n",
        "\n",
        "ANOVA is a statistical technique used to compare the means of three or more groups, widely applied in fields like agriculture, biology, psychology, and social sciences to analyze experimental data and assess the effects of different treatments or factors on a response variable. This tutorial will guide you through performing ANOVA in Python."
      ]
    },
    {
      "cell_type": "markdown",
      "metadata": {
        "id": "lshuJrfEl5X2"
      },
      "source": [
        "## Introduction\n",
        "\n",
        "Analysis of Variance (ANOVA) is a statistical technique used to compare the means of three or more groups, enabling us to determine whether there are significant differences between them. This method is widely used in research to help us understand whether the differences we observe among group means are due to genuine differences in the populations or simply random sampling variation.\n",
        "\n",
        "ANOVA works by breaking down the total variance observed in the data into different components: the variance between group means and the variance within each group. It then examines whether the between-group variance is significantly larger than the within-group variance. If it is, this indicates that there are real differences among the groups.\n",
        "\n",
        "There are various types of ANOVA, including one-way ANOVA, which compares the means of three or more groups on a single independent variable, and two-way ANOVA, which examines the influence of two independent variables. More complex designs, such as factorial ANOVA, can be used for multiple factors.\n",
        "\n",
        "During ANOVA, an F-statistic is generated, which compares the ratio of the between-group variance to the within-group variance. If the calculated F-value exceeds a critical value based on the chosen significance level, usually 0.05, it suggests that there is a statistically significant difference between at least two group means.\n",
        "\n",
        "Post-hoc tests, such as Tukey's HSD or Bonferroni correction, are often used after ANOVA to pinpoint which specific groups differ from each other if the overall ANOVA result is significant. It's important to note that ANOVA makes certain assumptions, such as the data following a normal distribution and the groups having equal variances. Violations of these assumptions may affect the reliability of the ANOVA results.\n",
        "\n",
        "Overall, ANOVA is a powerful tool for comparing means across multiple groups simultaneously. It's commonly used in various fields, such as psychology, biology, economics, and more to analyze experimental or observational data. By comparing group means, ANOVA helps us to understand the differences between groups and identify significant patterns in the data.\n",
        "\n",
        "Analysis of Variance (ANOVA) is a statistical method to compare the means of three or more groups to determine if there are significant differences among them. It decomposes the total variance in the data into:\n",
        "\n",
        "1. **Between-Group Variability (SSB)**: Variance due to differences between group means.\n",
        "2. **Within-Group Variability (SSW)**: Variance due to individual observations within groups.\n",
        "\n",
        "The key statistic in ANOVA is the **F-statistic**, which compares the ratio of between-group variance to within-group variance. A large F-value suggests significant differences between at least two group means. The formulas are:\n",
        "\n",
        "1. **Sum of Squares Between (SSB)**:\n",
        "   $$ SSB = \\sum_{i=1}^k n_i (\\bar{x}_i - \\bar{x}_{\\text{grand}})^2 $$\n",
        "   where $n_i$ is the sample size of group $i$, $\\bar{x}_i$ is the mean of group $i$, and $\\bar{x}_{\\text{grand}}$ is the overall mean.\n",
        "\n",
        "2. **Sum of Squares Within (SSW)**:\n",
        "   $$ SSW = \\sum_{i=1}^k \\sum_{j=1}^{n_i} (x_{ij} - \\bar{x}_i)^2 $$\n",
        "\n",
        "3. **Degrees of Freedom**:\n",
        "   - Between groups: $df_{\\text{between}} = k - 1$\n",
        "   - Within groups: $df_{\\text{within}} = N - k$\n",
        "\n",
        "4. **Mean Squares**:\n",
        "   - $MS_{\\text{between}} = SSB / df_{\\text{between}}$\n",
        "   - $MS_{\\text{within}} = SSW / df_{\\text{within}}$\n",
        "\n",
        "5. **F-Statistic**:\n",
        "   $$ F = \\frac{MS_{\\text{between}}}{MS_{\\text{within}}} $$\n",
        "\n",
        "If the F-value exceeds a critical value (based on a significance level, typically 0.05), it indicates significant differences. Post-hoc tests like Tukey's HSD or Bonferroni correction can identify which groups differ. ANOVA assumes:\n",
        "- **Independence**: Observations are independent across groups.\n",
        "- **Normality**: Data in each group is approximately normally distributed.\n",
        "- **Homogeneity of variances**: Equal variances across groups."
      ]
    },
    {
      "cell_type": "markdown",
      "metadata": {
        "id": "u8tgPxPol5X3"
      },
      "source": [
        "## ANOVA from Scratch"
      ]
    },
    {
      "cell_type": "markdown",
      "metadata": {
        "id": "W_hO5DJYl5X3"
      },
      "source": [
        "### Generate Synthetic Data\n",
        "We'll create synthetic data with three groups using NumPy."
      ]
    },
    {
      "cell_type": "code",
      "execution_count": null,
      "metadata": {
        "id": "f7hNQs83l5X3",
        "outputId": "20a4906b-401d-4e03-e459-7835b3f29881"
      },
      "outputs": [
        {
          "name": "stdout",
          "output_type": "stream",
          "text": [
            "     weight   group\n",
            "0  3.371554  Group1\n",
            "1  6.496018  Group1\n",
            "2  5.424468  Group1\n",
            "3  2.740558  Group1\n",
            "4  4.132100  Group1\n"
          ]
        }
      ],
      "source": [
        "import numpy as np\n",
        "import pandas as pd\n",
        "\n",
        "# Set seed for reproducibility\n",
        "np.random.seed(123)\n",
        "\n",
        "# Create synthetic data with 3 groups\n",
        "group1 = np.random.normal(loc=5, scale=1.5, size=10)  # Group 1: mean=5\n",
        "group2 = np.random.normal(loc=6, scale=1.5, size=10)  # Group 2: mean=6\n",
        "group3 = np.random.normal(loc=7, scale=1.5, size=10)  # Group 3: mean=7\n",
        "\n",
        "# Combine into a DataFrame\n",
        "data = pd.DataFrame({\n",
        "    'weight': np.concatenate([group1, group2, group3]),\n",
        "    'group': np.repeat(['Group1', 'Group2', 'Group3'], 10)\n",
        "})\n",
        "\n",
        "# View the first few rows\n",
        "print(data.head())"
      ]
    },
    {
      "cell_type": "markdown",
      "metadata": {
        "id": "Iq8l6Bw5l5X5"
      },
      "source": [
        "### Perform Manual ANOVA\n",
        "We'll compute the ANOVA components manually."
      ]
    },
    {
      "cell_type": "code",
      "execution_count": null,
      "metadata": {
        "id": "mAidsa3Ul5X5",
        "outputId": "3574eb9a-421b-457e-9a6c-ebb969875021"
      },
      "outputs": [
        {
          "name": "stdout",
          "output_type": "stream",
          "text": [
            "           Source         SS  df         MS         F  p-value\n",
            "0  Between Groups  32.533823   2  16.266912  5.186837  0.01241\n",
            "1   Within Groups  84.677155  27   3.136191       NaN      NaN\n"
          ]
        }
      ],
      "source": [
        "# Extract response and group\n",
        "response = data['weight']\n",
        "groups = [data[data['group'] == g]['weight'] for g in data['group'].unique()]\n",
        "\n",
        "# Compute grand mean and group statistics\n",
        "grand_mean = np.mean(response)\n",
        "k = len(groups)  # Number of groups (3)\n",
        "n_total = len(response)  # Total sample size (30)\n",
        "\n",
        "# Calculate SSB (Between-Group Sum of Squares)\n",
        "group_means = [np.mean(g) for g in groups]\n",
        "group_n = [len(g) for g in groups]\n",
        "ssb = sum(n * (m - grand_mean)**2 for n, m in zip(group_n, group_means))\n",
        "\n",
        "# Calculate SSW (Within-Group Sum of Squares)\n",
        "ssw = sum(sum((x - np.mean(g))**2 for x in g) for g in groups)\n",
        "\n",
        "# Degrees of Freedom\n",
        "df_between = k - 1  # 3 - 1 = 2\n",
        "df_within = n_total - k  # 30 - 3 = 27\n",
        "\n",
        "# Mean Squares\n",
        "ms_between = ssb / df_between\n",
        "ms_within = ssw / df_within\n",
        "\n",
        "# F-Statistic and P-Value\n",
        "from scipy.stats import f\n",
        "f_value = ms_between / ms_within\n",
        "p_value = f.sf(f_value, df_between, df_within)\n",
        "\n",
        "# Assemble ANOVA Table\n",
        "anova_table = pd.DataFrame({\n",
        "    'Source': ['Between Groups', 'Within Groups'],\n",
        "    'SS': [ssb, ssw],\n",
        "    'df': [df_between, df_within],\n",
        "    'MS': [ms_between, ms_within],\n",
        "    'F': [f_value, np.nan],\n",
        "    'p-value': [p_value, np.nan]\n",
        "})\n",
        "print(anova_table)"
      ]
    },
    {
      "cell_type": "markdown",
      "metadata": {
        "id": "57aWBKBRl5X6"
      },
      "source": [
        "### Validation with Built-in Functions\n",
        "We can validate using `statsmodels`."
      ]
    },
    {
      "cell_type": "code",
      "execution_count": null,
      "metadata": {
        "id": "SFfLZTOPl5X6",
        "outputId": "ef0985cb-e5d5-466b-855d-58403063cebb"
      },
      "outputs": [
        {
          "name": "stdout",
          "output_type": "stream",
          "text": [
            "            df     sum_sq    mean_sq         F   PR(>F)\n",
            "group      2.0  32.533823  16.266912  5.186837  0.01241\n",
            "Residual  27.0  84.677155   3.136191       NaN      NaN\n"
          ]
        }
      ],
      "source": [
        "from statsmodels.formula.api import ols\n",
        "from statsmodels.stats.anova import anova_lm\n",
        "\n",
        "# Perform one-way ANOVA\n",
        "model = ols('weight ~ group', data=data).fit()\n",
        "anova_results = anova_lm(model)\n",
        "print(anova_results)"
      ]
    },
    {
      "cell_type": "markdown",
      "metadata": {
        "id": "z1zqTGnsl5X6"
      },
      "source": [
        "## ANOVA with Python Packages\n",
        "We'll use `statsmodels`, `pingouin`, and `seaborn` for ANOVA and visualization."
      ]
    },
    {
      "cell_type": "code",
      "execution_count": null,
      "metadata": {
        "id": "QW1XdK7ll5X7"
      },
      "outputs": [],
      "source": [
        "import importlib.util\n",
        "import sys\n",
        "\n",
        "# List of required packages\n",
        "packages = ['numpy', 'pandas', 'statsmodels', 'scikit-learn', 'matplotlib', 'seaborn', 'pingouin']\n",
        "\n",
        "# Check and install missing packages\n",
        "# Check and install missing packages\n",
        "for package in packages:\n",
        "    if not importlib.util.find_spec(package):\n",
        "        try:\n",
        "            import pip\n",
        "            pip.main(['install', package])\n",
        "        except ImportError:\n",
        "            print(f\"Failed to install {package}. Pip is not available.\")"
      ]
    },
    {
      "cell_type": "markdown",
      "metadata": {
        "id": "lo96QPRHl5X7"
      },
      "source": [
        "### Install and Import Packages"
      ]
    },
    {
      "cell_type": "code",
      "execution_count": null,
      "metadata": {
        "id": "zciKkLBXl5X7"
      },
      "outputs": [],
      "source": [
        "# Install required packages\n",
        "# !pip install statsmodels pingouin seaborn\n",
        "\n",
        "# Import libraries\n",
        "import statsmodels.api as sm\n",
        "from statsmodels.formula.api import ols\n",
        "import pingouin as pg\n",
        "import seaborn as sns\n",
        "import matplotlib.pyplot as plt"
      ]
    },
    {
      "cell_type": "markdown",
      "metadata": {
        "id": "cu6l6bI3l5X7"
      },
      "source": [
        "### Generate Experimental Data\n",
        "Create a dataset with four treatments, six varieties, and four replications."
      ]
    },
    {
      "cell_type": "code",
      "execution_count": null,
      "metadata": {
        "id": "Ju5KgYGyl5X7",
        "outputId": "d62126ec-ecd4-4fe2-f162-a1b2c4ace123"
      },
      "outputs": [
        {
          "name": "stdout",
          "output_type": "stream",
          "text": [
            "  Treatment  Replication Variety     Yield\n",
            "0        T1          1.0      V1  4.963205\n",
            "1        T1          1.0      V2  5.526794\n",
            "2        T1          1.0      V3  6.530780\n",
            "3        T1          1.0      V4  7.648310\n",
            "4        T1          1.0      V5  8.690360\n",
            "5        T1          1.0      V6  8.900666\n",
            "6        T1          2.0      V1  5.507928\n",
            "7        T1          2.0      V2  6.746754\n",
            "8        T1          2.0      V3  7.760396\n",
            "9        T1          2.0      V4  8.616543\n"
          ]
        }
      ],
      "source": [
        "# Set parameters\n",
        "np.random.seed(1256)\n",
        "treatments = 4\n",
        "replications = 4\n",
        "varieties = 6\n",
        "n = 1\n",
        "\n",
        "# Create empty DataFrame\n",
        "exp_df = pd.DataFrame({\n",
        "    'Treatment': [],\n",
        "    'Replication': [],\n",
        "    'Variety': [],\n",
        "    'Yield': []\n",
        "})\n",
        "\n",
        "# Generate random data\n",
        "for t in range(1, treatments + 1):\n",
        "    for r in range(1, replications + 1):\n",
        "        for v in range(1, varieties + 1):\n",
        "            obs = np.random.normal(loc=3*t + 0.95*r + 0.90*v, scale=0.25, size=n)\n",
        "            temp_df = pd.DataFrame({\n",
        "                'Treatment': [f'T{t}'] * n,\n",
        "                'Replication': [r] * n,\n",
        "                'Variety': [f'V{v}'] * n,\n",
        "                'Yield': obs\n",
        "            })\n",
        "            exp_df = pd.concat([exp_df, temp_df], ignore_index=True)\n",
        "\n",
        "# Print first 10 rows\n",
        "print(exp_df.head(10))"
      ]
    },
    {
      "cell_type": "markdown",
      "metadata": {
        "id": "QHUmhIIjl5X8"
      },
      "source": [
        "## One-way ANOVA\n",
        "One-way ANOVA tests for differences in means across groups based on one independent variable."
      ]
    },
    {
      "cell_type": "code",
      "execution_count": null,
      "metadata": {
        "id": "zvU0VI1ol5X8",
        "outputId": "1c8aec2f-11a1-408b-bda1-95ed47b2eb01"
      },
      "outputs": [
        {
          "name": "stdout",
          "output_type": "stream",
          "text": [
            "      Source  ddof1  ddof2         F         p-unc       np2\n",
            "0  Treatment      3     92  98.52455  1.258580e-28  0.762626\n"
          ]
        }
      ],
      "source": [
        "# Perform one-way ANOVA\n",
        "anova_one = pg.anova(data=exp_df, dv='Yield', between='Treatment')\n",
        "print(anova_one)"
      ]
    },
    {
      "cell_type": "markdown",
      "metadata": {
        "id": "aU_4h6M6l5X8"
      },
      "source": [
        "## Two-way ANOVA\n",
        "Two-way ANOVA examines the effects of two independent variables and their interaction."
      ]
    },
    {
      "cell_type": "code",
      "execution_count": null,
      "metadata": {
        "id": "tCQH80Brl5X8",
        "outputId": "42fa65c9-accb-40fc-9809-6221f618af42"
      },
      "outputs": [
        {
          "name": "stdout",
          "output_type": "stream",
          "text": [
            "                Source           SS  DF          MS           F         p-unc  \\\n",
            "0            Treatment  1082.951150   3  360.983717  238.362631  2.642288e-37   \n",
            "1              Variety   226.992291   5   45.398458   29.977241  2.450096e-16   \n",
            "2  Treatment * Variety     1.047134  15    0.069809    0.046096  1.000000e+00   \n",
            "3             Residual   109.039020  72    1.514431         NaN           NaN   \n",
            "\n",
            "        np2  \n",
            "0  0.908524  \n",
            "1  0.675509  \n",
            "2  0.009512  \n",
            "3       NaN  \n"
          ]
        }
      ],
      "source": [
        "# Perform two-way ANOVA\n",
        "anova_two = pg.anova(data=exp_df, dv='Yield', between=['Treatment', 'Variety'])\n",
        "print(anova_two)"
      ]
    },
    {
      "cell_type": "markdown",
      "metadata": {
        "id": "zOV_IQyZl5X8"
      },
      "source": [
        "## Multiple Comparisons\n",
        "Post-hoc tests identify which specific groups differ after a significant ANOVA result."
      ]
    },
    {
      "cell_type": "markdown",
      "metadata": {
        "id": "4nkCrMNol5X9"
      },
      "source": [
        "### Tukey's HSD Test"
      ]
    },
    {
      "cell_type": "code",
      "execution_count": null,
      "metadata": {
        "id": "ce7X78tOl5X9",
        "outputId": "e3399cdb-8f9a-45e3-d437-e0c8c635836e"
      },
      "outputs": [
        {
          "name": "stdout",
          "output_type": "stream",
          "text": [
            "    A   B    mean(A)    mean(B)      diff        se          T   p-tukey  \\\n",
            "0  T1  T2   8.479180  11.584709 -3.105529  0.552562  -5.620237  0.000001   \n",
            "1  T1  T3   8.479180  14.493784 -6.014604  0.552562 -10.884941  0.000000   \n",
            "2  T1  T4   8.479180  17.522423 -9.043244  0.552562 -16.366028  0.000000   \n",
            "3  T2  T3  11.584709  14.493784 -2.909075  0.552562  -5.264704  0.000005   \n",
            "4  T2  T4  11.584709  17.522423 -5.937715  0.552562 -10.745791  0.000000   \n",
            "5  T3  T4  14.493784  17.522423 -3.028640  0.552562  -5.481087  0.000002   \n",
            "\n",
            "     hedges  \n",
            "0 -1.649666  \n",
            "1 -3.025272  \n",
            "2 -4.699682  \n",
            "3 -1.478489  \n",
            "4 -3.120162  \n",
            "5 -1.508634  \n",
            "        A      B   mean(A)    mean(B)       diff        se          T  \\\n",
            "0   T1_V1  T1_V2  6.263515   7.189928  -0.926413  0.870181  -1.064621   \n",
            "1   T1_V1  T1_V3  6.263515   8.042669  -1.779153  0.870181  -2.044578   \n",
            "2   T1_V1  T1_V4  6.263515   8.967006  -2.703491  0.870181  -3.106814   \n",
            "3   T1_V1  T1_V5  6.263515   9.801218  -3.537702  0.870181  -4.065478   \n",
            "4   T1_V1  T1_V6  6.263515  10.610743  -4.347228  0.870181  -4.995773   \n",
            "5   T1_V1  T2_V1  6.263515   9.276434  -3.012919  0.870181  -3.462404   \n",
            "6   T1_V1  T2_V2  6.263515  10.404544  -4.141029  0.870181  -4.758812   \n",
            "7   T1_V1  T2_V3  6.263515  11.211313  -4.947798  0.870181  -5.685939   \n",
            "8   T1_V1  T2_V4  6.263515  12.033957  -5.770442  0.870181  -6.631310   \n",
            "9   T1_V1  T2_V5  6.263515  12.862104  -6.598588  0.870181  -7.583005   \n",
            "10  T1_V1  T2_V6  6.263515  13.719899  -7.456384  0.870181  -8.568771   \n",
            "11  T1_V1  T3_V1  6.263515  12.107266  -5.843751  0.870181  -6.715556   \n",
            "12  T1_V1  T3_V2  6.263515  13.051610  -6.788095  0.870181  -7.800783   \n",
            "13  T1_V1  T3_V3  6.263515  13.943820  -7.680305  0.870181  -8.826098   \n",
            "14  T1_V1  T3_V4  6.263515  15.043877  -8.780362  0.870181 -10.090268   \n",
            "15  T1_V1  T3_V5  6.263515  15.798925  -9.535410  0.870181 -10.957959   \n",
            "16  T1_V1  T3_V6  6.263515  17.017202 -10.753687  0.870181 -12.357985   \n",
            "17  T1_V1  T4_V1  6.263515  15.242820  -8.979305  0.870181 -10.318890   \n",
            "18  T1_V1  T4_V2  6.263515  16.274640 -10.011125  0.870181 -11.504643   \n",
            "19  T1_V1  T4_V3  6.263515  16.874973 -10.611457  0.870181 -12.194537   \n",
            "\n",
            "         p-tukey    hedges  \n",
            "0   9.999897e-01 -0.582754  \n",
            "1   9.214780e-01 -1.220059  \n",
            "2   2.619508e-01 -1.935956  \n",
            "3   2.155749e-02 -2.711231  \n",
            "4   9.027716e-04 -2.872220  \n",
            "5   1.171142e-01 -2.095385  \n",
            "6   2.128685e-03 -2.956462  \n",
            "7   6.453011e-05 -3.115852  \n",
            "8   1.377983e-06 -4.120823  \n",
            "9   2.471621e-08 -4.645575  \n",
            "10  3.620603e-10 -5.944928  \n",
            "11  9.695567e-07 -3.902011  \n",
            "12  9.744958e-09 -4.462535  \n",
            "13  1.201275e-10 -5.345568  \n",
            "14  5.418999e-13 -6.595089  \n",
            "15  3.108624e-15 -6.115424  \n",
            "16  0.000000e+00 -6.846099  \n",
            "17  1.999512e-13 -6.616277  \n",
            "18  0.000000e+00 -6.831039  \n",
            "19  0.000000e+00 -7.024727  \n"
          ]
        }
      ],
      "source": [
        "# Tukey's HSD for one-way ANOVA\n",
        "tukey_one = pg.pairwise_tukey(data=exp_df, dv='Yield', between='Treatment')\n",
        "print(tukey_one)\n",
        "\n",
        "# Tukey's HSD for two-way ANOVA (Treatment:Variety interaction)\n",
        "\n",
        "# Create an interaction column\n",
        "exp_df['Treatment_Variety'] = exp_df['Treatment'] + '_' + exp_df['Variety']\n",
        "\n",
        "# Perform Tukey's HSD for the interaction\n",
        "tukey_two = pg.pairwise_tukey(data=exp_df, dv='Yield', between='Treatment_Variety')\n",
        "print(tukey_two.head(20))\n"
      ]
    },
    {
      "cell_type": "markdown",
      "metadata": {
        "id": "KLru-xuHl5X9"
      },
      "source": [
        "### Pairwise t-tests with Bonferroni Correction"
      ]
    },
    {
      "cell_type": "code",
      "execution_count": null,
      "metadata": {
        "id": "G35sFe6jl5X9",
        "outputId": "b61379eb-eae2-4c2e-f5ab-b29d58a09c4d"
      },
      "outputs": [
        {
          "name": "stdout",
          "output_type": "stream",
          "text": [
            "    Contrast   A   B  Paired  Parametric          T   dof alternative  \\\n",
            "0  Treatment  T1  T2   False        True  -5.809856  46.0   two-sided   \n",
            "1  Treatment  T1  T3   False        True -10.654512  46.0   two-sided   \n",
            "2  Treatment  T1  T4   False        True -16.551513  46.0   two-sided   \n",
            "3  Treatment  T2  T3   False        True  -5.206998  46.0   two-sided   \n",
            "4  Treatment  T2  T4   False        True -10.988702  46.0   two-sided   \n",
            "5  Treatment  T3  T4   False        True  -5.313162  46.0   two-sided   \n",
            "\n",
            "          p-unc        p-corr p-adjust       BF10    hedges  \n",
            "0  5.576932e-07  3.346159e-06     bonf  2.195e+04 -1.649666  \n",
            "1  5.214894e-14  3.128936e-13     bonf  8.392e+10 -3.025272  \n",
            "2  5.331633e-21  3.198980e-20     bonf  4.491e+17 -4.699682  \n",
            "3  4.374806e-06  2.624883e-05     bonf   3436.295 -1.478489  \n",
            "4  1.865210e-14  1.119126e-13     bonf  2.241e+11 -3.120162  \n",
            "5  3.051947e-06  1.831168e-05     bonf   4741.826 -1.508634  \n"
          ]
        }
      ],
      "source": [
        "# Pairwise t-tests with Bonferroni correction\n",
        "pairwise_t = pg.pairwise_tests(data=exp_df, dv='Yield', between='Treatment', padjust='bonf')\n",
        "print(pairwise_t)"
      ]
    },
    {
      "cell_type": "markdown",
      "metadata": {
        "id": "-MjbpyJ0l5X9"
      },
      "source": [
        "### Box/Violin Plots\n",
        "Visualize group differences with boxplots."
      ]
    },
    {
      "cell_type": "code",
      "execution_count": null,
      "metadata": {
        "id": "XLVI7FQsl5X-",
        "outputId": "91fd9e50-3cfe-4394-a9ee-eab2242284c4"
      },
      "outputs": [
        {
          "data": {
            "image/png": "[encoded data removed]",
            "text/plain": [
              "<Figure size 750x550 with 1 Axes>"
            ]
          },
          "metadata": {},
          "output_type": "display_data"
        },
        {
          "data": {
            "image/png": "[encoded data removed]",
            "text/plain": [
              "<Figure size 650x450 with 1 Axes>"
            ]
          },
          "metadata": {},
          "output_type": "display_data"
        }
      ],
      "source": [
        "# Boxplot for Treatment\n",
        "plt.figure(figsize=(7.5, 5.5))\n",
        "sns.boxplot(x='Treatment', y='Yield', data=exp_df)\n",
        "plt.title('Main Effect of Treatment', fontsize=14)\n",
        "plt.ylabel('Yield (t/ha)')\n",
        "plt.xlabel('Treatment')\n",
        "plt.show()\n",
        "\n",
        "# Boxplot for Variety\n",
        "plt.figure(figsize=(6.5, 4.5))\n",
        "sns.boxplot(x='Variety', y='Yield', data=exp_df)\n",
        "plt.title('Main Effect of Variety', fontsize=14)\n",
        "plt.ylabel('Yield (t/ha)')\n",
        "plt.xlabel('Variety')\n",
        "plt.show()"
      ]
    },
    {
      "cell_type": "markdown",
      "metadata": {
        "id": "iTHQNsfbl5X-"
      },
      "source": [
        "## Two-way Repeated Measures ANOVA\n",
        "For designs with repeated measures, we use `pingouin`'s `rm_anova`."
      ]
    },
    {
      "cell_type": "code",
      "execution_count": null,
      "metadata": {
        "id": "SLEUGO0rl5X-",
        "outputId": "f8e8f0d8-f774-4cdd-b63e-f5c6b59d495b"
      },
      "outputs": [
        {
          "name": "stdout",
          "output_type": "stream",
          "text": [
            "                Source           SS  ddof1  ddof2          MS             F  \\\n",
            "0            Treatment  1082.951150      3      9  360.983717  10911.068881   \n",
            "1              Variety   226.992291      5     15   45.398458    815.951801   \n",
            "2  Treatment * Variety     1.047134     15     45    0.069809      0.902441   \n",
            "\n",
            "          p-unc     p-GG-corr       ng2       eps  \n",
            "0  2.448140e-16  4.131129e-10  0.908524  0.579188  \n",
            "1  1.037040e-17  2.457665e-08  0.675509  0.418498  \n",
            "2  5.668663e-01  4.449345e-01  0.009512  0.113583  \n"
          ]
        },
        {
          "name": "stderr",
          "output_type": "stream",
          "text": [
            "/home/zia207/.pyenv/versions/3.11.11/lib/python3.11/site-packages/pingouin/distribution.py:515: UserWarning: Epsilon values might be innaccurate in two-way repeated measures design where each  factor has more than 2 levels. Please  double-check your results.\n",
            "  warnings.warn(\n"
          ]
        }
      ],
      "source": [
        "# Two-way repeated measures ANOVA\n",
        "rm_anova = pg.rm_anova(data=exp_df, dv='Yield', within=['Treatment', 'Variety'], subject='Replication')\n",
        "print(rm_anova)"
      ]
    },
    {
      "cell_type": "markdown",
      "metadata": {
        "id": "ygsEjT6Gl5X-"
      },
      "source": [
        "## Summary and Conclusion\n",
        "This tutorial demonstrates how to perform ANOVA in Python using manual calculations and packages like `statsmodels` and `pingouin`. ANOVA is a powerful tool for comparing means across multiple groups, applicable in fields like psychology, biology, and economics. Always verify assumptions (normality, homogeneity of variances, independence) and use post-hoc tests to identify specific group differences. Effect sizes should also be considered for practical significance."
      ]
    },
    {
      "cell_type": "markdown",
      "metadata": {
        "id": "LrocLVEkl5X_"
      },
      "source": [
        "## Resources\n",
        "1. [ANOVA in Python using Statsmodels](https://www.statsmodels.org/stable/examples/notebooks/generated/anova.html)\n",
        "2. [Pingouin: Statistics in Python](https://pingouin-stats.org/)\n",
        "3. [ANOVA in Python: A Step-by-Step Guide](https://www.datacamp.com/tutorial/anova-in-python)"
      ]
    }
  ],
  "metadata": {
    "kernelspec": {
      "display_name": "3.11.11",
      "language": "python",
      "name": "python3"
    },
    "language_info": {
      "codemirror_mode": {
        "name": "ipython",
        "version": 3
      },
      "file_extension": ".py",
      "mimetype": "text/x-python",
      "name": "python",
      "nbconvert_exporter": "python",
      "pygments_lexer": "ipython3",
      "version": "3.11.11"
    },
    "colab": {
      "provenance": [],
      "include_colab_link": true
    }
  },
  "nbformat": 4,
  "nbformat_minor": 0
}