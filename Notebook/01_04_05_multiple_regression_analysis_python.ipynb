{
  "cells": [
    {
      "cell_type": "markdown",
      "metadata": {
        "colab_type": "text",
        "id": "view-in-github"
      },
      "source": [
        "<a href=\"https://colab.research.google.com/github/zia207/Python_for_Beginners/blob/main/Notebook/01_04_05_multiple_regression_analysis_python.ipynb\" target=\"_parent\"><img src=\"https://colab.research.google.com/assets/colab-badge.svg\" alt=\"Open In Colab\"/></a>"
      ]
    },
    {
      "cell_type": "markdown",
      "metadata": {
        "id": "6Svvmxw6lh5S"
      },
      "source": [
        "![alt text](http://drive.google.com/uc?export=view&id=1IFEWet-Aw4DhkkVe1xv_2YYqlvRe9m5_)"
      ]
    },
    {
      "cell_type": "markdown",
      "metadata": {
        "id": "5I1vdf6elh5U"
      },
      "source": [
        "# 4.5 Multiple Regression Analysis\n",
        "\n",
        "This tutorial provides a comprehensive introduction to Multiple Linear Regression (MLR) using Python, a versatile programming language with powerful libraries for statistical analysis. MLR is a widely used statistical technique that models the relationship between a dependent variable and multiple independent variables. This tutorial guides you through the fundamental concepts of MLR, its applications, and practical implementation in Python using libraries like NumPy, pandas, and statsmodels."
      ]
    },
    {
      "cell_type": "markdown",
      "metadata": {
        "id": "UTvHYgfnlh5V"
      },
      "source": [
        "## Introduction\n",
        "\n",
        "Multiple Linear Regression is a statistical method used to examine the relationship between a dependent variable and two or more independent variables. It extends simple linear regression, which studies the relationship between a dependent variable and a single independent variable. In MLR, the goal is to understand how multiple independent variables collectively influence the variation in the dependent variable.\n",
        "\n",
        "Suppose you have a dataset with $n$ observations and $k$ independent variables. The matrix notation for the multiple linear regression model is as follows:\n",
        "\n",
        "1. **Matrix of Independent Variables (Design Matrix):**\n",
        "   - Let $X$ be the design matrix, with dimensions $n \\times (k+1)$.\n",
        "   - The first column of $X$ is typically a column of ones, representing the intercept term.\n",
        "   - The remaining columns correspond to the values of the independent variables for each observation.\n",
        "\n",
        "$$ X = \\begin{bmatrix} 1 & x_{11} & x_{12} & \\ldots & x_{1k} \\\\ 1 & x_{21} & x_{22} & \\ldots & x_{2k} \\\\ \\vdots & \\vdots & \\vdots & \\ddots & \\vdots \\\\ 1 & x_{n1} & x_{n2} & \\ldots & x_{nk} \\end{bmatrix} $$\n",
        "\n",
        "2. **Vector of Coefficients:**\n",
        "   - Let $\\beta$ be the vector of coefficients, with dimensions $(k+1) \\times 1$.\n",
        "   - The elements of $\\beta$ represent the intercept and the coefficients for the independent variables.\n",
        "\n",
        "$$ \\beta = \\begin{bmatrix} \\beta_0 \\\\ \\beta_1 \\\\ \\beta_2 \\\\ \\vdots \\\\ \\beta_k \\end{bmatrix} $$\n",
        "\n",
        "3. **Vector of Dependent Variables:**\n",
        "   - Let $Y$ be the vector of dependent variables, with dimensions $n \\times 1$.\n",
        "   - Each element of $Y$ corresponds to the dependent variable for each observation.\n",
        "\n",
        "$$ Y = \\begin{bmatrix} y_1 \\\\ y_2 \\\\ \\vdots \\\\ y_n \\end{bmatrix} $$\n",
        "\n",
        "4. **Error Vector:**\n",
        "   - Let $\\varepsilon$ be the vector of errors (residuals), with dimensions $n \\times 1$.\n",
        "   - Each element of $\\varepsilon$ represents the difference between the observed and predicted values.\n",
        "\n",
        "$$ \\varepsilon = \\begin{bmatrix} \\varepsilon_1 \\\\ \\varepsilon_2 \\\\ \\vdots \\\\ \\varepsilon_n \\end{bmatrix} $$\n",
        "\n",
        "The multiple linear regression model can be expressed in matrix notation as:\n",
        "\n",
        "$$ Y = X\\beta + \\varepsilon $$\n",
        "\n",
        "This equation captures the relationship between the dependent variable $Y$, the design matrix $X$, the coefficient vector $\\beta$, and the error vector $\\varepsilon$. The goal of regression analysis is to estimate the coefficients in $\\beta$ that minimize the sum of squared errors (least squares method). This estimation can be expressed in matrix form as:\n",
        "\n",
        "$$ \\hat{\\beta} = (X^TX)^{-1}X^TY $$\n",
        "\n",
        "where $\\hat{\\beta}$ represents the estimated coefficients. Matrix notation provides a concise and efficient way to represent and solve regression problems, especially with multiple variables."
      ]
    },
    {
      "cell_type": "markdown",
      "metadata": {
        "id": "dM5xRvk0lh5W"
      },
      "source": [
        "## Multiple Linear Regression Analysis from Scratch\n",
        "\n",
        "Below is an example of performing multiple regression from scratch in Python with four predictors, including summary statistics and R² values:"
      ]
    },
    {
      "cell_type": "code",
      "execution_count": null,
      "metadata": {
        "id": "xFtOvAtwlh5W",
        "outputId": "347d7d58-75ef-4a36-ba7c-6fbda4324136"
      },
      "outputs": [
        {
          "name": "stdout",
          "output_type": "stream",
          "text": [
            "Multiple Regression Results from Scratch\n",
            "========================================\n",
            "             Estimate  Std.Error  t.value p.value\n",
            "(Intercept)    2.0328     0.2144   9.4824  <0.001\n",
            "X1             3.1223     0.2354  13.2653  <0.001\n",
            "X2            -1.0952     0.2283  -4.7976  <0.001\n",
            "X3             0.3077     0.2009   1.5317  0.1289\n",
            "X4             1.9732     0.2027   9.7335  <0.001\n",
            "\n",
            "Residual standard error: 2.119 on 95 degrees of freedom\n",
            "Multiple R-squared: 0.7773\n"
          ]
        }
      ],
      "source": [
        "import numpy as np\n",
        "import pandas as pd\n",
        "from scipy import stats\n",
        "\n",
        "# Set seed for reproducibility\n",
        "np.random.seed(123)\n",
        "\n",
        "# Generate sample data\n",
        "n = 100  # Number of observations\n",
        "X = np.random.normal(size=(n, 4))  # Four predictors\n",
        "X = pd.DataFrame(X, columns=['X1', 'X2', 'X3', 'X4'])\n",
        "true_beta = np.array([2, 3, -1, 0.5, 2])  # True coefficients (intercept first)\n",
        "X_with_intercept = np.c_[np.ones(n), X]  # Design matrix with intercept\n",
        "error = np.random.normal(0, 2, n)  # Error term\n",
        "y = X_with_intercept @ true_beta + error  # Dependent variable\n",
        "\n",
        "# Calculate coefficients using normal equation\n",
        "XTX = X_with_intercept.T @ X_with_intercept\n",
        "beta_hat = np.linalg.inv(XTX) @ X_with_intercept.T @ y\n",
        "\n",
        "# Calculate residuals and R-squared\n",
        "y_hat = X_with_intercept @ beta_hat\n",
        "residuals = y - y_hat\n",
        "SS_residual = np.sum(residuals**2)\n",
        "SS_total = np.sum((y - np.mean(y))**2)\n",
        "R_squared = 1 - (SS_residual / SS_total)\n",
        "\n",
        "# Calculate standard errors and p-values\n",
        "df = n - len(beta_hat)  # Degrees of freedom\n",
        "sigma_sq_hat = SS_residual / df  # Residual variance estimate\n",
        "var_cov = sigma_sq_hat * np.linalg.inv(XTX)  # Variance-covariance matrix\n",
        "se = np.sqrt(np.diag(var_cov))  # Standard errors\n",
        "t_values = beta_hat / se  # t-statistics\n",
        "p_values = 2 * stats.t.sf(np.abs(t_values), df=df)  # p-values\n",
        "\n",
        "# Create summary table\n",
        "summary_df = pd.DataFrame({\n",
        "    'Estimate': np.round(beta_hat, 4),\n",
        "    'Std.Error': np.round(se, 4),\n",
        "    't.value': np.round(t_values, 4),\n",
        "    'p.value': np.where(p_values < 0.001, '<0.001', np.round(p_values, 4))\n",
        "}, index=['(Intercept)', 'X1', 'X2', 'X3', 'X4'])\n",
        "\n",
        "# Display results\n",
        "print(\"Multiple Regression Results from Scratch\")\n",
        "print(\"=\" * 40)\n",
        "print(summary_df)\n",
        "print(f\"\\nResidual standard error: {np.round(np.sqrt(sigma_sq_hat), 3)} on {df} degrees of freedom\")\n",
        "print(f\"Multiple R-squared: {np.round(R_squared, 4)}\")"
      ]
    },
    {
      "cell_type": "markdown",
      "metadata": {
        "id": "ryHgqzxflh5Y"
      },
      "source": [
        "## Multiple Linear Regression Analysis in Python\n",
        "\n",
        "In this section, we explore how to perform MLR in Python using the `statsmodels` library, interpret the results, and visualize the findings. We will also cover model diagnostics, performance evaluation, and relative importance of predictors."
      ]
    },
    {
      "cell_type": "markdown",
      "metadata": {
        "id": "fqILWFFJlh5Y"
      },
      "source": [
        "## Check and Install Required Packages\n",
        "\n",
        "Ensure the following Python packages are installed:"
      ]
    },
    {
      "cell_type": "code",
      "execution_count": null,
      "metadata": {
        "id": "HQvB0xVAlh5Y"
      },
      "outputs": [],
      "source": [
        "import importlib.util\n",
        "import sys\n",
        "\n",
        "# List of required packages\n",
        "packages = ['numpy', 'pandas', 'statsmodels', 'scikit-learn', 'matplotlib', 'seaborn', 'pingouin']\n",
        "\n",
        "# Check and install missing packages\n",
        "# Check and install missing packages\n",
        "for package in packages:\n",
        "    if not importlib.util.find_spec(package):\n",
        "        try:\n",
        "            import pip\n",
        "            pip.main(['install', package])\n",
        "        except ImportError:\n",
        "            print(f\"Failed to install {package}. Pip is not available.\")"
      ]
    },
    {
      "cell_type": "code",
      "execution_count": null,
      "metadata": {
        "id": "FCfrFW78lh5Z",
        "outputId": "ac23da80-f646-4582-bf33-145352e3df33"
      },
      "outputs": [
        {
          "name": "stderr",
          "output_type": "stream",
          "text": [
            "/usr/lib/python3/dist-packages/scipy/__init__.py:146: UserWarning: A NumPy version >=1.17.3 and <1.25.0 is required for this version of SciPy (detected version 1.26.4\n",
            "  warnings.warn(f\"A NumPy version >={np_minversion} and <{np_maxversion}\"\n"
          ]
        }
      ],
      "source": [
        "import pandas as pd\n",
        "import numpy as np\n",
        "import statsmodels.api as sm\n",
        "import statsmodels.formula.api as smf\n",
        "import matplotlib.pyplot as plt\n",
        "import seaborn as sns\n",
        "from statsmodels.stats.outliers_influence import variance_inflation_factor\n",
        "from sklearn.metrics import r2_score"
      ]
    },
    {
      "cell_type": "markdown",
      "metadata": {
        "id": "y3xPfYjKlh5Z"
      },
      "source": [
        "## Data\n",
        "\n",
        "We will use a sample dataset to demonstrate MLR. The dataset can be downloaded from [this GitHub repository](https://github.com/zia207/r-colab/raw/main/Data/Regression_analysis/gp_soil_data.csv)."
      ]
    },
    {
      "cell_type": "code",
      "execution_count": null,
      "metadata": {
        "id": "a4NBZ87Blh5Z",
        "outputId": "b02cb032-0d17-4c4d-aa19-2e508a9e3042"
      },
      "outputs": [
        {
          "name": "stdout",
          "output_type": "stream",
          "text": [
            "   ID   FIPS  STATE_ID    STATE          COUNTY   Longitude   Latitude  \\\n",
            "0   1  56041        56  Wyoming    Uinta County -111.011860  41.056300   \n",
            "1   2  56023        56  Wyoming  Lincoln County -110.982973  42.883497   \n",
            "2   3  56039        56  Wyoming    Teton County -110.806490  44.534970   \n",
            "3   4  56039        56  Wyoming    Teton County -110.734417  44.432886   \n",
            "4   5  56029        56  Wyoming     Park County -110.730790  44.806350   \n",
            "\n",
            "      SOC          DEM      Aspect     Slope       TPI   KFactor         MAP  \\\n",
            "0  15.763  2229.078613  159.187744  5.671615 -0.085724  0.320000  468.324493   \n",
            "1  15.883  1889.400146  156.878555  8.913812  4.559132  0.261212  536.352173   \n",
            "2  18.142  2423.048340  168.612350  4.774805  2.605887  0.216200  859.550903   \n",
            "3  10.745  2484.282715  198.353622  7.121811  5.146931  0.181667  869.472412   \n",
            "4  10.479  2396.194580  201.321487  7.949864  3.755706  0.125510  802.974304   \n",
            "\n",
            "        MAT      NDVI   SiltClay       NLCD                   FRG  \n",
            "0  4.595169  0.413939  64.842697  Shrubland  Fire Regime Group IV  \n",
            "1  3.859924  0.693953  72.004547  Shrubland  Fire Regime Group IV  \n",
            "2  0.885500  0.546603  57.187000     Forest   Fire Regime Group V  \n",
            "3  0.470781  0.619101  54.991665     Forest   Fire Regime Group V  \n",
            "4  0.758827  0.584472  51.228573     Forest   Fire Regime Group V  \n"
          ]
        }
      ],
      "source": [
        "# Load data\n",
        "mf = pd.read_csv(\"https://github.com/zia207/Python_for_Beginners/raw/refs/heads/main/Data/gp_soil_data.csv\")\n",
        "print(mf.head())"
      ]
    },
    {
      "cell_type": "markdown",
      "metadata": {
        "id": "SaC-oaTrlh5a"
      },
      "source": [
        "## Fit an MLR Model with Continuous Predictors\n",
        "\n",
        "We aim to create an MLR model incorporating predictors such as DEM (Digital Elevation Model), Slope, MAT (Mean Annual Temperature), MAP (Mean Annual Precipitation), and NDVI (Normalized Difference Vegetation Index) to predict soil organic carbon (SOC)."
      ]
    },
    {
      "cell_type": "code",
      "execution_count": null,
      "metadata": {
        "id": "T2gUSrfYlh5a",
        "outputId": "e034021c-22de-4730-f804-813eb3a941b4"
      },
      "outputs": [
        {
          "name": "stdout",
          "output_type": "stream",
          "text": [
            "                            OLS Regression Results                            \n",
            "==============================================================================\n",
            "Dep. Variable:                    SOC   R-squared:                       0.435\n",
            "Model:                            OLS   Adj. R-squared:                  0.429\n",
            "Method:                 Least Squares   F-statistic:                     71.09\n",
            "Date:                Fri, 12 Sep 2025   Prob (F-statistic):           4.64e-55\n",
            "Time:                        15:03:44   Log-Likelihood:                -1284.5\n",
            "No. Observations:                 467   AIC:                             2581.\n",
            "Df Residuals:                     461   BIC:                             2606.\n",
            "Df Model:                           5                                         \n",
            "Covariance Type:            nonrobust                                         \n",
            "==============================================================================\n",
            "                 coef    std err          t      P>|t|      [0.025      0.975]\n",
            "------------------------------------------------------------------------------\n",
            "const          2.2088      1.800      1.227      0.220      -1.329       5.746\n",
            "DEM           -0.0004      0.001     -0.705      0.481      -0.001       0.001\n",
            "Slope          0.1661      0.063      2.624      0.009       0.042       0.290\n",
            "MAT           -0.3239      0.082     -3.942      0.000      -0.485      -0.162\n",
            "MAP            0.0061      0.002      3.729      0.000       0.003       0.009\n",
            "NDVI           8.6687      2.070      4.188      0.000       4.602      12.736\n",
            "==============================================================================\n",
            "Omnibus:                       89.547   Durbin-Watson:                   1.956\n",
            "Prob(Omnibus):                  0.000   Jarque-Bera (JB):              208.742\n",
            "Skew:                           0.984   Prob(JB):                     4.70e-46\n",
            "Kurtosis:                       5.618   Cond. No.                     2.40e+04\n",
            "==============================================================================\n",
            "\n",
            "Notes:\n",
            "[1] Standard Errors assume that the covariance matrix of the errors is correctly specified.\n",
            "[2] The condition number is large, 2.4e+04. This might indicate that there are\n",
            "strong multicollinearity or other numerical problems.\n"
          ]
        }
      ],
      "source": [
        "# Create a DataFrame with selected variables\n",
        "df = mf[['SOC', 'DEM', 'Slope', 'MAT', 'MAP', 'NDVI']]\n",
        "\n",
        "# Fit an MLR model\n",
        "X = df[['DEM', 'Slope', 'MAT', 'MAP', 'NDVI']]\n",
        "X = sm.add_constant(X)  # Add intercept\n",
        "y = df['SOC']\n",
        "mlr_01 = sm.OLS(y, X).fit()\n",
        "\n",
        "# Display summary\n",
        "print(mlr_01.summary())"
      ]
    },
    {
      "cell_type": "markdown",
      "metadata": {
        "id": "OF_qjyAXlh5a"
      },
      "source": [
        "## Create a Regression Summary Table\n",
        "\n",
        "The `statsmodels` library provides a detailed summary of the regression model. For a custom summary table, you can extract relevant statistics:"
      ]
    },
    {
      "cell_type": "code",
      "execution_count": null,
      "metadata": {
        "id": "___czBvVlh5a",
        "outputId": "407200a7-a9e4-473b-bdb5-93e075066f40"
      },
      "outputs": [
        {
          "name": "stdout",
          "output_type": "stream",
          "text": [
            "       Estimate  Std.Error  t.value  p.value\n",
            "const    2.2088     1.8002   1.2270   0.2205\n",
            "DEM     -0.0004     0.0005  -0.7049   0.4812\n",
            "Slope    0.1661     0.0633   2.6243   0.0090\n",
            "MAT     -0.3239     0.0822  -3.9418   0.0001\n",
            "MAP      0.0061     0.0016   3.7289   0.0002\n",
            "NDVI     8.6687     2.0697   4.1884   0.0000\n"
          ]
        }
      ],
      "source": [
        "# Create a summary table\n",
        "summary_df = pd.DataFrame({\n",
        "    'Estimate': mlr_01.params,\n",
        "    'Std.Error': mlr_01.bse,\n",
        "    't.value': mlr_01.tvalues,\n",
        "    'p.value': mlr_01.pvalues\n",
        "}).round(4)\n",
        "print(summary_df)"
      ]
    },
    {
      "cell_type": "markdown",
      "metadata": {
        "id": "StAED7gFlh5a"
      },
      "source": [
        "## Model Performance\n",
        "\n",
        "To evaluate model performance, we can calculate metrics like R-squared and adjusted R-squared:"
      ]
    },
    {
      "cell_type": "code",
      "execution_count": null,
      "metadata": {
        "id": "_Kkj-3Bblh5b",
        "outputId": "3affd59e-aaca-400a-8d51-42d9c4eff0a7"
      },
      "outputs": [
        {
          "name": "stdout",
          "output_type": "stream",
          "text": [
            "R-squared: 0.4354\n",
            "Adjusted R-squared: 0.4293\n"
          ]
        }
      ],
      "source": [
        "# Model performance\n",
        "print(f\"R-squared: {mlr_01.rsquared:.4f}\")\n",
        "print(f\"Adjusted R-squared: {mlr_01.rsquared_adj:.4f}\")"
      ]
    },
    {
      "cell_type": "markdown",
      "metadata": {
        "id": "J1xJJH5Qlh5b"
      },
      "source": [
        "## Comprehensive Visualization of Model Checks\n",
        "\n",
        "To visualize model diagnostics, we can create plots for residuals, Q-Q plots, and fitted vs. residual plots:"
      ]
    },
    {
      "cell_type": "code",
      "execution_count": null,
      "metadata": {
        "id": "YB32OrdKlh5b",
        "outputId": "7edf74bd-aeba-4c31-dab7-b1aa7b2520f2"
      },
      "outputs": [
        {
          "data": {
            "image/png": "[encoded data removed]",
            "text/plain": [
              "<Figure size 650x400 with 1 Axes>"
            ]
          },
          "metadata": {},
          "output_type": "display_data"
        },
        {
          "data": {
            "image/png": "[encoded data removed]",
            "text/plain": [
              "<Figure size 650x400 with 1 Axes>"
            ]
          },
          "metadata": {},
          "output_type": "display_data"
        }
      ],
      "source": [
        "# Residuals vs Fitted\n",
        "plt.figure(figsize=(6.5, 4))\n",
        "sns.scatterplot(x=mlr_01.fittedvalues, y=mlr_01.resid)\n",
        "plt.axhline(0, color='red', linestyle='--')\n",
        "plt.xlabel('Fitted Values')\n",
        "plt.ylabel('Residuals')\n",
        "plt.title('Residuals vs Fitted')\n",
        "plt.show()\n",
        "\n",
        "# Q-Q Plot\n",
        "plt.figure(figsize=(6.5, 4))\n",
        "stats.probplot(mlr_01.resid, dist=\"norm\", plot=plt)\n",
        "plt.title('Q-Q Plot')\n",
        "plt.show()"
      ]
    },
    {
      "cell_type": "markdown",
      "metadata": {
        "id": "rFtz1enjlh5b"
      },
      "source": [
        "## Fit an MLR Model with Continuous and Categorical Predictors\n",
        "\n",
        "Now, we update the MLR model by adding categorical variables: NLCD (National Land Cover Database) and FRG (Forest Regimes)."
      ]
    },
    {
      "cell_type": "code",
      "execution_count": null,
      "metadata": {
        "id": "dOaHIrthlh5b",
        "outputId": "8910be24-2751-49f9-fcc8-3944dfb627e8"
      },
      "outputs": [
        {
          "name": "stdout",
          "output_type": "stream",
          "text": [
            "Data types in X:\n",
            " const                        float64\n",
            "DEM                          float64\n",
            "Slope                        float64\n",
            "MAT                          float64\n",
            "MAP                          float64\n",
            "NDVI                         float64\n",
            "NLCD_Herbaceous              float64\n",
            "NLCD_Planted/Cultivated      float64\n",
            "NLCD_Shrubland               float64\n",
            "FRG_Fire Regime Group II     float64\n",
            "FRG_Fire Regime Group III    float64\n",
            "FRG_Fire Regime Group IV     float64\n",
            "FRG_Fire Regime Group V      float64\n",
            "FRG_Indeterminate FRG        float64\n",
            "dtype: object\n",
            "                            OLS Regression Results                            \n",
            "==============================================================================\n",
            "Dep. Variable:                    SOC   R-squared:                       0.451\n",
            "Model:                            OLS   Adj. R-squared:                  0.436\n",
            "Method:                 Least Squares   F-statistic:                     28.67\n",
            "Date:                Fri, 12 Sep 2025   Prob (F-statistic):           3.86e-51\n",
            "Time:                        15:05:29   Log-Likelihood:                -1277.8\n",
            "No. Observations:                 467   AIC:                             2584.\n",
            "Df Residuals:                     453   BIC:                             2642.\n",
            "Df Model:                          13                                         \n",
            "Covariance Type:            nonrobust                                         \n",
            "=============================================================================================\n",
            "                                coef    std err          t      P>|t|      [0.025      0.975]\n",
            "---------------------------------------------------------------------------------------------\n",
            "const                         2.5289      2.832      0.893      0.372      -3.036       8.094\n",
            "DEM                          -0.0004      0.001     -0.657      0.511      -0.002       0.001\n",
            "Slope                         0.1555      0.069      2.267      0.024       0.021       0.290\n",
            "MAT                          -0.4005      0.101     -3.979      0.000      -0.598      -0.203\n",
            "MAP                           0.0068      0.002      3.800      0.000       0.003       0.010\n",
            "NDVI                          6.8284      2.452      2.785      0.006       2.009      11.647\n",
            "NLCD_Herbaceous              -1.4681      0.880     -1.669      0.096      -3.197       0.260\n",
            "NLCD_Planted/Cultivated      -1.6979      0.990     -1.716      0.087      -3.643       0.247\n",
            "NLCD_Shrubland               -1.1610      0.798     -1.455      0.146      -2.729       0.407\n",
            "FRG_Fire Regime Group II      2.8966      1.038      2.790      0.005       0.857       4.937\n",
            "FRG_Fire Regime Group III     1.5819      1.001      1.580      0.115      -0.386       3.550\n",
            "FRG_Fire Regime Group IV      1.1306      1.134      0.997      0.319      -1.098       3.359\n",
            "FRG_Fire Regime Group V       0.9571      1.391      0.688      0.492      -1.776       3.690\n",
            "FRG_Indeterminate FRG         1.7893      1.739      1.029      0.304      -1.629       5.207\n",
            "==============================================================================\n",
            "Omnibus:                       79.438   Durbin-Watson:                   1.987\n",
            "Prob(Omnibus):                  0.000   Jarque-Bera (JB):              183.708\n",
            "Skew:                           0.882   Prob(JB):                     1.28e-40\n",
            "Kurtosis:                       5.516   Cond. No.                     3.57e+04\n",
            "==============================================================================\n",
            "\n",
            "Notes:\n",
            "[1] Standard Errors assume that the covariance matrix of the errors is correctly specified.\n",
            "[2] The condition number is large, 3.57e+04. This might indicate that there are\n",
            "strong multicollinearity or other numerical problems.\n"
          ]
        }
      ],
      "source": [
        "# Create a DataFrame with selected variables\n",
        "df_02 = mf[['SOC', 'DEM', 'Slope', 'MAT', 'MAP', 'NDVI', 'NLCD', 'FRG']]\n",
        "\n",
        "# Drop rows with missing values (or impute as needed)\n",
        "df_02 = df_02.dropna()\n",
        "\n",
        "# Ensure categorical columns are strings\n",
        "df_02['NLCD'] = df_02['NLCD'].astype(str)\n",
        "df_02['FRG'] = df_02['FRG'].astype(str)\n",
        "\n",
        "# Convert categorical variables to dummy variables\n",
        "df_02 = pd.get_dummies(df_02, columns=['NLCD', 'FRG'], drop_first=True)\n",
        "\n",
        "# Ensure all columns in X are numeric\n",
        "X = df_02.drop('SOC', axis=1)\n",
        "X = X.astype(float)  # Convert to float\n",
        "X = sm.add_constant(X)  # Add intercept\n",
        "y = df_02['SOC'].astype(float)  # Ensure y is numeric\n",
        "\n",
        "# Check data types\n",
        "print(\"Data types in X:\\n\", X.dtypes)\n",
        "\n",
        "# Fit the MLR model\n",
        "mlr_02 = sm.OLS(y, X).fit()\n",
        "\n",
        "# Display summary\n",
        "print(mlr_02.summary())"
      ]
    },
    {
      "cell_type": "markdown",
      "metadata": {
        "id": "DP5YiSKClh5c"
      },
      "source": [
        "## Model Performance"
      ]
    },
    {
      "cell_type": "code",
      "execution_count": null,
      "metadata": {
        "id": "UESmhuo0lh5c",
        "outputId": "13666378-8200-460d-ac1b-aeaf719ddde6"
      },
      "outputs": [
        {
          "name": "stdout",
          "output_type": "stream",
          "text": [
            "R-squared: 0.4514\n",
            "Adjusted R-squared: 0.4356\n"
          ]
        }
      ],
      "source": [
        "# Model performance\n",
        "print(f\"R-squared: {mlr_02.rsquared:.4f}\")\n",
        "print(f\"Adjusted R-squared: {mlr_02.rsquared_adj:.4f}\")"
      ]
    },
    {
      "cell_type": "markdown",
      "metadata": {
        "id": "6kgMpEazlh5c"
      },
      "source": [
        "## Model Comparison\n",
        "\n",
        "To compare the performance of `mlr_01` and `mlr_02`, we can compare their R-squared and adjusted R-squared values:"
      ]
    },
    {
      "cell_type": "code",
      "execution_count": null,
      "metadata": {
        "id": "zPkZCzWSlh5c",
        "outputId": "8c02ffca-c2a6-4c8a-c6af-9aa186012dde"
      },
      "outputs": [
        {
          "name": "stdout",
          "output_type": "stream",
          "text": [
            "    Model  R-squared  Adjusted R-squared\n",
            "0  mlr_01     0.4354              0.4293\n",
            "1  mlr_02     0.4514              0.4356\n"
          ]
        }
      ],
      "source": [
        "# Model comparison\n",
        "comparison_df = pd.DataFrame({\n",
        "    'Model': ['mlr_01', 'mlr_02'],\n",
        "    'R-squared': [mlr_01.rsquared, mlr_02.rsquared],\n",
        "    'Adjusted R-squared': [mlr_01.rsquared_adj, mlr_02.rsquared_adj]\n",
        "}).round(4)\n",
        "print(comparison_df)"
      ]
    },
    {
      "cell_type": "markdown",
      "metadata": {
        "id": "tSw3F454lh5d"
      },
      "source": [
        "## Visualizing Model Predictions\n",
        "\n",
        "To visualize the effect of a predictor (e.g., NDVI) on the dependent variable:"
      ]
    },
    {
      "cell_type": "code",
      "execution_count": null,
      "metadata": {
        "id": "ChPUrhenlh5d",
        "outputId": "e70ef10a-fbe8-4f88-a56a-ea50fdc390a2"
      },
      "outputs": [
        {
          "data": {
            "image/png": "[encoded data removed]",
            "text/plain": [
              "<Figure size 650x400 with 1 Axes>"
            ]
          },
          "metadata": {},
          "output_type": "display_data"
        }
      ],
      "source": [
        "# Effect of a continuous variable (NDVI)\n",
        "plt.figure(figsize=(6.5, 4))\n",
        "sns.scatterplot(x=df['NDVI'], y=df['SOC'], label='Data')\n",
        "x_range = np.linspace(df['NDVI'].min(), df['NDVI'].max(), 100)\n",
        "X_pred = pd.DataFrame({\n",
        "    'const': 1,\n",
        "    'DEM': df['DEM'].mean(),\n",
        "    'Slope': df['Slope'].mean(),\n",
        "    'MAT': df['MAT'].mean(),\n",
        "    'MAP': df['MAP'].mean(),\n",
        "    'NDVI': x_range\n",
        "})\n",
        "y_pred = mlr_01.predict(X_pred)\n",
        "plt.plot(x_range, y_pred, color='red', label='Prediction')\n",
        "plt.xlabel('NDVI')\n",
        "plt.ylabel('SOC')\n",
        "plt.title('Effect of NDVI on SOC')\n",
        "plt.legend()\n",
        "plt.show()"
      ]
    },
    {
      "cell_type": "markdown",
      "metadata": {
        "id": "VL4iFedplh5d"
      },
      "source": [
        "## Variance Inflation Factors (VIF)\n",
        "\n",
        "VIF measures multicollinearity among predictors. A VIF greater than 5 or 10 indicates potential multicollinearity issues."
      ]
    },
    {
      "cell_type": "code",
      "execution_count": null,
      "metadata": {
        "id": "dq55nODDlh5d",
        "outputId": "ec07993e-bae6-4a44-86c6-5002e32e6f47"
      },
      "outputs": [
        {
          "name": "stdout",
          "output_type": "stream",
          "text": [
            "  Variable        VIF\n",
            "0      DEM   6.898868\n",
            "1    Slope   5.185288\n",
            "2      MAT   4.869143\n",
            "3      MAP  24.563212\n",
            "4     NDVI  26.063162\n"
          ]
        }
      ],
      "source": [
        "# Calculate VIF\n",
        "X = df[['DEM', 'Slope', 'MAT', 'MAP', 'NDVI']]\n",
        "vif_data = pd.DataFrame()\n",
        "vif_data['Variable'] = X.columns\n",
        "vif_data['VIF'] = [variance_inflation_factor(X.values, i) for i in range(X.shape[1])]\n",
        "print(vif_data)"
      ]
    },
    {
      "cell_type": "markdown",
      "metadata": {
        "id": "VhnJHOeflh5e"
      },
      "source": [
        "## Relative Importance\n",
        "\n",
        "To calculate the relative importance of predictors, we can use the `shap` library or compute standardized coefficients:"
      ]
    },
    {
      "cell_type": "code",
      "execution_count": null,
      "metadata": {
        "id": "3DafcS3wlh5e",
        "outputId": "33c2467b-de4c-4152-98c3-949c31f10990"
      },
      "outputs": [
        {
          "name": "stdout",
          "output_type": "stream",
          "text": [
            "Standardized Coefficients:\n",
            "DEM     -0.0588\n",
            "Slope    0.1548\n",
            "MAT     -0.2634\n",
            "MAP      0.2505\n",
            "NDVI     0.2781\n",
            "dtype: float64\n"
          ]
        }
      ],
      "source": [
        "# Standardized coefficients\n",
        "X_std = (X - X.mean()) / X.std()\n",
        "X_std = sm.add_constant(X_std)\n",
        "mlr_std = sm.OLS((y - y.mean()) / y.std(), X_std).fit()\n",
        "print(\"Standardized Coefficients:\")\n",
        "print(mlr_std.params[1:].round(4))  # Exclude intercept"
      ]
    },
    {
      "cell_type": "markdown",
      "metadata": {
        "id": "Zg2ebWNvlh5e"
      },
      "source": [
        "## Summary and Conclusion\n",
        "\n",
        "This tutorial provided a comprehensive overview of Multiple Linear Regression using Python, a powerful tool for modeling relationships between multiple variables. We covered data preparation, model building, and evaluation using `statsmodels`. By fitting MLR models, we interpreted coefficients to understand predictor impacts on the response variable. Diagnostic plots and statistical tests validated model assumptions.\n",
        "\n",
        "MLR is crucial in fields like finance, economics, and social sciences, enabling informed predictions and insights into complex variable interactions. To further enhance your models, explore advanced topics like feature engineering, interaction terms, and regularization. This tutorial serves as a foundation for applying MLR to your datasets, uncovering patterns and relationships that drive meaningful insights."
      ]
    },
    {
      "cell_type": "markdown",
      "metadata": {
        "id": "FLDoEqjllh5e"
      },
      "source": [
        "## Resources\n",
        "\n",
        "1. [Statsmodels Documentation](https://www.statsmodels.org/stable/index.html)\n",
        "2. [Scikit-learn Documentation](https://scikit-learn.org/stable/)\n",
        "3. [Pandas Documentation](https://pandas.pydata.org/)\n",
        "4. [Seaborn Documentation](https://seaborn.pydata.org/)"
      ]
    }
  ],
  "metadata": {
    "colab": {
      "include_colab_link": true,
      "provenance": []
    },
    "kernelspec": {
      "display_name": "Python 3",
      "language": "python",
      "name": "python3"
    },
    "language_info": {
      "codemirror_mode": {
        "name": "ipython",
        "version": 3
      },
      "file_extension": ".py",
      "mimetype": "text/x-python",
      "name": "python",
      "nbconvert_exporter": "python",
      "pygments_lexer": "ipython3",
      "version": "3.10.12"
    }
  },
  "nbformat": 4,
  "nbformat_minor": 0
}
