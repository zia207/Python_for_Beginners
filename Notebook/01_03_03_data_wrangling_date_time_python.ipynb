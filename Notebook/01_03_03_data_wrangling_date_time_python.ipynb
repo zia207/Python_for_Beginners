{
 "cells": [
  {
   "cell_type": "markdown",
   "metadata": {},
   "source": [
    "\n",
    "<a href=\"https://github.com/zia207/python-colab/blob/main/NoteBook/Python_for_Beginners/01-03-03-data-wrangling-date-time-python.ipynb\" target=\"_parent\"><img src=\"https://colab.research.google.com/assets/colab-badge.svg\" alt=\"Open In Colab\"/></a>"
   ]
  },
  {
   "cell_type": "markdown",
   "metadata": {},
   "source": [
    "![alt text](http://drive.google.com/uc?export=view&id=1IFEWet-Aw4DhkkVe1xv_2YYqlvRe9m5_)"
   ]
  },
  {
   "cell_type": "markdown",
   "metadata": {},
   "source": [
    "# 3.3 Working with Dates and Times using `pandas` and `pytz`\n"
   ]
  },
  {
   "cell_type": "markdown",
   "metadata": {},
   "source": [
    "\n",
    "\n",
    "Date and time data are often messy, inconsistent, and challenging to work with — whether you're dealing with different formats like \"2025-04-10\", \"10/04/2025\", or \"April 10, 2025\". In R, `lubridate` simplifies this process. In Python, **`pandas`** is the go-to package for cleaning, parsing, extracting, and manipulating datetime data — and it does so with remarkable ease.\n",
    "\n",
    "This tutorial will show you how to:\n",
    "- Parse inconsistent date strings\n",
    "- Extract components (year, month, day, hour, etc.)\n",
    "- Filter, group, and manipulate datetime data\n",
    "- Handle time zones\n",
    "- Construct new datetime values from parts\n",
    "\n",
    "We'll use:\n",
    "- `pandas` — for parsing, extracting, and manipulating dates/times\n",
    "- `pytz` — for advanced timezone handling (optional but recommended)"
   ]
  },
  {
   "cell_type": "markdown",
   "metadata": {},
   "source": [
    "### Prerequisites\n",
    "\n",
    "Install the required packages:"
   ]
  },
  {
   "cell_type": "code",
   "execution_count": null,
   "metadata": {},
   "outputs": [],
   "source": [
    "import importlib.util\n",
    "import sys\n",
    "\n",
    "# List of required packages\n",
    "packages = ['pandas', 'pytz']\n",
    "\n",
    "# Check and install missing packages\n",
    "for package in packages:\n",
    "    if not importlib.util.find_spec(package):\n",
    "        try:\n",
    "            import pip\n",
    "            pip.main(['install', package])\n",
    "        except ImportError:\n",
    "            print(f\"Failed to install {package}. Pip is not available.\")\n",
    "\n",
    "# Import packages\n",
    "import pandas as pd\n",
    "import pytz\n",
    "import numpy as np\n",
    "from datetime import datetime"
   ]
  },
  {
   "cell_type": "code",
   "execution_count": 2,
   "metadata": {},
   "outputs": [
    {
     "name": "stdout",
     "output_type": "stream",
     "text": [
      "pandas installed: True\n",
      "pytz installed: True\n"
     ]
    }
   ],
   "source": [
    "# Verify package availability\n",
    "for package in packages:\n",
    "    print(f\"{package} installed: {bool(importlib.util.find_spec(package))}\")"
   ]
  },
  {
   "cell_type": "code",
   "execution_count": 3,
   "metadata": {},
   "outputs": [],
   "source": [
    "# Optional: Set display options for better readability\n",
    "pd.set_option('display.max_columns', None)\n",
    "pd.set_option('display.width', None)"
   ]
  },
  {
   "cell_type": "markdown",
   "metadata": {},
   "source": [
    "### Simulate the Dataset\n",
    "\n",
    "Let's recreate the messy dataset from the R example:"
   ]
  },
  {
   "cell_type": "code",
   "execution_count": 4,
   "metadata": {},
   "outputs": [
    {
     "name": "stdout",
     "output_type": "stream",
     "text": [
      "   id   name        raw_date           timestamp\n",
      "0   1  Carol  April 10, 2025 2025-04-10 11:00:00\n",
      "1   2    Bob      10/04/2025 2025-04-10 12:00:00\n",
      "2   3  Carol      2025-04-10 2025-04-10 08:00:00\n",
      "3   4  Carol      10/04/2025 2025-04-10 08:00:00\n",
      "4   5  Alice  April 10, 2025 2025-04-10 12:00:00\n",
      "5   6  Carol      10/04/2025 2025-04-10 09:00:00\n",
      "6   7  Carol      2025-04-10 2025-04-10 15:00:00\n",
      "7   8    Bob  April 10, 2025 2025-04-10 11:00:00\n",
      "8   9  Carol      2025-04-10 2025-04-10 10:00:00\n",
      "9  10    Bob      10/04/2025 2025-04-10 12:00:00\n"
     ]
    },
    {
     "name": "stderr",
     "output_type": "stream",
     "text": [
      "/tmp/ipykernel_26865/609433597.py:12: FutureWarning: 'H' is deprecated and will be removed in a future version, please use 'h' instead.\n",
      "  pd.date_range(start='2025-04-10 08:00', end='2025-04-10 18:00', freq='H'),\n"
     ]
    }
   ],
   "source": [
    "np.random.seed(123)\n",
    "\n",
    "df = pd.DataFrame({\n",
    "    'id': range(1, 11),\n",
    "    'name': np.random.choice(['Alice', 'Bob', 'Carol'], size=10),\n",
    "    'raw_date': np.random.choice([\n",
    "        '2025-04-10',\n",
    "        '10/04/2025',\n",
    "        'April 10, 2025'\n",
    "    ], size=10),\n",
    "    'timestamp': pd.to_datetime(np.random.choice(\n",
    "        pd.date_range(start='2025-04-10 08:00', end='2025-04-10 18:00', freq='H'),\n",
    "        size=10\n",
    "    ))\n",
    "})\n",
    "\n",
    "print(df)"
   ]
  },
  {
   "cell_type": "markdown",
   "metadata": {},
   "source": [
    "### Parse Inconsistent Date Formats\n",
    "\n",
    "In R, `parse_date_time()` handles multiple formats automatically. In pandas, we use `pd.to_datetime()` — which is *even smarter* than `lubridate`'s parser and auto-detects most common formats."
   ]
  },
  {
   "cell_type": "code",
   "execution_count": 8,
   "metadata": {},
   "outputs": [
    {
     "name": "stdout",
     "output_type": "stream",
     "text": [
      "         raw_date parsed_date\n",
      "0  April 10, 2025  2025-04-10\n",
      "1      10/04/2025  2025-10-04\n",
      "2      2025-04-10  2025-04-10\n",
      "3      10/04/2025  2025-10-04\n",
      "4  April 10, 2025  2025-04-10\n",
      "5      10/04/2025  2025-10-04\n",
      "6      2025-04-10  2025-04-10\n",
      "7  April 10, 2025  2025-04-10\n",
      "8      2025-04-10  2025-04-10\n",
      "9      10/04/2025  2025-10-04\n"
     ]
    }
   ],
   "source": [
    "# Parse the messy 'raw_date' column\n",
    "df['parsed_date'] = pd.to_datetime(df['raw_date'], format='mixed')\n",
    "\n",
    "print(df[['raw_date', 'parsed_date']])"
   ]
  },
  {
   "cell_type": "markdown",
   "metadata": {},
   "source": [
    "Pandas automatically recognizes \"2025-04-10\" (ISO), \"10/04/2025\" (DD/MM/YYYY), and \"April 10, 2025\" (month name format)!\n",
    "\n",
    "> Tip: If automatic detection fails, use `format=` parameter:  \n",
    "> `pd.to_datetime(date_str, format='%B %d, %Y')` for explicit formatting."
   ]
  },
  {
   "cell_type": "markdown",
   "metadata": {},
   "source": [
    "### Extract Date Components\n",
    "\n",
    "Just like `year()`, `month()`, `day()`, etc., in `lubridate`, pandas provides `.dt` accessor:"
   ]
  },
  {
   "cell_type": "code",
   "execution_count": 9,
   "metadata": {},
   "outputs": [
    {
     "name": "stdout",
     "output_type": "stream",
     "text": [
      "  parsed_date  year  month month_name  day   weekday  hour  minute\n",
      "0  2025-04-10  2025      4      April   10  Thursday    11       0\n",
      "1  2025-10-04  2025     10    October    4  Saturday    12       0\n",
      "2  2025-04-10  2025      4      April   10  Thursday     8       0\n",
      "3  2025-10-04  2025     10    October    4  Saturday     8       0\n",
      "4  2025-04-10  2025      4      April   10  Thursday    12       0\n",
      "5  2025-10-04  2025     10    October    4  Saturday     9       0\n",
      "6  2025-04-10  2025      4      April   10  Thursday    15       0\n",
      "7  2025-04-10  2025      4      April   10  Thursday    11       0\n",
      "8  2025-04-10  2025      4      April   10  Thursday    10       0\n",
      "9  2025-10-04  2025     10    October    4  Saturday    12       0\n"
     ]
    }
   ],
   "source": [
    "df['year'] = df['parsed_date'].dt.year\n",
    "df['month'] = df['parsed_date'].dt.month\n",
    "df['month_name'] = df['parsed_date'].dt.month_name()  # Full name: \"April\"\n",
    "df['day'] = df['parsed_date'].dt.day\n",
    "df['weekday'] = df['parsed_date'].dt.day_name()       # Full weekday: \"Thursday\"\n",
    "df['hour'] = df['timestamp'].dt.hour\n",
    "df['minute'] = df['timestamp'].dt.minute\n",
    "\n",
    "print(df[['parsed_date', 'year', 'month', 'month_name', 'day', 'weekday', 'hour', 'minute']])"
   ]
  },
  {
   "cell_type": "markdown",
   "metadata": {},
   "source": [
    " `month_name()` and `day_name()` return readable labels — just like `label=TRUE` in `lubridate`."
   ]
  },
  {
   "cell_type": "markdown",
   "metadata": {},
   "source": [
    "### Reformat Dates (Like `format()` in R)\n",
    "\n",
    "Convert the parsed date to a custom string format:"
   ]
  },
  {
   "cell_type": "code",
   "execution_count": 10,
   "metadata": {},
   "outputs": [
    {
     "name": "stdout",
     "output_type": "stream",
     "text": [
      "  parsed_date date_reformatted\n",
      "0  2025-04-10      10-Apr-2025\n",
      "1  2025-10-04      04-Oct-2025\n",
      "2  2025-04-10      10-Apr-2025\n",
      "3  2025-10-04      04-Oct-2025\n",
      "4  2025-04-10      10-Apr-2025\n",
      "5  2025-10-04      04-Oct-2025\n",
      "6  2025-04-10      10-Apr-2025\n",
      "7  2025-04-10      10-Apr-2025\n",
      "8  2025-04-10      10-Apr-2025\n",
      "9  2025-10-04      04-Oct-2025\n"
     ]
    }
   ],
   "source": [
    "df['date_reformatted'] = df['parsed_date'].dt.strftime('%d-%b-%Y')\n",
    "\n",
    "print(df[['parsed_date', 'date_reformatted']])"
   ]
  },
  {
   "cell_type": "markdown",
   "metadata": {},
   "source": [
    "> `%d` = day, `%b` = abbreviated month, `%Y` = 4-digit year."
   ]
  },
  {
   "cell_type": "markdown",
   "metadata": {},
   "source": [
    "### Filter Data by Time\n",
    "\n",
    "Filter rows where the timestamp is after 12 PM (noon):"
   ]
  },
  {
   "cell_type": "code",
   "execution_count": 11,
   "metadata": {},
   "outputs": [
    {
     "name": "stdout",
     "output_type": "stream",
     "text": [
      "    name           timestamp  hour\n",
      "6  Carol 2025-04-10 15:00:00    15\n"
     ]
    }
   ],
   "source": [
    "df_after_noon = df[df['hour'] > 12]\n",
    "\n",
    "print(df_after_noon[['name', 'timestamp', 'hour']])"
   ]
  },
  {
   "cell_type": "markdown",
   "metadata": {},
   "source": [
    "### Group by Weekday\n",
    "\n",
    "Group and count entries by weekday:"
   ]
  },
  {
   "cell_type": "code",
   "execution_count": 12,
   "metadata": {},
   "outputs": [
    {
     "name": "stdout",
     "output_type": "stream",
     "text": [
      "    weekday  entries\n",
      "0  Saturday        4\n",
      "1  Thursday        6\n"
     ]
    }
   ],
   "source": [
    "grouped_by_weekday = df.groupby('weekday').size().reset_index(name='entries')\n",
    "\n",
    "print(grouped_by_weekday)"
   ]
  },
  {
   "cell_type": "markdown",
   "metadata": {},
   "source": [
    "### Construct New Datetime from Parts\n",
    "\n",
    "In R, you used `make_datetime(year, month, day, hour, min)`. In pandas, use `pd.Timestamp` or `pd.to_datetime()` with a dictionary:"
   ]
  },
  {
   "cell_type": "code",
   "execution_count": 13,
   "metadata": {},
   "outputs": [
    {
     "name": "stdout",
     "output_type": "stream",
     "text": [
      "  parsed_date           timestamp       full_datetime\n",
      "0  2025-04-10 2025-04-10 11:00:00 2025-04-10 11:00:00\n",
      "1  2025-10-04 2025-04-10 12:00:00 2025-10-04 12:00:00\n",
      "2  2025-04-10 2025-04-10 08:00:00 2025-04-10 08:00:00\n",
      "3  2025-10-04 2025-04-10 08:00:00 2025-10-04 08:00:00\n",
      "4  2025-04-10 2025-04-10 12:00:00 2025-04-10 12:00:00\n"
     ]
    }
   ],
   "source": [
    "df['full_datetime'] = pd.to_datetime(\n",
    "    dict(\n",
    "        year=df['year'],\n",
    "        month=df['month'],\n",
    "        day=df['day'],\n",
    "        hour=df['hour'],\n",
    "        minute=df['minute']\n",
    "    )\n",
    ")\n",
    "\n",
    "print(df[['parsed_date', 'timestamp', 'full_datetime']].head())"
   ]
  },
  {
   "cell_type": "markdown",
   "metadata": {},
   "source": [
    "You now have a clean, constructed datetime combining date and time parts!"
   ]
  },
  {
   "cell_type": "markdown",
   "metadata": {},
   "source": [
    "### Handle Time Zones\n",
    "\n",
    "In R, you used `with_tz()` and `force_tz()`. In Python, we use `pytz` with pandas.\n",
    "\n",
    "#### Step 1: Assign a timezone (e.g., America/New_York)"
   ]
  },
  {
   "cell_type": "code",
   "execution_count": 14,
   "metadata": {},
   "outputs": [],
   "source": [
    "# Assume original timestamps are in US Eastern Time\n",
    "df['full_datetime_est'] = df['full_datetime'].dt.tz_localize('America/New_York')"
   ]
  },
  {
   "cell_type": "markdown",
   "metadata": {},
   "source": [
    "#### Step 2: Convert to UTC and Tokyo"
   ]
  },
  {
   "cell_type": "code",
   "execution_count": 15,
   "metadata": {},
   "outputs": [
    {
     "name": "stdout",
     "output_type": "stream",
     "text": [
      "        full_datetime         full_datetime_est         full_datetime_utc  \\\n",
      "0 2025-04-10 11:00:00 2025-04-10 11:00:00-04:00 2025-04-10 15:00:00+00:00   \n",
      "1 2025-10-04 12:00:00 2025-10-04 12:00:00-04:00 2025-10-04 16:00:00+00:00   \n",
      "2 2025-04-10 08:00:00 2025-04-10 08:00:00-04:00 2025-04-10 12:00:00+00:00   \n",
      "3 2025-10-04 08:00:00 2025-10-04 08:00:00-04:00 2025-10-04 12:00:00+00:00   \n",
      "4 2025-04-10 12:00:00 2025-04-10 12:00:00-04:00 2025-04-10 16:00:00+00:00   \n",
      "\n",
      "        full_datetime_tokyo  \n",
      "0 2025-04-11 00:00:00+09:00  \n",
      "1 2025-10-05 01:00:00+09:00  \n",
      "2 2025-04-10 21:00:00+09:00  \n",
      "3 2025-10-04 21:00:00+09:00  \n",
      "4 2025-04-11 01:00:00+09:00  \n"
     ]
    }
   ],
   "source": [
    "# Convert to UTC\n",
    "df['full_datetime_utc'] = df['full_datetime_est'].dt.tz_convert('UTC')\n",
    "\n",
    "# Convert to Tokyo\n",
    "df['full_datetime_tokyo'] = df['full_datetime_est'].dt.tz_convert('Asia/Tokyo')\n",
    "\n",
    "print(df[['full_datetime', 'full_datetime_est', 'full_datetime_utc', 'full_datetime_tokyo']].head())"
   ]
  },
  {
   "cell_type": "markdown",
   "metadata": {},
   "source": [
    "Notice: Tokyo is 13 hours ahead of EST (during daylight saving).  \n",
    "`tz_localize()` assigns a timezone (assumes local time).  \n",
    "`tz_convert()` changes the timezone without changing the absolute moment in time."
   ]
  },
  {
   "cell_type": "markdown",
   "metadata": {},
   "source": [
    "## Summary and Key Takeaways\n",
    "\n",
    "| R (`lubridate`) | Python (`pandas`) |\n",
    "|------------------|-------------------|\n",
    "| `ymd()`, `ymd_hms`,`dmy()`,`dmy_hms`,`mdy()`, ... | `pd.to_datetime()` — auto-detects all |\n",
    "| `parse_date_time(..., orders=...)` | `pd.to_datetime()` — even smarter! |\n",
    "| `year()`, `month()`, `day()` | `series.dt.year`, `series.dt.month`, `series.dt.day` |\n",
    "| `month(..., label=TRUE)` | `series.dt.month_name()` |\n",
    "| `wday(..., label=TRUE)` | `series.dt.day_name()` |\n",
    "| `hour()`, `minute()` | `series.dt.hour`, `series.dt.minute` |\n",
    "| `format(..., \"%d-%b-%Y\")` | `series.dt.strftime(\"%d-%b-%Y\")` |\n",
    "| `make_datetime()` | `pd.to_datetime(dict(year=..., month=..., ...))` |\n",
    "| `with_tz(x, \"UTC\")` | `x.dt.tz_convert(\"UTC\")` |\n",
    "| `force_tz(x, \"UTC\")` | `x.dt.tz_localize(None).dt.tz_convert(\"UTC\")` |\n",
    "\n",
    "## Final Thoughts\n",
    "\n",
    "While `lubridate` revolutionized date-time handling in R, **`pandas` brings even greater power and flexibility to Python**. It:\n",
    "- Auto-parses complex formats out-of-the-box\n",
    "- Has a consistent `.dt` accessor for all datetime operations\n",
    "- Integrates seamlessly with `DataFrame` operations\n",
    "- Handles timezones reliably with `pytz`\n",
    "\n",
    "You don't need a separate \"lubridate for Python\" — **`pandas` is it**."
   ]
  },
  {
   "cell_type": "markdown",
   "metadata": {},
   "source": [
    "## Resources\n",
    "\n",
    "- [pandas Timestamp Documentation](https://pandas.pydata.org/docs/reference/api/pandas.Timestamp.html)\n",
    "- [pandas Datetime Properties](https://pandas.pydata.org/docs/user_guide/timeseries.html#time-date-components)\n",
    "- [pytz Documentation](https://pythonhosted.org/pytz/)\n",
    "- [Python Datetime Guide (Real Python)](https://realpython.com/python-datetime/)\n"
   ]
  }
 ],
 "metadata": {
  "kernelspec": {
   "display_name": "3.11.11",
   "language": "python",
   "name": "python3"
  },
  "language_info": {
   "codemirror_mode": {
    "name": "ipython",
    "version": 3
   },
   "file_extension": ".py",
   "mimetype": "text/x-python",
   "name": "python",
   "nbconvert_exporter": "python",
   "pygments_lexer": "ipython3",
   "version": "3.11.11"
  }
 },
 "nbformat": 4,
 "nbformat_minor": 4
}
